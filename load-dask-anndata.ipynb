{
 "cells": [
  {
   "cell_type": "code",
   "execution_count": 1,
   "metadata": {},
   "outputs": [],
   "source": [
    "import sys\n",
    "from pathlib import Path\n",
    "cwd = Path.cwd()\n",
    "sys.path = [ str(cwd), ] + sys.path"
   ]
  },
  {
   "cell_type": "code",
   "execution_count": 2,
   "metadata": {},
   "outputs": [],
   "source": [
    "import zarr\n",
    "import h5py as h5"
   ]
  },
  {
   "cell_type": "code",
   "execution_count": 3,
   "metadata": {},
   "outputs": [
    {
     "data": {
      "text/html": [
       "<link rel=\"stylesheet\" href=\"//cdnjs.cloudflare.com/ajax/libs/jstree/3.3.3/themes/default/style.min.css\"/><div id=\"071c78ba-ec5e-47ae-9586-7921b5382c12\" class=\"zarr-tree\"><ul><li data-jstree='{\"type\": \"File\"}' class='jstree-open'><span>/</span><ul><li data-jstree='{\"type\": \"Group\"}' class=''><span>X</span><ul><li data-jstree='{\"type\": \"Dataset\"}' class=''><span>data (2000,) float32</span></li><li data-jstree='{\"type\": \"Dataset\"}' class=''><span>indices (2000,) int32</span></li><li data-jstree='{\"type\": \"Dataset\"}' class=''><span>indptr (201,) int32</span></li></ul></li><li data-jstree='{\"type\": \"Dataset\"}' class=''><span>obs (100,) [('index', 'O'), ('label', 'O'), ('idx²', '<i8'), ('Prime', '?')]</span></li><li data-jstree='{\"type\": \"Dataset\"}' class=''><span>var (200,) [('index', 'O'), ('name', 'O'), ('sqrt(idx)', '<f8')]</span></li></ul></li></ul></div>\n",
       "<script>\n",
       "    if (!require.defined('jquery')) {\n",
       "        require.config({\n",
       "            paths: {\n",
       "                jquery: '//cdnjs.cloudflare.com/ajax/libs/jquery/1.12.1/jquery.min'\n",
       "            },\n",
       "        });\n",
       "    }\n",
       "    if (!require.defined('jstree')) {\n",
       "        require.config({\n",
       "            paths: {\n",
       "                jstree: '//cdnjs.cloudflare.com/ajax/libs/jstree/3.3.3/jstree.min'\n",
       "            },\n",
       "        });\n",
       "    }\n",
       "    require(['jstree'], function() {\n",
       "        $('#071c78ba-ec5e-47ae-9586-7921b5382c12').jstree({\n",
       "            types: {\n",
       "                Group: {\n",
       "                    icon: \"fa fa-folder\"\n",
       "                },\n",
       "                Array: {\n",
       "                    icon: \"fa fa-table\"\n",
       "                }\n",
       "            },\n",
       "            plugins: [\"types\"]\n",
       "        });\n",
       "    });\n",
       "</script>\n"
      ],
      "text/plain": [
       "/\n",
       " ├── X\n",
       " │   ├── data (2000,) float32\n",
       " │   ├── indices (2000,) int32\n",
       " │   └── indptr (201,) int32\n",
       " ├── obs (100,) [('index', 'O'), ('label', 'O'), ('idx²', '<i8'), ('Prime', '?')]\n",
       " └── var (200,) [('index', 'O'), ('name', 'O'), ('sqrt(idx)', '<f8')]"
      ]
     },
     "execution_count": 3,
     "metadata": {},
     "output_type": "execute_result"
    }
   ],
   "source": [
    "old_path = 'old.h5ad'\n",
    "old_h5 = h5.File(old_path, 'r')\n",
    "zarr.tree(old_h5)"
   ]
  },
  {
   "cell_type": "code",
   "execution_count": 4,
   "metadata": {},
   "outputs": [
    {
     "data": {
      "text/html": [
       "<link rel=\"stylesheet\" href=\"//cdnjs.cloudflare.com/ajax/libs/jstree/3.3.3/themes/default/style.min.css\"/><div id=\"3c02f3d4-fe87-4755-b250-d9bd2c470cec\" class=\"zarr-tree\"><ul><li data-jstree='{\"type\": \"File\"}' class='jstree-open'><span>/</span><ul><li data-jstree='{\"type\": \"Group\"}' class=''><span>X</span><ul><li data-jstree='{\"type\": \"Dataset\"}' class=''><span>data (2000,) float32</span></li><li data-jstree='{\"type\": \"Dataset\"}' class=''><span>indices (2000,) int32</span></li><li data-jstree='{\"type\": \"Dataset\"}' class=''><span>indptr (201,) int32</span></li></ul></li><li data-jstree='{\"type\": \"Group\"}' class=''><span>obs</span><ul><li data-jstree='{\"type\": \"Dataset\"}' class=''><span>Prime (100,) bool</span></li><li data-jstree='{\"type\": \"Dataset\"}' class=''><span>_index (100,) object</span></li><li data-jstree='{\"type\": \"Dataset\"}' class=''><span>idx² (100,) int64</span></li><li data-jstree='{\"type\": \"Dataset\"}' class=''><span>label (100,) object</span></li></ul></li><li data-jstree='{\"type\": \"Group\"}' class=''><span>var</span><ul><li data-jstree='{\"type\": \"Dataset\"}' class=''><span>_index (200,) object</span></li><li data-jstree='{\"type\": \"Dataset\"}' class=''><span>name (200,) object</span></li><li data-jstree='{\"type\": \"Dataset\"}' class=''><span>sqrt(idx) (200,) float64</span></li></ul></li></ul></li></ul></div>\n",
       "<script>\n",
       "    if (!require.defined('jquery')) {\n",
       "        require.config({\n",
       "            paths: {\n",
       "                jquery: '//cdnjs.cloudflare.com/ajax/libs/jquery/1.12.1/jquery.min'\n",
       "            },\n",
       "        });\n",
       "    }\n",
       "    if (!require.defined('jstree')) {\n",
       "        require.config({\n",
       "            paths: {\n",
       "                jstree: '//cdnjs.cloudflare.com/ajax/libs/jstree/3.3.3/jstree.min'\n",
       "            },\n",
       "        });\n",
       "    }\n",
       "    require(['jstree'], function() {\n",
       "        $('#3c02f3d4-fe87-4755-b250-d9bd2c470cec').jstree({\n",
       "            types: {\n",
       "                Group: {\n",
       "                    icon: \"fa fa-folder\"\n",
       "                },\n",
       "                Array: {\n",
       "                    icon: \"fa fa-table\"\n",
       "                }\n",
       "            },\n",
       "            plugins: [\"types\"]\n",
       "        });\n",
       "    });\n",
       "</script>\n"
      ],
      "text/plain": [
       "/\n",
       " ├── X\n",
       " │   ├── data (2000,) float32\n",
       " │   ├── indices (2000,) int32\n",
       " │   └── indptr (201,) int32\n",
       " ├── obs\n",
       " │   ├── Prime (100,) bool\n",
       " │   ├── _index (100,) object\n",
       " │   ├── idx² (100,) int64\n",
       " │   └── label (100,) object\n",
       " └── var\n",
       "     ├── _index (200,) object\n",
       "     ├── name (200,) object\n",
       "     └── sqrt(idx) (200,) float64"
      ]
     },
     "execution_count": 4,
     "metadata": {},
     "output_type": "execute_result"
    }
   ],
   "source": [
    "new_path = 'new.h5ad'\n",
    "new_h5 = h5.File(new_path, 'r')\n",
    "zarr.tree(new_h5)"
   ]
  },
  {
   "cell_type": "code",
   "execution_count": 5,
   "metadata": {},
   "outputs": [],
   "source": [
    "from anndata import read_h5ad"
   ]
  },
  {
   "cell_type": "code",
   "execution_count": 6,
   "metadata": {},
   "outputs": [],
   "source": [
    "from dataclasses import dataclass\n",
    "from typing import Any\n",
    "\n",
    "@dataclass\n",
    "class Obj:\n",
    "    dict: Any\n",
    "    default: Any = None\n",
    "\n",
    "    def __getattr__(self, item):\n",
    "        if item in self.dict:\n",
    "            return self.dict[item]\n",
    "        \n",
    "        if self.default:\n",
    "            return getattr(self.default, item)\n",
    "        \n",
    "        return self.dict[item]"
   ]
  },
  {
   "cell_type": "code",
   "execution_count": 7,
   "metadata": {},
   "outputs": [],
   "source": [
    "def load_ad(path):\n",
    "    ad = read_h5ad(path, backed='r', dask=True)\n",
    "    X = ad.X.compute()\n",
    "    coo = X.tocoo()\n",
    "    rows, cols = coo.nonzero()\n",
    "    nnz = list(zip(list(rows), list(cols)))\n",
    "    return Obj(dict(ad=ad, nnz=nnz, obs=ad.obs, var=ad.var), default=ad)"
   ]
  },
  {
   "cell_type": "code",
   "execution_count": 8,
   "metadata": {},
   "outputs": [
    {
     "name": "stdout",
     "output_type": "stream",
     "text": [
      "read_dataframe_legacy: <HDF5 dataset \"obs\": shape (100,), type \"|V25\"> (dask True)\n",
      "read_dataframe_legacy: <HDF5 dataset \"var\": shape (200,), type \"|V24\"> (dask True)\n",
      "Calling ctor: ['filename', 'filemode', 'obs', 'var', 'raw', 'dtype', 'dask']\n",
      "_init_as_actual: X is None…\n",
      "lazy compute X, isbacked…\n",
      "Loading HDF5 tensor: old.h5ad:/X: <HDF5 sparse dataset: format 'csc', shape (100, 200), type '<f4'>\n",
      "Opening old.h5ad (X): ((0, 1), (0, 1)) ((slice(0, 100, None), slice(0, 200, None)))\n"
     ]
    },
    {
     "data": {
      "text/plain": [
       "AnnData object with n_obs × n_vars = 100 × 200 backed at 'old.h5ad'\n",
       "    obs: 'label', 'idx²', 'Prime'\n",
       "    var: 'name', 'sqrt(idx)'"
      ]
     },
     "execution_count": 8,
     "metadata": {},
     "output_type": "execute_result"
    }
   ],
   "source": [
    "old = load_ad(old_path); old.ad"
   ]
  },
  {
   "cell_type": "code",
   "execution_count": 9,
   "metadata": {},
   "outputs": [
    {
     "name": "stdout",
     "output_type": "stream",
     "text": [
      "read_dataframe (new): <HDF5 group \"/obs\" (4 members)> (dask True)\n",
      "read_dataframe (new): <HDF5 group \"/var\" (3 members)> (dask True)\n",
      "Calling ctor: ['filename', 'filemode', 'obs', 'var', 'raw', 'dtype', 'dask']\n",
      "_init_as_actual: X is None…\n",
      "lazy compute X, isbacked…\n",
      "Loading HDF5 tensor: new.h5ad:/X: <HDF5 sparse dataset: format 'csc', shape (100, 200), type '<f4'>\n",
      "Opening new.h5ad (X): ((0, 1), (0, 1)) ((slice(0, 100, None), slice(0, 200, None)))\n"
     ]
    },
    {
     "name": "stderr",
     "output_type": "stream",
     "text": [
      "/Users/ryan/c/celsius/scdb/anndata/anndata/_core/anndata.py:129: ImplicitModificationWarning: Transforming to str index.\n",
      "  warnings.warn(\"Transforming to str index.\", ImplicitModificationWarning)\n"
     ]
    },
    {
     "data": {
      "text/plain": [
       "AnnData object with n_obs × n_vars = 100 × 200 backed at 'new.h5ad'\n",
       "    obs: 'label', 'idx²', 'Prime'\n",
       "    var: 'name', 'sqrt(idx)'"
      ]
     },
     "execution_count": 9,
     "metadata": {},
     "output_type": "execute_result"
    }
   ],
   "source": [
    "new = load_ad(new_path); new.ad"
   ]
  },
  {
   "cell_type": "code",
   "execution_count": 10,
   "metadata": {},
   "outputs": [
    {
     "name": "stdout",
     "output_type": "stream",
     "text": [
      "lazy compute X, isbacked…\n",
      "Loading HDF5 tensor: new.h5ad:/X: <HDF5 sparse dataset: format 'csc', shape (100, 200), type '<f4'>\n"
     ]
    },
    {
     "data": {
      "text/html": [
       "<table>\n",
       "<tr>\n",
       "<td>\n",
       "<table>\n",
       "  <thead>\n",
       "    <tr><td> </td><th> Array </th><th> Chunk </th></tr>\n",
       "  </thead>\n",
       "  <tbody>\n",
       "    <tr><th> Bytes </th><td> 80.00 kB </td> <td> 80.00 kB </td></tr>\n",
       "    <tr><th> Shape </th><td> (100, 200) </td> <td> (100, 200) </td></tr>\n",
       "    <tr><th> Count </th><td> 3 Tasks </td><td> 1 Chunks </td></tr>\n",
       "    <tr><th> Type </th><td> float32 </td><td> numpy.ndarray </td></tr>\n",
       "  </tbody>\n",
       "</table>\n",
       "</td>\n",
       "<td>\n",
       "<svg width=\"170\" height=\"110\" style=\"stroke:rgb(0,0,0);stroke-width:1\" >\n",
       "\n",
       "  <!-- Horizontal lines -->\n",
       "  <line x1=\"0\" y1=\"0\" x2=\"120\" y2=\"0\" style=\"stroke-width:2\" />\n",
       "  <line x1=\"0\" y1=\"60\" x2=\"120\" y2=\"60\" style=\"stroke-width:2\" />\n",
       "\n",
       "  <!-- Vertical lines -->\n",
       "  <line x1=\"0\" y1=\"0\" x2=\"0\" y2=\"60\" style=\"stroke-width:2\" />\n",
       "  <line x1=\"120\" y1=\"0\" x2=\"120\" y2=\"60\" style=\"stroke-width:2\" />\n",
       "\n",
       "  <!-- Colored Rectangle -->\n",
       "  <polygon points=\"0.000000,0.000000 120.000000,0.000000 120.000000,60.000000 0.000000,60.000000\" style=\"fill:#ECB172A0;stroke-width:0\"/>\n",
       "\n",
       "  <!-- Text -->\n",
       "  <text x=\"60.000000\" y=\"80.000000\" font-size=\"1.0rem\" font-weight=\"100\" text-anchor=\"middle\" >200</text>\n",
       "  <text x=\"140.000000\" y=\"30.000000\" font-size=\"1.0rem\" font-weight=\"100\" text-anchor=\"middle\" transform=\"rotate(-90,140.000000,30.000000)\">100</text>\n",
       "</svg>\n",
       "</td>\n",
       "</tr>\n",
       "</table>"
      ],
      "text/plain": [
       "dask.array<to_arr, shape=(100, 200), dtype=float32, chunksize=(100, 200), chunktype=numpy.ndarray>"
      ]
     },
     "execution_count": 10,
     "metadata": {},
     "output_type": "execute_result"
    }
   ],
   "source": [
    "new.X"
   ]
  },
  {
   "cell_type": "code",
   "execution_count": 11,
   "metadata": {},
   "outputs": [
    {
     "data": {
      "text/plain": [
       "True"
      ]
     },
     "execution_count": 11,
     "metadata": {},
     "output_type": "execute_result"
    }
   ],
   "source": [
    "new.nnz == old.nnz"
   ]
  },
  {
   "cell_type": "code",
   "execution_count": 12,
   "metadata": {},
   "outputs": [
    {
     "data": {
      "text/html": [
       "<div>\n",
       "<style scoped>\n",
       "    .dataframe tbody tr th:only-of-type {\n",
       "        vertical-align: middle;\n",
       "    }\n",
       "\n",
       "    .dataframe tbody tr th {\n",
       "        vertical-align: top;\n",
       "    }\n",
       "\n",
       "    .dataframe thead th {\n",
       "        text-align: right;\n",
       "    }\n",
       "</style>\n",
       "<table border=\"1\" class=\"dataframe\">\n",
       "  <thead>\n",
       "    <tr style=\"text-align: right;\">\n",
       "      <th></th>\n",
       "      <th>label</th>\n",
       "      <th>idx²</th>\n",
       "      <th>Prime</th>\n",
       "    </tr>\n",
       "    <tr>\n",
       "      <th>index</th>\n",
       "      <th></th>\n",
       "      <th></th>\n",
       "      <th></th>\n",
       "    </tr>\n",
       "  </thead>\n",
       "  <tbody>\n",
       "    <tr>\n",
       "      <th>0</th>\n",
       "      <td>row 0</td>\n",
       "      <td>0</td>\n",
       "      <td>True</td>\n",
       "    </tr>\n",
       "    <tr>\n",
       "      <th>1</th>\n",
       "      <td>row 1</td>\n",
       "      <td>1</td>\n",
       "      <td>True</td>\n",
       "    </tr>\n",
       "    <tr>\n",
       "      <th>10</th>\n",
       "      <td>row 10</td>\n",
       "      <td>100</td>\n",
       "      <td>False</td>\n",
       "    </tr>\n",
       "    <tr>\n",
       "      <th>11</th>\n",
       "      <td>row 11</td>\n",
       "      <td>121</td>\n",
       "      <td>True</td>\n",
       "    </tr>\n",
       "    <tr>\n",
       "      <th>12</th>\n",
       "      <td>row 12</td>\n",
       "      <td>144</td>\n",
       "      <td>False</td>\n",
       "    </tr>\n",
       "    <tr>\n",
       "      <th>...</th>\n",
       "      <td>...</td>\n",
       "      <td>...</td>\n",
       "      <td>...</td>\n",
       "    </tr>\n",
       "    <tr>\n",
       "      <th>95</th>\n",
       "      <td>row 95</td>\n",
       "      <td>9025</td>\n",
       "      <td>False</td>\n",
       "    </tr>\n",
       "    <tr>\n",
       "      <th>96</th>\n",
       "      <td>row 96</td>\n",
       "      <td>9216</td>\n",
       "      <td>False</td>\n",
       "    </tr>\n",
       "    <tr>\n",
       "      <th>97</th>\n",
       "      <td>row 97</td>\n",
       "      <td>9409</td>\n",
       "      <td>True</td>\n",
       "    </tr>\n",
       "    <tr>\n",
       "      <th>98</th>\n",
       "      <td>row 98</td>\n",
       "      <td>9604</td>\n",
       "      <td>False</td>\n",
       "    </tr>\n",
       "    <tr>\n",
       "      <th>99</th>\n",
       "      <td>row 99</td>\n",
       "      <td>9801</td>\n",
       "      <td>False</td>\n",
       "    </tr>\n",
       "  </tbody>\n",
       "</table>\n",
       "<p>100 rows × 3 columns</p>\n",
       "</div>"
      ],
      "text/plain": [
       "        label  idx²  Prime\n",
       "index                     \n",
       "0       row 0     0   True\n",
       "1       row 1     1   True\n",
       "10     row 10   100  False\n",
       "11     row 11   121   True\n",
       "12     row 12   144  False\n",
       "...       ...   ...    ...\n",
       "95     row 95  9025  False\n",
       "96     row 96  9216  False\n",
       "97     row 97  9409   True\n",
       "98     row 98  9604  False\n",
       "99     row 99  9801  False\n",
       "\n",
       "[100 rows x 3 columns]"
      ]
     },
     "execution_count": 12,
     "metadata": {},
     "output_type": "execute_result"
    }
   ],
   "source": [
    "old.obs.compute()"
   ]
  },
  {
   "cell_type": "code",
   "execution_count": 13,
   "metadata": {},
   "outputs": [
    {
     "data": {
      "text/html": [
       "<div>\n",
       "<style scoped>\n",
       "    .dataframe tbody tr th:only-of-type {\n",
       "        vertical-align: middle;\n",
       "    }\n",
       "\n",
       "    .dataframe tbody tr th {\n",
       "        vertical-align: top;\n",
       "    }\n",
       "\n",
       "    .dataframe thead th {\n",
       "        text-align: right;\n",
       "    }\n",
       "</style>\n",
       "<table border=\"1\" class=\"dataframe\">\n",
       "  <thead>\n",
       "    <tr style=\"text-align: right;\">\n",
       "      <th></th>\n",
       "      <th>label</th>\n",
       "      <th>idx²</th>\n",
       "      <th>Prime</th>\n",
       "    </tr>\n",
       "  </thead>\n",
       "  <tbody>\n",
       "    <tr>\n",
       "      <th>0</th>\n",
       "      <td>row 0</td>\n",
       "      <td>0</td>\n",
       "      <td>True</td>\n",
       "    </tr>\n",
       "    <tr>\n",
       "      <th>1</th>\n",
       "      <td>row 1</td>\n",
       "      <td>1</td>\n",
       "      <td>True</td>\n",
       "    </tr>\n",
       "    <tr>\n",
       "      <th>2</th>\n",
       "      <td>row 2</td>\n",
       "      <td>4</td>\n",
       "      <td>True</td>\n",
       "    </tr>\n",
       "    <tr>\n",
       "      <th>3</th>\n",
       "      <td>row 3</td>\n",
       "      <td>9</td>\n",
       "      <td>True</td>\n",
       "    </tr>\n",
       "    <tr>\n",
       "      <th>4</th>\n",
       "      <td>row 4</td>\n",
       "      <td>16</td>\n",
       "      <td>True</td>\n",
       "    </tr>\n",
       "    <tr>\n",
       "      <th>...</th>\n",
       "      <td>...</td>\n",
       "      <td>...</td>\n",
       "      <td>...</td>\n",
       "    </tr>\n",
       "    <tr>\n",
       "      <th>95</th>\n",
       "      <td>row 95</td>\n",
       "      <td>9025</td>\n",
       "      <td>False</td>\n",
       "    </tr>\n",
       "    <tr>\n",
       "      <th>96</th>\n",
       "      <td>row 96</td>\n",
       "      <td>9216</td>\n",
       "      <td>False</td>\n",
       "    </tr>\n",
       "    <tr>\n",
       "      <th>97</th>\n",
       "      <td>row 97</td>\n",
       "      <td>9409</td>\n",
       "      <td>True</td>\n",
       "    </tr>\n",
       "    <tr>\n",
       "      <th>98</th>\n",
       "      <td>row 98</td>\n",
       "      <td>9604</td>\n",
       "      <td>False</td>\n",
       "    </tr>\n",
       "    <tr>\n",
       "      <th>99</th>\n",
       "      <td>row 99</td>\n",
       "      <td>9801</td>\n",
       "      <td>False</td>\n",
       "    </tr>\n",
       "  </tbody>\n",
       "</table>\n",
       "<p>100 rows × 3 columns</p>\n",
       "</div>"
      ],
      "text/plain": [
       "     label  idx²  Prime\n",
       "0    row 0     0   True\n",
       "1    row 1     1   True\n",
       "2    row 2     4   True\n",
       "3    row 3     9   True\n",
       "4    row 4    16   True\n",
       "..     ...   ...    ...\n",
       "95  row 95  9025  False\n",
       "96  row 96  9216  False\n",
       "97  row 97  9409   True\n",
       "98  row 98  9604  False\n",
       "99  row 99  9801  False\n",
       "\n",
       "[100 rows x 3 columns]"
      ]
     },
     "execution_count": 13,
     "metadata": {},
     "output_type": "execute_result"
    }
   ],
   "source": [
    "new.obs.compute()"
   ]
  }
 ],
 "metadata": {
  "kernelspec": {
   "display_name": "celsius-3.8.1",
   "language": "python",
   "name": "celsius-3.8.1"
  },
  "language_info": {
   "codemirror_mode": {
    "name": "ipython",
    "version": 3
   },
   "file_extension": ".py",
   "mimetype": "text/x-python",
   "name": "python",
   "nbconvert_exporter": "python",
   "pygments_lexer": "ipython3",
   "version": "3.8.1"
  }
 },
 "nbformat": 4,
 "nbformat_minor": 4
}
