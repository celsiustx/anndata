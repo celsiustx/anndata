{
 "cells": [
  {
   "cell_type": "code",
   "execution_count": 1,
   "metadata": {
    "execution": {
     "iopub.execute_input": "2020-03-04T13:41:46.547799Z",
     "iopub.status.busy": "2020-03-04T13:41:46.547507Z",
     "iopub.status.idle": "2020-03-04T13:41:57.289192Z",
     "shell.execute_reply": "2020-03-04T13:41:57.288145Z",
     "shell.execute_reply.started": "2020-03-04T13:41:46.547753Z"
    }
   },
   "outputs": [
    {
     "name": "stderr",
     "output_type": "stream",
     "text": [
      "[2020-03-09 09:42:54,671] INFO - scvi._settings | Added StreamHandler with custom formatter to 'scvi' logger.\n",
      "/home/ssmith/benchmark/env/lib/python3.7/site-packages/sklearn/utils/linear_assignment_.py:22: FutureWarning: The linear_assignment_ module is deprecated in 0.21 and will be removed from 0.23. Use scipy.optimize.linear_sum_assignment instead.\n",
      "  FutureWarning)\n",
      "/home/ssmith/benchmark/env/lib/python3.7/site-packages/sklearn/externals/joblib/__init__.py:15: FutureWarning: sklearn.externals.joblib is deprecated in 0.21 and will be removed in 0.23. Please import this functionality directly from joblib, which can be installed with: pip install joblib. If this warning is raised when loading pickled models, you may need to re-serialize those models with scikit-learn 0.21+.\n",
      "  warnings.warn(msg, category=FutureWarning)\n"
     ]
    }
   ],
   "source": [
    "from ctxbio.imports import *"
   ]
  },
  {
   "cell_type": "code",
   "execution_count": 2,
   "metadata": {
    "execution": {
     "iopub.execute_input": "2020-03-04T13:41:57.290765Z",
     "iopub.status.busy": "2020-03-04T13:41:57.290454Z",
     "iopub.status.idle": "2020-03-04T13:41:57.294522Z",
     "shell.execute_reply": "2020-03-04T13:41:57.293544Z",
     "shell.execute_reply.started": "2020-03-04T13:41:57.290714Z"
    }
   },
   "outputs": [],
   "source": [
    "import glob"
   ]
  },
  {
   "cell_type": "code",
   "execution_count": 3,
   "metadata": {
    "execution": {
     "iopub.execute_input": "2020-03-04T22:25:13.962020Z",
     "iopub.status.busy": "2020-03-04T22:25:13.961513Z",
     "iopub.status.idle": "2020-03-04T22:25:13.965180Z",
     "shell.execute_reply": "2020-03-04T22:25:13.964501Z",
     "shell.execute_reply.started": "2020-03-04T22:25:13.961973Z"
    }
   },
   "outputs": [],
   "source": [
    "# adjust as appropriate for your system\n",
    "basepath = \"/mnt/ssd/moredata/\""
   ]
  },
  {
   "cell_type": "code",
   "execution_count": null,
   "metadata": {},
   "outputs": [],
   "source": []
  },
  {
   "cell_type": "markdown",
   "metadata": {},
   "source": [
    "### Disk Performance:"
   ]
  },
  {
   "cell_type": "markdown",
   "metadata": {},
   "source": [
    "Time how long it takes to read the EBS (gp2) data:"
   ]
  },
  {
   "cell_type": "code",
   "execution_count": 14,
   "metadata": {},
   "outputs": [],
   "source": [
    "!sudo bash -c 'sync; echo 1 >| /proc/sys/vm/drop_caches'"
   ]
  },
  {
   "cell_type": "code",
   "execution_count": 15,
   "metadata": {},
   "outputs": [
    {
     "name": "stdout",
     "output_type": "stream",
     "text": [
      "\r\n",
      "real\t0m2.814s\r\n",
      "user\t0m0.012s\r\n",
      "sys\t0m0.157s\r\n"
     ]
    }
   ],
   "source": [
    "!time cat /mnt/ebs_gp2/moredata/*.h5ad >/dev/null"
   ]
  },
  {
   "cell_type": "code",
   "execution_count": null,
   "metadata": {},
   "outputs": [],
   "source": []
  },
  {
   "cell_type": "markdown",
   "metadata": {},
   "source": [
    "Time how long it takes to read the SSD data."
   ]
  },
  {
   "cell_type": "code",
   "execution_count": 17,
   "metadata": {},
   "outputs": [],
   "source": [
    "!sudo bash -c 'sync; echo 1 >| /proc/sys/vm/drop_caches'"
   ]
  },
  {
   "cell_type": "code",
   "execution_count": 18,
   "metadata": {},
   "outputs": [
    {
     "name": "stdout",
     "output_type": "stream",
     "text": [
      "\r\n",
      "real\t0m1.262s\r\n",
      "user\t0m0.009s\r\n",
      "sys\t0m0.159s\r\n"
     ]
    }
   ],
   "source": [
    "!time cat /mnt/ssd/moredata/*.h5ad >/dev/null"
   ]
  },
  {
   "cell_type": "markdown",
   "metadata": {},
   "source": [
    "#### NOTE: Though the SSD is more than 2x as fast, the process below is CPU-bound.  It will take 24s to read the files."
   ]
  },
  {
   "cell_type": "markdown",
   "metadata": {},
   "source": [
    "### Code Performance:"
   ]
  },
  {
   "cell_type": "markdown",
   "metadata": {},
   "source": [
    "The next 3 sections split up the original notebook so we can see exactly which parts of the code are slow.  The original timings were:\n",
    "```\n",
    "CPU times: user 27 s, sys: 2.34 s, total: 29.3 s\n",
    "Wall time: 29.2 s\n",
    "```\n",
    "The code below takes `24.5s` total, so the original code takes 20% longer.  This could be because of NFS, or because the test server has faster CPUs."
   ]
  },
  {
   "cell_type": "code",
   "execution_count": 4,
   "metadata": {},
   "outputs": [],
   "source": [
    "paths = glob.glob(os.path.join(basepath, \"*.h5ad\"))"
   ]
  },
  {
   "cell_type": "code",
   "execution_count": 5,
   "metadata": {},
   "outputs": [],
   "source": [
    "%load_ext line_profiler"
   ]
  },
  {
   "cell_type": "code",
   "execution_count": 8,
   "metadata": {},
   "outputs": [
    {
     "name": "stdout",
     "output_type": "stream",
     "text": [
      "Overwriting load_file.py\n"
     ]
    }
   ],
   "source": [
    "%%writefile load_file.py\n",
    "\n",
    "from anndata import AnnData\n",
    "import numpy as np\n",
    "import tables\n",
    "from ctxbio.imports import *\n",
    "\n",
    "from scipy.sparse import csr_matrix\n",
    "\n",
    "# Enable CUDA GPU support.\n",
    "#import cupy as cp\n",
    "#from cupyx.scipy.sparse import csr_matrix\n",
    "\n",
    "def load_file(paths):\n",
    "    for i, filename in enumerate(paths):#[:4]:\n",
    "        print(filename, i+1, \"of\", len(paths))\n",
    "        \n",
    "        ## FROM: ex_data = sc.read_10x_h5(path)\n",
    "        f = tables.open_file(str(filename), 'r')\n",
    "        v3 = '/matrix' in f\n",
    "        \n",
    "        ## FROM: adata = sc.readwrite._read_v3_10x_h5(filename)\n",
    "        dsets = {}\n",
    "        for node in f.walk_nodes('/matrix', 'Array'):\n",
    "            dsets[node.name] = node.read()\n",
    "            #print(\"%s class: %s\" % (node.name, dsets[node.name]))\n",
    "        ## 7.18s\n",
    "        M, N = dsets['shape']\n",
    "        data = dsets['data']\n",
    "        if dsets['data'].dtype == np.dtype('int32'):\n",
    "            data = dsets['data'].view('float32')\n",
    "            data[:] = dsets['data']\n",
    "        ## 7.4s     \n",
    "        matrix = csr_matrix(\n",
    "            #(cp.array(data), cp.array(dsets['indices']), cp.array(dsets['indptr'])), shape=(N, M),\n",
    "            (data, dsets['indices'], dsets['indptr']), shape=(N, M),\n",
    "        )        \n",
    "        ## 8.09s\n",
    "        genome =  dsets['genome'].astype(str)        \n",
    "        var_names = dsets['name'].astype(str)\n",
    "        gene_ids = dsets['id'].astype(str)\n",
    "        feature_types = dsets['feature_type'].astype(str)\n",
    "        obs = dsets['barcodes']\n",
    "        obs_names = obs.astype(str) # slow\n",
    "        #obs_names = [str(v) for v in obs] # slower :(\n",
    "        #print(\"barcodes: %s\" % obs)\n",
    "        #print(\"dsets: %s\" % dsets.keys())\n",
    "        args = list([\n",
    "            matrix,\n",
    "            dict(obs_names=obs_names),\n",
    "            dict(var_names=var_names,gene_ids=gene_ids,feature_types=feature_types,genome=genome)\n",
    "        ])\n",
    "        adata = AnnData(*args)\n",
    "        # 21.6s\n"
   ]
  },
  {
   "cell_type": "code",
   "execution_count": 9,
   "metadata": {},
   "outputs": [],
   "source": [
    "import load_file\n",
    "import importlib\n",
    "importlib.reload(load_file)\n",
    "from load_file import load_file\n"
   ]
  },
  {
   "cell_type": "code",
   "execution_count": 10,
   "metadata": {},
   "outputs": [
    {
     "name": "stdout",
     "output_type": "stream",
     "text": [
      "RAM cache cleared\r\n"
     ]
    }
   ],
   "source": [
    "!sudo bash -c 'sync; echo 1 >| /proc/sys/vm/drop_caches'; echo RAM cache cleared"
   ]
  },
  {
   "cell_type": "code",
   "execution_count": 11,
   "metadata": {},
   "outputs": [
    {
     "name": "stdout",
     "output_type": "stream",
     "text": [
      "/mnt/ssd/moredata/CID003192-1.h5ad 1 of 34\n"
     ]
    },
    {
     "name": "stderr",
     "output_type": "stream",
     "text": [
      "Variable names are not unique. To make them unique, call `.var_names_make_unique`.\n"
     ]
    },
    {
     "name": "stdout",
     "output_type": "stream",
     "text": [
      "/mnt/ssd/moredata/CID003070-1.h5ad 2 of 34\n"
     ]
    },
    {
     "name": "stderr",
     "output_type": "stream",
     "text": [
      "Variable names are not unique. To make them unique, call `.var_names_make_unique`.\n"
     ]
    },
    {
     "name": "stdout",
     "output_type": "stream",
     "text": [
      "/mnt/ssd/moredata/CID003071-1.h5ad 3 of 34\n"
     ]
    },
    {
     "name": "stderr",
     "output_type": "stream",
     "text": [
      "Variable names are not unique. To make them unique, call `.var_names_make_unique`.\n"
     ]
    },
    {
     "name": "stdout",
     "output_type": "stream",
     "text": [
      "/mnt/ssd/moredata/CID003158-1.h5ad 4 of 34\n"
     ]
    },
    {
     "name": "stderr",
     "output_type": "stream",
     "text": [
      "Variable names are not unique. To make them unique, call `.var_names_make_unique`.\n"
     ]
    },
    {
     "name": "stdout",
     "output_type": "stream",
     "text": [
      "/mnt/ssd/moredata/CID003069-1.h5ad 5 of 34\n"
     ]
    },
    {
     "name": "stderr",
     "output_type": "stream",
     "text": [
      "Variable names are not unique. To make them unique, call `.var_names_make_unique`.\n"
     ]
    },
    {
     "name": "stdout",
     "output_type": "stream",
     "text": [
      "/mnt/ssd/moredata/CID003072-1.h5ad 6 of 34\n"
     ]
    },
    {
     "name": "stderr",
     "output_type": "stream",
     "text": [
      "Variable names are not unique. To make them unique, call `.var_names_make_unique`.\n"
     ]
    },
    {
     "name": "stdout",
     "output_type": "stream",
     "text": [
      "/mnt/ssd/moredata/CID003193-1.h5ad 7 of 34\n"
     ]
    },
    {
     "name": "stderr",
     "output_type": "stream",
     "text": [
      "Variable names are not unique. To make them unique, call `.var_names_make_unique`.\n"
     ]
    },
    {
     "name": "stdout",
     "output_type": "stream",
     "text": [
      "/mnt/ssd/moredata/CID003158-2.h5ad 8 of 34\n"
     ]
    },
    {
     "name": "stderr",
     "output_type": "stream",
     "text": [
      "Variable names are not unique. To make them unique, call `.var_names_make_unique`.\n"
     ]
    },
    {
     "name": "stdout",
     "output_type": "stream",
     "text": [
      "/mnt/ssd/moredata/CID003185-1.h5ad 9 of 34\n"
     ]
    },
    {
     "name": "stderr",
     "output_type": "stream",
     "text": [
      "Variable names are not unique. To make them unique, call `.var_names_make_unique`.\n"
     ]
    },
    {
     "name": "stdout",
     "output_type": "stream",
     "text": [
      "/mnt/ssd/moredata/CID003195-1.h5ad 10 of 34\n"
     ]
    },
    {
     "name": "stderr",
     "output_type": "stream",
     "text": [
      "Variable names are not unique. To make them unique, call `.var_names_make_unique`.\n"
     ]
    },
    {
     "name": "stdout",
     "output_type": "stream",
     "text": [
      "/mnt/ssd/moredata/CID003186-1.h5ad 11 of 34\n"
     ]
    },
    {
     "name": "stderr",
     "output_type": "stream",
     "text": [
      "Variable names are not unique. To make them unique, call `.var_names_make_unique`.\n"
     ]
    },
    {
     "name": "stdout",
     "output_type": "stream",
     "text": [
      "/mnt/ssd/moredata/CID003188-1.h5ad 12 of 34\n"
     ]
    },
    {
     "name": "stderr",
     "output_type": "stream",
     "text": [
      "Variable names are not unique. To make them unique, call `.var_names_make_unique`.\n"
     ]
    },
    {
     "name": "stdout",
     "output_type": "stream",
     "text": [
      "/mnt/ssd/moredata/CID003187-1.h5ad 13 of 34\n"
     ]
    },
    {
     "name": "stderr",
     "output_type": "stream",
     "text": [
      "Variable names are not unique. To make them unique, call `.var_names_make_unique`.\n"
     ]
    },
    {
     "name": "stdout",
     "output_type": "stream",
     "text": [
      "/mnt/ssd/moredata/CID003572-1.h5ad 14 of 34\n"
     ]
    },
    {
     "name": "stderr",
     "output_type": "stream",
     "text": [
      "Variable names are not unique. To make them unique, call `.var_names_make_unique`.\n"
     ]
    },
    {
     "name": "stdout",
     "output_type": "stream",
     "text": [
      "/mnt/ssd/moredata/CID003194-1.h5ad 15 of 34\n"
     ]
    },
    {
     "name": "stderr",
     "output_type": "stream",
     "text": [
      "Variable names are not unique. To make them unique, call `.var_names_make_unique`.\n"
     ]
    },
    {
     "name": "stdout",
     "output_type": "stream",
     "text": [
      "/mnt/ssd/moredata/CID003198-1.h5ad 16 of 34\n"
     ]
    },
    {
     "name": "stderr",
     "output_type": "stream",
     "text": [
      "Variable names are not unique. To make them unique, call `.var_names_make_unique`.\n"
     ]
    },
    {
     "name": "stdout",
     "output_type": "stream",
     "text": [
      "/mnt/ssd/moredata/CID003196-1.h5ad 17 of 34\n"
     ]
    },
    {
     "name": "stderr",
     "output_type": "stream",
     "text": [
      "Variable names are not unique. To make them unique, call `.var_names_make_unique`.\n"
     ]
    },
    {
     "name": "stdout",
     "output_type": "stream",
     "text": [
      "/mnt/ssd/moredata/CID003412-1.h5ad 18 of 34\n"
     ]
    },
    {
     "name": "stderr",
     "output_type": "stream",
     "text": [
      "Variable names are not unique. To make them unique, call `.var_names_make_unique`.\n"
     ]
    },
    {
     "name": "stdout",
     "output_type": "stream",
     "text": [
      "/mnt/ssd/moredata/CID003197-1.h5ad 19 of 34\n"
     ]
    },
    {
     "name": "stderr",
     "output_type": "stream",
     "text": [
      "Variable names are not unique. To make them unique, call `.var_names_make_unique`.\n"
     ]
    },
    {
     "name": "stdout",
     "output_type": "stream",
     "text": [
      "/mnt/ssd/moredata/CID003580-1.h5ad 20 of 34\n"
     ]
    },
    {
     "name": "stderr",
     "output_type": "stream",
     "text": [
      "Variable names are not unique. To make them unique, call `.var_names_make_unique`.\n"
     ]
    },
    {
     "name": "stdout",
     "output_type": "stream",
     "text": [
      "/mnt/ssd/moredata/CID003199-1.h5ad 21 of 34\n"
     ]
    },
    {
     "name": "stderr",
     "output_type": "stream",
     "text": [
      "Variable names are not unique. To make them unique, call `.var_names_make_unique`.\n"
     ]
    },
    {
     "name": "stdout",
     "output_type": "stream",
     "text": [
      "/mnt/ssd/moredata/CID003331-1.h5ad 22 of 34\n"
     ]
    },
    {
     "name": "stderr",
     "output_type": "stream",
     "text": [
      "Variable names are not unique. To make them unique, call `.var_names_make_unique`.\n"
     ]
    },
    {
     "name": "stdout",
     "output_type": "stream",
     "text": [
      "/mnt/ssd/moredata/CID003413-1.h5ad 23 of 34\n"
     ]
    },
    {
     "name": "stderr",
     "output_type": "stream",
     "text": [
      "Variable names are not unique. To make them unique, call `.var_names_make_unique`.\n"
     ]
    },
    {
     "name": "stdout",
     "output_type": "stream",
     "text": [
      "/mnt/ssd/moredata/CID003414-1.h5ad 24 of 34\n"
     ]
    },
    {
     "name": "stderr",
     "output_type": "stream",
     "text": [
      "Variable names are not unique. To make them unique, call `.var_names_make_unique`.\n"
     ]
    },
    {
     "name": "stdout",
     "output_type": "stream",
     "text": [
      "/mnt/ssd/moredata/CID003415-1.h5ad 25 of 34\n"
     ]
    },
    {
     "name": "stderr",
     "output_type": "stream",
     "text": [
      "Variable names are not unique. To make them unique, call `.var_names_make_unique`.\n"
     ]
    },
    {
     "name": "stdout",
     "output_type": "stream",
     "text": [
      "/mnt/ssd/moredata/CID003416-1.h5ad 26 of 34\n"
     ]
    },
    {
     "name": "stderr",
     "output_type": "stream",
     "text": [
      "Variable names are not unique. To make them unique, call `.var_names_make_unique`.\n"
     ]
    },
    {
     "name": "stdout",
     "output_type": "stream",
     "text": [
      "/mnt/ssd/moredata/CID003570-1.h5ad 27 of 34\n"
     ]
    },
    {
     "name": "stderr",
     "output_type": "stream",
     "text": [
      "Variable names are not unique. To make them unique, call `.var_names_make_unique`.\n"
     ]
    },
    {
     "name": "stdout",
     "output_type": "stream",
     "text": [
      "/mnt/ssd/moredata/CID003808-1.h5ad 28 of 34\n"
     ]
    },
    {
     "name": "stderr",
     "output_type": "stream",
     "text": [
      "Variable names are not unique. To make them unique, call `.var_names_make_unique`.\n"
     ]
    },
    {
     "name": "stdout",
     "output_type": "stream",
     "text": [
      "/mnt/ssd/moredata/CID003571-1.h5ad 29 of 34\n"
     ]
    },
    {
     "name": "stderr",
     "output_type": "stream",
     "text": [
      "Variable names are not unique. To make them unique, call `.var_names_make_unique`.\n"
     ]
    },
    {
     "name": "stdout",
     "output_type": "stream",
     "text": [
      "/mnt/ssd/moredata/CID003576-1.h5ad 30 of 34\n"
     ]
    },
    {
     "name": "stderr",
     "output_type": "stream",
     "text": [
      "Variable names are not unique. To make them unique, call `.var_names_make_unique`.\n"
     ]
    },
    {
     "name": "stdout",
     "output_type": "stream",
     "text": [
      "/mnt/ssd/moredata/CID003578-1.h5ad 31 of 34\n"
     ]
    },
    {
     "name": "stderr",
     "output_type": "stream",
     "text": [
      "Variable names are not unique. To make them unique, call `.var_names_make_unique`.\n"
     ]
    },
    {
     "name": "stdout",
     "output_type": "stream",
     "text": [
      "/mnt/ssd/moredata/CID003809-1.h5ad 32 of 34\n"
     ]
    },
    {
     "name": "stderr",
     "output_type": "stream",
     "text": [
      "Variable names are not unique. To make them unique, call `.var_names_make_unique`.\n"
     ]
    },
    {
     "name": "stdout",
     "output_type": "stream",
     "text": [
      "/mnt/ssd/moredata/CID003807-1.h5ad 33 of 34\n"
     ]
    },
    {
     "name": "stderr",
     "output_type": "stream",
     "text": [
      "Variable names are not unique. To make them unique, call `.var_names_make_unique`.\n"
     ]
    },
    {
     "name": "stdout",
     "output_type": "stream",
     "text": [
      "/mnt/ssd/moredata/CID003806-1.h5ad 34 of 34\n"
     ]
    },
    {
     "name": "stderr",
     "output_type": "stream",
     "text": [
      "Variable names are not unique. To make them unique, call `.var_names_make_unique`.\n"
     ]
    },
    {
     "name": "stdout",
     "output_type": "stream",
     "text": [
      "\n",
      "*** Profile printout saved to text file 'load_file'. \n"
     ]
    }
   ],
   "source": [
    "%lprun -T load_file -f load_file load_file(paths)"
   ]
  },
  {
   "cell_type": "code",
   "execution_count": 12,
   "metadata": {},
   "outputs": [
    {
     "name": "stdout",
     "output_type": "stream",
     "text": [
      "Timer unit: 1e-06 s\n",
      "\n",
      "Total time: 23.6868 s\n",
      "File: /home/ssmith/ctxbio/speedup/load_file.py\n",
      "Function: load_file at line 13\n",
      "\n",
      "Line #      Hits         Time  Per Hit   % Time  Line Contents\n",
      "==============================================================\n",
      "    13                                           def load_file(paths):\n",
      "    14        35        108.0      3.1      0.0      for i, filename in enumerate(paths):#[:4]:\n",
      "    15        34      64489.0   1896.7      0.3          print(filename, i+1, \"of\", len(paths))\n",
      "    16                                                   \n",
      "    17                                                   ## FROM: ex_data = sc.read_10x_h5(path)\n",
      "    18        34      78385.0   2305.4      0.3          f = tables.open_file(str(filename), 'r')\n",
      "    19        34       7741.0    227.7      0.0          v3 = '/matrix' in f\n",
      "    20                                                   \n",
      "    21                                                   ## FROM: adata = sc.readwrite._read_v3_10x_h5(filename)\n",
      "    22        34       2994.0     88.1      0.0          dsets = {}\n",
      "    23       374     204198.0    546.0      0.9          for node in f.walk_nodes('/matrix', 'Array'):\n",
      "    24       340    8298842.0  24408.4     35.0              dsets[node.name] = node.read()\n",
      "    25                                                       #print(\"%s class: %s\" % (node.name, dsets[node.name]))\n",
      "    26                                                   ## 7.18s\n",
      "    27        34        315.0      9.3      0.0          M, N = dsets['shape']\n",
      "    28        34         59.0      1.7      0.0          data = dsets['data']\n",
      "    29        34        211.0      6.2      0.0          if dsets['data'].dtype == np.dtype('int32'):\n",
      "    30        34        214.0      6.3      0.0              data = dsets['data'].view('float32')\n",
      "    31        34     210743.0   6198.3      0.9              data[:] = dsets['data']\n",
      "    32                                                   ## 7.4s     \n",
      "    33        34         70.0      2.1      0.0          matrix = csr_matrix(\n",
      "    34                                                       #(cp.array(data), cp.array(dsets['indices']), cp.array(dsets['indptr'])), shape=(N, M),\n",
      "    35        34     628466.0  18484.3      2.7              (data, dsets['indices'], dsets['indptr']), shape=(N, M),\n",
      "    36                                                   )        \n",
      "    37                                                   ## 8.09s\n",
      "    38        34     234041.0   6883.6      1.0          genome =  dsets['genome'].astype(str)        \n",
      "    39        34     217679.0   6402.3      0.9          var_names = dsets['name'].astype(str)\n",
      "    40        34     195916.0   5762.2      0.8          gene_ids = dsets['id'].astype(str)\n",
      "    41        34     198543.0   5839.5      0.8          feature_types = dsets['feature_type'].astype(str)\n",
      "    42        34        523.0     15.4      0.0          obs = dsets['barcodes']\n",
      "    43        34    4536241.0 133418.9     19.2          obs_names = obs.astype(str) # slow\n",
      "    44                                                   #obs_names = [str(v) for v in obs] # slower :(\n",
      "    45                                                   #print(\"barcodes: %s\" % obs)\n",
      "    46                                                   #print(\"dsets: %s\" % dsets.keys())\n",
      "    47        34        134.0      3.9      0.0          args = list([\n",
      "    48        34         38.0      1.1      0.0              matrix,\n",
      "    49        34        147.0      4.3      0.0              dict(obs_names=obs_names),\n",
      "    50        34      68210.0   2006.2      0.3              dict(var_names=var_names,gene_ids=gene_ids,feature_types=feature_types,genome=genome)\n",
      "    51                                                   ])\n",
      "    52        34    8738519.0 257015.3     36.9          adata = AnnData(*args)\n"
     ]
    }
   ],
   "source": [
    "print(open('load_file', 'r').read())"
   ]
  },
  {
   "cell_type": "code",
   "execution_count": 13,
   "metadata": {},
   "outputs": [
    {
     "name": "stdout",
     "output_type": "stream",
     "text": [
      "/mnt/ssd/moredata/CID003192-1.h5ad 1 of 34\n"
     ]
    },
    {
     "name": "stderr",
     "output_type": "stream",
     "text": [
      "Variable names are not unique. To make them unique, call `.var_names_make_unique`.\n"
     ]
    },
    {
     "name": "stdout",
     "output_type": "stream",
     "text": [
      "/mnt/ssd/moredata/CID003070-1.h5ad 2 of 34\n"
     ]
    },
    {
     "name": "stderr",
     "output_type": "stream",
     "text": [
      "Variable names are not unique. To make them unique, call `.var_names_make_unique`.\n"
     ]
    },
    {
     "name": "stdout",
     "output_type": "stream",
     "text": [
      "/mnt/ssd/moredata/CID003071-1.h5ad 3 of 34\n"
     ]
    },
    {
     "name": "stderr",
     "output_type": "stream",
     "text": [
      "Variable names are not unique. To make them unique, call `.var_names_make_unique`.\n"
     ]
    },
    {
     "name": "stdout",
     "output_type": "stream",
     "text": [
      "/mnt/ssd/moredata/CID003158-1.h5ad 4 of 34\n"
     ]
    },
    {
     "name": "stderr",
     "output_type": "stream",
     "text": [
      "Variable names are not unique. To make them unique, call `.var_names_make_unique`.\n"
     ]
    },
    {
     "name": "stdout",
     "output_type": "stream",
     "text": [
      "/mnt/ssd/moredata/CID003069-1.h5ad 5 of 34\n"
     ]
    },
    {
     "name": "stderr",
     "output_type": "stream",
     "text": [
      "Variable names are not unique. To make them unique, call `.var_names_make_unique`.\n"
     ]
    },
    {
     "name": "stdout",
     "output_type": "stream",
     "text": [
      "/mnt/ssd/moredata/CID003072-1.h5ad 6 of 34\n"
     ]
    },
    {
     "name": "stderr",
     "output_type": "stream",
     "text": [
      "Variable names are not unique. To make them unique, call `.var_names_make_unique`.\n"
     ]
    },
    {
     "name": "stdout",
     "output_type": "stream",
     "text": [
      "/mnt/ssd/moredata/CID003193-1.h5ad 7 of 34\n"
     ]
    },
    {
     "name": "stderr",
     "output_type": "stream",
     "text": [
      "Variable names are not unique. To make them unique, call `.var_names_make_unique`.\n"
     ]
    },
    {
     "name": "stdout",
     "output_type": "stream",
     "text": [
      "/mnt/ssd/moredata/CID003158-2.h5ad 8 of 34\n"
     ]
    },
    {
     "name": "stderr",
     "output_type": "stream",
     "text": [
      "Variable names are not unique. To make them unique, call `.var_names_make_unique`.\n"
     ]
    },
    {
     "name": "stdout",
     "output_type": "stream",
     "text": [
      "/mnt/ssd/moredata/CID003185-1.h5ad 9 of 34\n"
     ]
    },
    {
     "name": "stderr",
     "output_type": "stream",
     "text": [
      "Variable names are not unique. To make them unique, call `.var_names_make_unique`.\n"
     ]
    },
    {
     "name": "stdout",
     "output_type": "stream",
     "text": [
      "/mnt/ssd/moredata/CID003195-1.h5ad 10 of 34\n"
     ]
    },
    {
     "name": "stderr",
     "output_type": "stream",
     "text": [
      "Variable names are not unique. To make them unique, call `.var_names_make_unique`.\n"
     ]
    },
    {
     "name": "stdout",
     "output_type": "stream",
     "text": [
      "/mnt/ssd/moredata/CID003186-1.h5ad 11 of 34\n"
     ]
    },
    {
     "name": "stderr",
     "output_type": "stream",
     "text": [
      "Variable names are not unique. To make them unique, call `.var_names_make_unique`.\n"
     ]
    },
    {
     "name": "stdout",
     "output_type": "stream",
     "text": [
      "/mnt/ssd/moredata/CID003188-1.h5ad 12 of 34\n"
     ]
    },
    {
     "name": "stderr",
     "output_type": "stream",
     "text": [
      "Variable names are not unique. To make them unique, call `.var_names_make_unique`.\n"
     ]
    },
    {
     "name": "stdout",
     "output_type": "stream",
     "text": [
      "/mnt/ssd/moredata/CID003187-1.h5ad 13 of 34\n"
     ]
    },
    {
     "name": "stderr",
     "output_type": "stream",
     "text": [
      "Variable names are not unique. To make them unique, call `.var_names_make_unique`.\n"
     ]
    },
    {
     "name": "stdout",
     "output_type": "stream",
     "text": [
      "/mnt/ssd/moredata/CID003572-1.h5ad 14 of 34\n"
     ]
    },
    {
     "name": "stderr",
     "output_type": "stream",
     "text": [
      "Variable names are not unique. To make them unique, call `.var_names_make_unique`.\n"
     ]
    },
    {
     "name": "stdout",
     "output_type": "stream",
     "text": [
      "/mnt/ssd/moredata/CID003194-1.h5ad 15 of 34\n"
     ]
    },
    {
     "name": "stderr",
     "output_type": "stream",
     "text": [
      "Variable names are not unique. To make them unique, call `.var_names_make_unique`.\n"
     ]
    },
    {
     "name": "stdout",
     "output_type": "stream",
     "text": [
      "/mnt/ssd/moredata/CID003198-1.h5ad 16 of 34\n"
     ]
    },
    {
     "name": "stderr",
     "output_type": "stream",
     "text": [
      "Variable names are not unique. To make them unique, call `.var_names_make_unique`.\n"
     ]
    },
    {
     "name": "stdout",
     "output_type": "stream",
     "text": [
      "/mnt/ssd/moredata/CID003196-1.h5ad 17 of 34\n"
     ]
    },
    {
     "name": "stderr",
     "output_type": "stream",
     "text": [
      "Variable names are not unique. To make them unique, call `.var_names_make_unique`.\n"
     ]
    },
    {
     "name": "stdout",
     "output_type": "stream",
     "text": [
      "/mnt/ssd/moredata/CID003412-1.h5ad 18 of 34\n"
     ]
    },
    {
     "name": "stderr",
     "output_type": "stream",
     "text": [
      "Variable names are not unique. To make them unique, call `.var_names_make_unique`.\n"
     ]
    },
    {
     "name": "stdout",
     "output_type": "stream",
     "text": [
      "/mnt/ssd/moredata/CID003197-1.h5ad 19 of 34\n"
     ]
    },
    {
     "name": "stderr",
     "output_type": "stream",
     "text": [
      "Variable names are not unique. To make them unique, call `.var_names_make_unique`.\n"
     ]
    },
    {
     "name": "stdout",
     "output_type": "stream",
     "text": [
      "/mnt/ssd/moredata/CID003580-1.h5ad 20 of 34\n"
     ]
    },
    {
     "name": "stderr",
     "output_type": "stream",
     "text": [
      "Variable names are not unique. To make them unique, call `.var_names_make_unique`.\n"
     ]
    },
    {
     "name": "stdout",
     "output_type": "stream",
     "text": [
      "/mnt/ssd/moredata/CID003199-1.h5ad 21 of 34\n"
     ]
    },
    {
     "name": "stderr",
     "output_type": "stream",
     "text": [
      "Variable names are not unique. To make them unique, call `.var_names_make_unique`.\n"
     ]
    },
    {
     "name": "stdout",
     "output_type": "stream",
     "text": [
      "/mnt/ssd/moredata/CID003331-1.h5ad 22 of 34\n"
     ]
    },
    {
     "name": "stderr",
     "output_type": "stream",
     "text": [
      "Variable names are not unique. To make them unique, call `.var_names_make_unique`.\n"
     ]
    },
    {
     "name": "stdout",
     "output_type": "stream",
     "text": [
      "/mnt/ssd/moredata/CID003413-1.h5ad 23 of 34\n"
     ]
    },
    {
     "name": "stderr",
     "output_type": "stream",
     "text": [
      "Variable names are not unique. To make them unique, call `.var_names_make_unique`.\n"
     ]
    },
    {
     "name": "stdout",
     "output_type": "stream",
     "text": [
      "/mnt/ssd/moredata/CID003414-1.h5ad 24 of 34\n"
     ]
    },
    {
     "name": "stderr",
     "output_type": "stream",
     "text": [
      "Variable names are not unique. To make them unique, call `.var_names_make_unique`.\n"
     ]
    },
    {
     "name": "stdout",
     "output_type": "stream",
     "text": [
      "/mnt/ssd/moredata/CID003415-1.h5ad 25 of 34\n"
     ]
    },
    {
     "name": "stderr",
     "output_type": "stream",
     "text": [
      "Variable names are not unique. To make them unique, call `.var_names_make_unique`.\n"
     ]
    },
    {
     "name": "stdout",
     "output_type": "stream",
     "text": [
      "/mnt/ssd/moredata/CID003416-1.h5ad 26 of 34\n"
     ]
    },
    {
     "name": "stderr",
     "output_type": "stream",
     "text": [
      "Variable names are not unique. To make them unique, call `.var_names_make_unique`.\n"
     ]
    },
    {
     "name": "stdout",
     "output_type": "stream",
     "text": [
      "/mnt/ssd/moredata/CID003570-1.h5ad 27 of 34\n"
     ]
    },
    {
     "name": "stderr",
     "output_type": "stream",
     "text": [
      "Variable names are not unique. To make them unique, call `.var_names_make_unique`.\n"
     ]
    },
    {
     "name": "stdout",
     "output_type": "stream",
     "text": [
      "/mnt/ssd/moredata/CID003808-1.h5ad 28 of 34\n"
     ]
    },
    {
     "name": "stderr",
     "output_type": "stream",
     "text": [
      "Variable names are not unique. To make them unique, call `.var_names_make_unique`.\n"
     ]
    },
    {
     "name": "stdout",
     "output_type": "stream",
     "text": [
      "/mnt/ssd/moredata/CID003571-1.h5ad 29 of 34\n"
     ]
    },
    {
     "name": "stderr",
     "output_type": "stream",
     "text": [
      "Variable names are not unique. To make them unique, call `.var_names_make_unique`.\n"
     ]
    },
    {
     "name": "stdout",
     "output_type": "stream",
     "text": [
      "/mnt/ssd/moredata/CID003576-1.h5ad 30 of 34\n"
     ]
    },
    {
     "name": "stderr",
     "output_type": "stream",
     "text": [
      "Variable names are not unique. To make them unique, call `.var_names_make_unique`.\n"
     ]
    },
    {
     "name": "stdout",
     "output_type": "stream",
     "text": [
      "/mnt/ssd/moredata/CID003578-1.h5ad 31 of 34\n"
     ]
    },
    {
     "name": "stderr",
     "output_type": "stream",
     "text": [
      "Variable names are not unique. To make them unique, call `.var_names_make_unique`.\n"
     ]
    },
    {
     "name": "stdout",
     "output_type": "stream",
     "text": [
      "/mnt/ssd/moredata/CID003809-1.h5ad 32 of 34\n"
     ]
    },
    {
     "name": "stderr",
     "output_type": "stream",
     "text": [
      "Variable names are not unique. To make them unique, call `.var_names_make_unique`.\n"
     ]
    },
    {
     "name": "stdout",
     "output_type": "stream",
     "text": [
      "/mnt/ssd/moredata/CID003807-1.h5ad 33 of 34\n"
     ]
    },
    {
     "name": "stderr",
     "output_type": "stream",
     "text": [
      "Variable names are not unique. To make them unique, call `.var_names_make_unique`.\n"
     ]
    },
    {
     "name": "stdout",
     "output_type": "stream",
     "text": [
      "/mnt/ssd/moredata/CID003806-1.h5ad 34 of 34\n"
     ]
    },
    {
     "name": "stderr",
     "output_type": "stream",
     "text": [
      "Variable names are not unique. To make them unique, call `.var_names_make_unique`.\n"
     ]
    },
    {
     "name": "stdout",
     "output_type": "stream",
     "text": [
      "CPU times: user 20 s, sys: 1.75 s, total: 21.7 s\n",
      "Wall time: 21.7 s\n"
     ]
    }
   ],
   "source": [
    "%%time\n",
    "from load_file import load_file\n",
    "load_file(paths)"
   ]
  },
  {
   "cell_type": "markdown",
   "metadata": {},
   "source": [
    "Timings:\n",
    "```\n",
    "CPU times: user 20.1 s, sys: 1.57 s, total: 21.7 s\n",
    "Wall time: 21.6 s\n",
    "```"
   ]
  },
  {
   "cell_type": "code",
   "execution_count": 20,
   "metadata": {},
   "outputs": [
    {
     "name": "stdout",
     "output_type": "stream",
     "text": [
      "/mnt/ssd/moredata/CID003192-1.h5ad 1 of 34\n"
     ]
    },
    {
     "name": "stderr",
     "output_type": "stream",
     "text": [
      "Variable names are not unique. To make them unique, call `.var_names_make_unique`.\n"
     ]
    },
    {
     "name": "stdout",
     "output_type": "stream",
     "text": [
      "/mnt/ssd/moredata/CID003070-1.h5ad 2 of 34\n"
     ]
    },
    {
     "name": "stderr",
     "output_type": "stream",
     "text": [
      "Variable names are not unique. To make them unique, call `.var_names_make_unique`.\n"
     ]
    },
    {
     "name": "stdout",
     "output_type": "stream",
     "text": [
      "/mnt/ssd/moredata/CID003071-1.h5ad 3 of 34\n"
     ]
    },
    {
     "name": "stderr",
     "output_type": "stream",
     "text": [
      "Variable names are not unique. To make them unique, call `.var_names_make_unique`.\n"
     ]
    },
    {
     "name": "stdout",
     "output_type": "stream",
     "text": [
      "/mnt/ssd/moredata/CID003158-1.h5ad 4 of 34\n"
     ]
    },
    {
     "name": "stderr",
     "output_type": "stream",
     "text": [
      "Variable names are not unique. To make them unique, call `.var_names_make_unique`.\n"
     ]
    },
    {
     "name": "stdout",
     "output_type": "stream",
     "text": [
      "/mnt/ssd/moredata/CID003069-1.h5ad 5 of 34\n"
     ]
    },
    {
     "name": "stderr",
     "output_type": "stream",
     "text": [
      "Variable names are not unique. To make them unique, call `.var_names_make_unique`.\n"
     ]
    },
    {
     "name": "stdout",
     "output_type": "stream",
     "text": [
      "/mnt/ssd/moredata/CID003072-1.h5ad 6 of 34\n"
     ]
    },
    {
     "name": "stderr",
     "output_type": "stream",
     "text": [
      "Variable names are not unique. To make them unique, call `.var_names_make_unique`.\n"
     ]
    },
    {
     "name": "stdout",
     "output_type": "stream",
     "text": [
      "/mnt/ssd/moredata/CID003193-1.h5ad 7 of 34\n"
     ]
    },
    {
     "name": "stderr",
     "output_type": "stream",
     "text": [
      "Variable names are not unique. To make them unique, call `.var_names_make_unique`.\n"
     ]
    },
    {
     "name": "stdout",
     "output_type": "stream",
     "text": [
      "/mnt/ssd/moredata/CID003158-2.h5ad 8 of 34\n"
     ]
    },
    {
     "name": "stderr",
     "output_type": "stream",
     "text": [
      "Variable names are not unique. To make them unique, call `.var_names_make_unique`.\n"
     ]
    },
    {
     "name": "stdout",
     "output_type": "stream",
     "text": [
      "/mnt/ssd/moredata/CID003185-1.h5ad 9 of 34\n"
     ]
    },
    {
     "name": "stderr",
     "output_type": "stream",
     "text": [
      "Variable names are not unique. To make them unique, call `.var_names_make_unique`.\n"
     ]
    },
    {
     "name": "stdout",
     "output_type": "stream",
     "text": [
      "/mnt/ssd/moredata/CID003195-1.h5ad 10 of 34\n"
     ]
    },
    {
     "name": "stderr",
     "output_type": "stream",
     "text": [
      "Variable names are not unique. To make them unique, call `.var_names_make_unique`.\n"
     ]
    },
    {
     "name": "stdout",
     "output_type": "stream",
     "text": [
      "/mnt/ssd/moredata/CID003186-1.h5ad 11 of 34\n"
     ]
    },
    {
     "name": "stderr",
     "output_type": "stream",
     "text": [
      "Variable names are not unique. To make them unique, call `.var_names_make_unique`.\n"
     ]
    },
    {
     "name": "stdout",
     "output_type": "stream",
     "text": [
      "/mnt/ssd/moredata/CID003188-1.h5ad 12 of 34\n"
     ]
    },
    {
     "name": "stderr",
     "output_type": "stream",
     "text": [
      "Variable names are not unique. To make them unique, call `.var_names_make_unique`.\n"
     ]
    },
    {
     "name": "stdout",
     "output_type": "stream",
     "text": [
      "/mnt/ssd/moredata/CID003187-1.h5ad 13 of 34\n"
     ]
    },
    {
     "name": "stderr",
     "output_type": "stream",
     "text": [
      "Variable names are not unique. To make them unique, call `.var_names_make_unique`.\n"
     ]
    },
    {
     "name": "stdout",
     "output_type": "stream",
     "text": [
      "/mnt/ssd/moredata/CID003572-1.h5ad 14 of 34\n"
     ]
    },
    {
     "name": "stderr",
     "output_type": "stream",
     "text": [
      "Variable names are not unique. To make them unique, call `.var_names_make_unique`.\n"
     ]
    },
    {
     "name": "stdout",
     "output_type": "stream",
     "text": [
      "/mnt/ssd/moredata/CID003194-1.h5ad 15 of 34\n"
     ]
    },
    {
     "name": "stderr",
     "output_type": "stream",
     "text": [
      "Variable names are not unique. To make them unique, call `.var_names_make_unique`.\n"
     ]
    },
    {
     "name": "stdout",
     "output_type": "stream",
     "text": [
      "/mnt/ssd/moredata/CID003198-1.h5ad 16 of 34\n"
     ]
    },
    {
     "name": "stderr",
     "output_type": "stream",
     "text": [
      "Variable names are not unique. To make them unique, call `.var_names_make_unique`.\n"
     ]
    },
    {
     "name": "stdout",
     "output_type": "stream",
     "text": [
      "/mnt/ssd/moredata/CID003196-1.h5ad 17 of 34\n"
     ]
    },
    {
     "name": "stderr",
     "output_type": "stream",
     "text": [
      "Variable names are not unique. To make them unique, call `.var_names_make_unique`.\n"
     ]
    },
    {
     "name": "stdout",
     "output_type": "stream",
     "text": [
      "/mnt/ssd/moredata/CID003412-1.h5ad 18 of 34\n"
     ]
    },
    {
     "name": "stderr",
     "output_type": "stream",
     "text": [
      "Variable names are not unique. To make them unique, call `.var_names_make_unique`.\n"
     ]
    },
    {
     "name": "stdout",
     "output_type": "stream",
     "text": [
      "/mnt/ssd/moredata/CID003197-1.h5ad 19 of 34\n"
     ]
    },
    {
     "name": "stderr",
     "output_type": "stream",
     "text": [
      "Variable names are not unique. To make them unique, call `.var_names_make_unique`.\n"
     ]
    },
    {
     "name": "stdout",
     "output_type": "stream",
     "text": [
      "/mnt/ssd/moredata/CID003580-1.h5ad 20 of 34\n"
     ]
    },
    {
     "name": "stderr",
     "output_type": "stream",
     "text": [
      "Variable names are not unique. To make them unique, call `.var_names_make_unique`.\n"
     ]
    },
    {
     "name": "stdout",
     "output_type": "stream",
     "text": [
      "/mnt/ssd/moredata/CID003199-1.h5ad 21 of 34\n"
     ]
    },
    {
     "name": "stderr",
     "output_type": "stream",
     "text": [
      "Variable names are not unique. To make them unique, call `.var_names_make_unique`.\n"
     ]
    },
    {
     "name": "stdout",
     "output_type": "stream",
     "text": [
      "/mnt/ssd/moredata/CID003331-1.h5ad 22 of 34\n"
     ]
    },
    {
     "name": "stderr",
     "output_type": "stream",
     "text": [
      "Variable names are not unique. To make them unique, call `.var_names_make_unique`.\n"
     ]
    },
    {
     "name": "stdout",
     "output_type": "stream",
     "text": [
      "/mnt/ssd/moredata/CID003413-1.h5ad 23 of 34\n"
     ]
    },
    {
     "name": "stderr",
     "output_type": "stream",
     "text": [
      "Variable names are not unique. To make them unique, call `.var_names_make_unique`.\n"
     ]
    },
    {
     "name": "stdout",
     "output_type": "stream",
     "text": [
      "/mnt/ssd/moredata/CID003414-1.h5ad 24 of 34\n"
     ]
    },
    {
     "name": "stderr",
     "output_type": "stream",
     "text": [
      "Variable names are not unique. To make them unique, call `.var_names_make_unique`.\n"
     ]
    },
    {
     "name": "stdout",
     "output_type": "stream",
     "text": [
      "/mnt/ssd/moredata/CID003415-1.h5ad 25 of 34\n"
     ]
    },
    {
     "name": "stderr",
     "output_type": "stream",
     "text": [
      "Variable names are not unique. To make them unique, call `.var_names_make_unique`.\n"
     ]
    },
    {
     "name": "stdout",
     "output_type": "stream",
     "text": [
      "/mnt/ssd/moredata/CID003416-1.h5ad 26 of 34\n"
     ]
    },
    {
     "name": "stderr",
     "output_type": "stream",
     "text": [
      "Variable names are not unique. To make them unique, call `.var_names_make_unique`.\n"
     ]
    },
    {
     "name": "stdout",
     "output_type": "stream",
     "text": [
      "/mnt/ssd/moredata/CID003570-1.h5ad 27 of 34\n"
     ]
    },
    {
     "name": "stderr",
     "output_type": "stream",
     "text": [
      "Variable names are not unique. To make them unique, call `.var_names_make_unique`.\n"
     ]
    },
    {
     "name": "stdout",
     "output_type": "stream",
     "text": [
      "/mnt/ssd/moredata/CID003808-1.h5ad 28 of 34\n"
     ]
    },
    {
     "name": "stderr",
     "output_type": "stream",
     "text": [
      "Variable names are not unique. To make them unique, call `.var_names_make_unique`.\n"
     ]
    },
    {
     "name": "stdout",
     "output_type": "stream",
     "text": [
      "/mnt/ssd/moredata/CID003571-1.h5ad 29 of 34\n"
     ]
    },
    {
     "name": "stderr",
     "output_type": "stream",
     "text": [
      "Variable names are not unique. To make them unique, call `.var_names_make_unique`.\n"
     ]
    },
    {
     "name": "stdout",
     "output_type": "stream",
     "text": [
      "/mnt/ssd/moredata/CID003576-1.h5ad 30 of 34\n"
     ]
    },
    {
     "name": "stderr",
     "output_type": "stream",
     "text": [
      "Variable names are not unique. To make them unique, call `.var_names_make_unique`.\n"
     ]
    },
    {
     "name": "stdout",
     "output_type": "stream",
     "text": [
      "/mnt/ssd/moredata/CID003578-1.h5ad 31 of 34\n"
     ]
    },
    {
     "name": "stderr",
     "output_type": "stream",
     "text": [
      "Variable names are not unique. To make them unique, call `.var_names_make_unique`.\n"
     ]
    },
    {
     "name": "stdout",
     "output_type": "stream",
     "text": [
      "/mnt/ssd/moredata/CID003809-1.h5ad 32 of 34\n"
     ]
    },
    {
     "name": "stderr",
     "output_type": "stream",
     "text": [
      "Variable names are not unique. To make them unique, call `.var_names_make_unique`.\n"
     ]
    },
    {
     "name": "stdout",
     "output_type": "stream",
     "text": [
      "/mnt/ssd/moredata/CID003807-1.h5ad 33 of 34\n"
     ]
    },
    {
     "name": "stderr",
     "output_type": "stream",
     "text": [
      "Variable names are not unique. To make them unique, call `.var_names_make_unique`.\n"
     ]
    },
    {
     "name": "stdout",
     "output_type": "stream",
     "text": [
      "/mnt/ssd/moredata/CID003806-1.h5ad 34 of 34\n"
     ]
    },
    {
     "name": "stderr",
     "output_type": "stream",
     "text": [
      "Variable names are not unique. To make them unique, call `.var_names_make_unique`.\n"
     ]
    },
    {
     "name": "stdout",
     "output_type": "stream",
     "text": [
      "CPU times: user 21.2 s, sys: 2.8 s, total: 24 s\n",
      "Wall time: 24 s\n"
     ]
    },
    {
     "data": {
      "text/plain": [
       "[View of AnnData object with n_obs × n_vars = 737280 × 33538 \n",
       "     var: 'gene_ids', 'feature_types', 'genome',\n",
       " View of AnnData object with n_obs × n_vars = 737280 × 33538 \n",
       "     var: 'gene_ids', 'feature_types', 'genome',\n",
       " View of AnnData object with n_obs × n_vars = 737280 × 33538 \n",
       "     var: 'gene_ids', 'feature_types', 'genome',\n",
       " View of AnnData object with n_obs × n_vars = 737280 × 33538 \n",
       "     var: 'gene_ids', 'feature_types', 'genome',\n",
       " View of AnnData object with n_obs × n_vars = 737280 × 33538 \n",
       "     var: 'gene_ids', 'feature_types', 'genome',\n",
       " View of AnnData object with n_obs × n_vars = 737280 × 33538 \n",
       "     var: 'gene_ids', 'feature_types', 'genome',\n",
       " View of AnnData object with n_obs × n_vars = 737280 × 33538 \n",
       "     var: 'gene_ids', 'feature_types', 'genome',\n",
       " View of AnnData object with n_obs × n_vars = 737280 × 33538 \n",
       "     var: 'gene_ids', 'feature_types', 'genome',\n",
       " View of AnnData object with n_obs × n_vars = 737280 × 33538 \n",
       "     var: 'gene_ids', 'feature_types', 'genome',\n",
       " View of AnnData object with n_obs × n_vars = 737280 × 33538 \n",
       "     var: 'gene_ids', 'feature_types', 'genome',\n",
       " View of AnnData object with n_obs × n_vars = 737280 × 33538 \n",
       "     var: 'gene_ids', 'feature_types', 'genome',\n",
       " View of AnnData object with n_obs × n_vars = 737280 × 33538 \n",
       "     var: 'gene_ids', 'feature_types', 'genome',\n",
       " View of AnnData object with n_obs × n_vars = 737280 × 33538 \n",
       "     var: 'gene_ids', 'feature_types', 'genome',\n",
       " View of AnnData object with n_obs × n_vars = 737280 × 33538 \n",
       "     var: 'gene_ids', 'feature_types', 'genome',\n",
       " View of AnnData object with n_obs × n_vars = 737280 × 33538 \n",
       "     var: 'gene_ids', 'feature_types', 'genome',\n",
       " View of AnnData object with n_obs × n_vars = 737280 × 33538 \n",
       "     var: 'gene_ids', 'feature_types', 'genome',\n",
       " View of AnnData object with n_obs × n_vars = 737280 × 33538 \n",
       "     var: 'gene_ids', 'feature_types', 'genome',\n",
       " View of AnnData object with n_obs × n_vars = 737280 × 33538 \n",
       "     var: 'gene_ids', 'feature_types', 'genome',\n",
       " View of AnnData object with n_obs × n_vars = 737280 × 33538 \n",
       "     var: 'gene_ids', 'feature_types', 'genome',\n",
       " View of AnnData object with n_obs × n_vars = 737280 × 33538 \n",
       "     var: 'gene_ids', 'feature_types', 'genome',\n",
       " View of AnnData object with n_obs × n_vars = 737280 × 33538 \n",
       "     var: 'gene_ids', 'feature_types', 'genome',\n",
       " View of AnnData object with n_obs × n_vars = 737280 × 33538 \n",
       "     var: 'gene_ids', 'feature_types', 'genome',\n",
       " View of AnnData object with n_obs × n_vars = 737280 × 33538 \n",
       "     var: 'gene_ids', 'feature_types', 'genome',\n",
       " View of AnnData object with n_obs × n_vars = 737280 × 33538 \n",
       "     var: 'gene_ids', 'feature_types', 'genome',\n",
       " View of AnnData object with n_obs × n_vars = 737280 × 33538 \n",
       "     var: 'gene_ids', 'feature_types', 'genome',\n",
       " View of AnnData object with n_obs × n_vars = 737280 × 33538 \n",
       "     var: 'gene_ids', 'feature_types', 'genome',\n",
       " View of AnnData object with n_obs × n_vars = 737280 × 33538 \n",
       "     var: 'gene_ids', 'feature_types', 'genome',\n",
       " View of AnnData object with n_obs × n_vars = 737280 × 33538 \n",
       "     var: 'gene_ids', 'feature_types', 'genome',\n",
       " View of AnnData object with n_obs × n_vars = 737280 × 33538 \n",
       "     var: 'gene_ids', 'feature_types', 'genome',\n",
       " View of AnnData object with n_obs × n_vars = 737280 × 33538 \n",
       "     var: 'gene_ids', 'feature_types', 'genome',\n",
       " View of AnnData object with n_obs × n_vars = 737280 × 33538 \n",
       "     var: 'gene_ids', 'feature_types', 'genome',\n",
       " View of AnnData object with n_obs × n_vars = 737280 × 33538 \n",
       "     var: 'gene_ids', 'feature_types', 'genome',\n",
       " View of AnnData object with n_obs × n_vars = 737280 × 33538 \n",
       "     var: 'gene_ids', 'feature_types', 'genome',\n",
       " View of AnnData object with n_obs × n_vars = 737280 × 33538 \n",
       "     var: 'gene_ids', 'feature_types', 'genome']"
      ]
     },
     "execution_count": 20,
     "metadata": {},
     "output_type": "execute_result"
    }
   ],
   "source": [
    "%%time\n",
    "adata_raw = {}\n",
    "paths = glob.glob(os.path.join(basepath, \"*.h5ad\"))\n",
    "for i, path in enumerate(paths):#[:4]:\n",
    "    print(path, i+1, \"of\", len(paths))\n",
    "    name = os.path.basename(path).split(\".\")[0]\n",
    "    cur_adata = sc.read_10x_h5(path)\n",
    "    adata_raw[name] = cur_adata\n",
    "list(adata_raw.values())"
   ]
  },
  {
   "cell_type": "markdown",
   "metadata": {},
   "source": [
    "Timings: \n",
    "```\n",
    "CPU times: user 21.5 s, sys: 1.82 s, total: 23.4 s\n",
    "Wall time: 23.3 s\n",
    "```\n",
    "Reading the files CPU-bound when accesssing `/mnt/ebs_gp2/`, and consumes most of the time.  Switching to `ssd` provides no benefit, as expected."
   ]
  },
  {
   "cell_type": "code",
   "execution_count": null,
   "metadata": {},
   "outputs": [],
   "source": []
  },
  {
   "cell_type": "code",
   "execution_count": 21,
   "metadata": {},
   "outputs": [
    {
     "name": "stdout",
     "output_type": "stream",
     "text": [
      "/mnt/ssd/moredata/CID003192-1.h5ad 1 of 34\n",
      "/mnt/ssd/moredata/CID003070-1.h5ad 2 of 34\n",
      "/mnt/ssd/moredata/CID003071-1.h5ad 3 of 34\n",
      "/mnt/ssd/moredata/CID003158-1.h5ad 4 of 34\n",
      "/mnt/ssd/moredata/CID003069-1.h5ad 5 of 34\n",
      "/mnt/ssd/moredata/CID003072-1.h5ad 6 of 34\n",
      "/mnt/ssd/moredata/CID003193-1.h5ad 7 of 34\n",
      "/mnt/ssd/moredata/CID003158-2.h5ad 8 of 34\n",
      "/mnt/ssd/moredata/CID003185-1.h5ad 9 of 34\n",
      "/mnt/ssd/moredata/CID003195-1.h5ad 10 of 34\n",
      "/mnt/ssd/moredata/CID003186-1.h5ad 11 of 34\n",
      "/mnt/ssd/moredata/CID003188-1.h5ad 12 of 34\n",
      "/mnt/ssd/moredata/CID003187-1.h5ad 13 of 34\n",
      "/mnt/ssd/moredata/CID003572-1.h5ad 14 of 34\n",
      "/mnt/ssd/moredata/CID003194-1.h5ad 15 of 34\n",
      "/mnt/ssd/moredata/CID003198-1.h5ad 16 of 34\n",
      "/mnt/ssd/moredata/CID003196-1.h5ad 17 of 34\n",
      "/mnt/ssd/moredata/CID003412-1.h5ad 18 of 34\n",
      "/mnt/ssd/moredata/CID003197-1.h5ad 19 of 34\n",
      "/mnt/ssd/moredata/CID003580-1.h5ad 20 of 34\n",
      "/mnt/ssd/moredata/CID003199-1.h5ad 21 of 34\n",
      "/mnt/ssd/moredata/CID003331-1.h5ad 22 of 34\n",
      "/mnt/ssd/moredata/CID003413-1.h5ad 23 of 34\n",
      "/mnt/ssd/moredata/CID003414-1.h5ad 24 of 34\n",
      "/mnt/ssd/moredata/CID003415-1.h5ad 25 of 34\n",
      "/mnt/ssd/moredata/CID003416-1.h5ad 26 of 34\n",
      "/mnt/ssd/moredata/CID003570-1.h5ad 27 of 34\n",
      "/mnt/ssd/moredata/CID003808-1.h5ad 28 of 34\n",
      "/mnt/ssd/moredata/CID003571-1.h5ad 29 of 34\n",
      "/mnt/ssd/moredata/CID003576-1.h5ad 30 of 34\n",
      "/mnt/ssd/moredata/CID003578-1.h5ad 31 of 34\n",
      "/mnt/ssd/moredata/CID003809-1.h5ad 32 of 34\n",
      "/mnt/ssd/moredata/CID003807-1.h5ad 33 of 34\n",
      "/mnt/ssd/moredata/CID003806-1.h5ad 34 of 34\n",
      "CPU times: user 144 ms, sys: 7.42 ms, total: 151 ms\n",
      "Wall time: 146 ms\n"
     ]
    }
   ],
   "source": [
    "%%time\n",
    "paths = glob.glob(os.path.join(basepath, \"*.h5ad\"))\n",
    "for i, path in enumerate(paths):#[:4]:\n",
    "    print(path, i+1, \"of\", len(paths))\n",
    "    name = os.path.basename(path).split(\".\")[0]\n",
    "    cur_adata = adata_raw[name]\n",
    "    cur_adata.var_names_make_unique()"
   ]
  },
  {
   "cell_type": "markdown",
   "metadata": {},
   "source": [
    "Timings: \n",
    "```\n",
    "CPU times: user 145 ms, sys: 4.42 ms, total: 149 ms\n",
    "Wall time: 143 ms\n",
    "```\n",
    "Making the names unique takes negligible time."
   ]
  },
  {
   "cell_type": "code",
   "execution_count": 22,
   "metadata": {
    "scrolled": true
   },
   "outputs": [
    {
     "name": "stdout",
     "output_type": "stream",
     "text": [
      "/mnt/ssd/moredata/CID003192-1.h5ad 1 of 34\n",
      "   (4567, 33538)\n",
      "/mnt/ssd/moredata/CID003070-1.h5ad 2 of 34\n",
      "   (6145, 33538)\n",
      "/mnt/ssd/moredata/CID003071-1.h5ad 3 of 34\n",
      "   (8936, 33538)\n",
      "/mnt/ssd/moredata/CID003158-1.h5ad 4 of 34\n",
      "   (8141, 33538)\n",
      "/mnt/ssd/moredata/CID003069-1.h5ad 5 of 34\n",
      "   (8394, 33538)\n",
      "/mnt/ssd/moredata/CID003072-1.h5ad 6 of 34\n",
      "   (11078, 33538)\n",
      "/mnt/ssd/moredata/CID003193-1.h5ad 7 of 34\n",
      "   (2159, 33538)\n",
      "/mnt/ssd/moredata/CID003158-2.h5ad 8 of 34\n",
      "   (24979, 33538)\n",
      "/mnt/ssd/moredata/CID003185-1.h5ad 9 of 34\n",
      "   (3196, 33538)\n",
      "/mnt/ssd/moredata/CID003195-1.h5ad 10 of 34\n",
      "   (1996, 33538)\n",
      "/mnt/ssd/moredata/CID003186-1.h5ad 11 of 34\n",
      "   (2724, 33538)\n",
      "/mnt/ssd/moredata/CID003188-1.h5ad 12 of 34\n",
      "   (2665, 33538)\n",
      "/mnt/ssd/moredata/CID003187-1.h5ad 13 of 34\n",
      "   (2561, 33538)\n",
      "/mnt/ssd/moredata/CID003572-1.h5ad 14 of 34\n",
      "   (6, 33538)\n",
      "/mnt/ssd/moredata/CID003194-1.h5ad 15 of 34\n",
      "   (4047, 33538)\n",
      "/mnt/ssd/moredata/CID003198-1.h5ad 16 of 34\n",
      "   (2449, 33538)\n",
      "/mnt/ssd/moredata/CID003196-1.h5ad 17 of 34\n",
      "   (4008, 33538)\n",
      "/mnt/ssd/moredata/CID003412-1.h5ad 18 of 34\n",
      "   (2114, 33538)\n",
      "/mnt/ssd/moredata/CID003197-1.h5ad 19 of 34\n",
      "   (1816, 33538)\n",
      "/mnt/ssd/moredata/CID003580-1.h5ad 20 of 34\n",
      "   (10, 33538)\n",
      "/mnt/ssd/moredata/CID003199-1.h5ad 21 of 34\n",
      "   (1775, 33538)\n",
      "/mnt/ssd/moredata/CID003331-1.h5ad 22 of 34\n",
      "   (21480, 33538)\n",
      "/mnt/ssd/moredata/CID003413-1.h5ad 23 of 34\n",
      "   (0, 33538)\n",
      "/mnt/ssd/moredata/CID003414-1.h5ad 24 of 34\n",
      "   (35, 33538)\n",
      "/mnt/ssd/moredata/CID003415-1.h5ad 25 of 34\n",
      "   (10, 33538)\n",
      "/mnt/ssd/moredata/CID003416-1.h5ad 26 of 34\n",
      "   (7, 33538)\n",
      "/mnt/ssd/moredata/CID003570-1.h5ad 27 of 34\n",
      "   (14, 33538)\n",
      "/mnt/ssd/moredata/CID003808-1.h5ad 28 of 34\n",
      "   (1749, 33538)\n",
      "/mnt/ssd/moredata/CID003571-1.h5ad 29 of 34\n",
      "   (0, 33538)\n",
      "/mnt/ssd/moredata/CID003576-1.h5ad 30 of 34\n",
      "   (1516, 33538)\n",
      "/mnt/ssd/moredata/CID003578-1.h5ad 31 of 34\n",
      "   (2743, 33538)\n",
      "/mnt/ssd/moredata/CID003809-1.h5ad 32 of 34\n",
      "   (2460, 33538)\n",
      "/mnt/ssd/moredata/CID003807-1.h5ad 33 of 34\n",
      "   (2994, 33538)\n",
      "/mnt/ssd/moredata/CID003806-1.h5ad 34 of 34\n",
      "   (1399, 33538)\n",
      "CPU times: user 1.03 s, sys: 325 ms, total: 1.36 s\n",
      "Wall time: 1.34 s\n"
     ]
    }
   ],
   "source": [
    "%%time\n",
    "adata_collection = {}\n",
    "paths = glob.glob(os.path.join(basepath, \"*.h5ad\"))\n",
    "for i, path in enumerate(paths):#[:4]:\n",
    "    print(path, i+1, \"of\", len(paths))\n",
    "    name = os.path.basename(path).split(\".\")[0]\n",
    "    cur_adata = adata_raw[name]\n",
    "    cur_adata = cur_adata[cur_adata.X.sum(axis=1).A.flatten()>250].copy()\n",
    "    cur_adata.obs[\"sample\"] = name\n",
    "    print(\"  \", cur_adata.shape)\n",
    "    if cur_adata.shape[0] < 500: continue\n",
    "    adata_collection[name] = cur_adata    "
   ]
  },
  {
   "cell_type": "markdown",
   "metadata": {},
   "source": [
    "Timings: \n",
    "```\n",
    "/mnt/ssd_gp2/moredata/*\n",
    "CPU times: user 1.03 s, sys: 199 ms, total: 1.23 s\n",
    "Wall time: 1.22 s\n",
    "```\n",
    "The flattening operation takes a small but measurable amount of time."
   ]
  },
  {
   "cell_type": "markdown",
   "metadata": {},
   "source": [
    "(in our current pipeline, we actually do a single concatenation of a really big matrix, which is kind of slow but better than the alternative of having to re-do the concatenations which is truly cumbersome with our current infrastructure)"
   ]
  },
  {
   "cell_type": "code",
   "execution_count": 23,
   "metadata": {
    "execution": {
     "iopub.execute_input": "2020-03-04T13:42:26.524830Z",
     "iopub.status.busy": "2020-03-04T13:42:26.524508Z",
     "iopub.status.idle": "2020-03-04T13:42:30.504594Z",
     "shell.execute_reply": "2020-03-04T13:42:30.503559Z",
     "shell.execute_reply.started": "2020-03-04T13:42:26.524777Z"
    }
   },
   "outputs": [
    {
     "name": "stdout",
     "output_type": "stream",
     "text": [
      "CPU times: user 3 s, sys: 384 ms, total: 3.38 s\n",
      "Wall time: 3.39 s\n"
     ]
    }
   ],
   "source": [
    "%%time\n",
    "samples = list(adata_collection.values())\n",
    "together = samples.pop()\n",
    "together = together.concatenate(*samples)"
   ]
  },
  {
   "cell_type": "markdown",
   "metadata": {},
   "source": [
    "Timings:\n",
    "```\n",
    "/mnt/ssd_gp2/moredata/*\n",
    "CPU times: user 2.94 s, sys: 360 ms, total: 3.3 s\n",
    "Wall time: 3.3 s\n",
    "```\n",
    "Concatenation takes just over 3s here.  But in real world scenarios this is a barrier.\n",
    "\n",
    "When the samples list is 5x the size, the time goes up >7x?\n",
    "```\n",
    "CPU times: user 21.7 s, sys: 2.31 s, total: 24 s\n",
    "Wall time: 24 s\n",
    "```"
   ]
  },
  {
   "cell_type": "code",
   "execution_count": null,
   "metadata": {},
   "outputs": [],
   "source": []
  },
  {
   "cell_type": "code",
   "execution_count": 24,
   "metadata": {
    "execution": {
     "iopub.execute_input": "2020-03-04T13:42:30.506082Z",
     "iopub.status.busy": "2020-03-04T13:42:30.505764Z",
     "iopub.status.idle": "2020-03-04T13:42:30.513040Z",
     "shell.execute_reply": "2020-03-04T13:42:30.512047Z",
     "shell.execute_reply.started": "2020-03-04T13:42:30.506029Z"
    }
   },
   "outputs": [
    {
     "name": "stdout",
     "output_type": "stream",
     "text": [
      "CPU times: user 51 µs, sys: 7 µs, total: 58 µs\n",
      "Wall time: 61 µs\n"
     ]
    },
    {
     "data": {
      "text/plain": [
       "AnnData object with n_obs × n_vars = 138091 × 33538 \n",
       "    obs: 'batch', 'sample'\n",
       "    var: 'gene_ids', 'feature_types', 'genome-0', 'genome-1', 'genome-2', 'genome-3', 'genome-4', 'genome-5', 'genome-6', 'genome-7', 'genome-8', 'genome-9', 'genome-10', 'genome-11', 'genome-12', 'genome-13', 'genome-14', 'genome-15', 'genome-16', 'genome-17', 'genome-18', 'genome-19', 'genome-20', 'genome-21', 'genome-22', 'genome-23', 'genome-24', 'genome-25'\n",
       "    uns: 'species'"
      ]
     },
     "execution_count": 24,
     "metadata": {},
     "output_type": "execute_result"
    }
   ],
   "source": [
    "%%time\n",
    "together = SCData(together)\n",
    "\n",
    "together.raw = together\n",
    "together.uns[\"species\"] = \"Human\"\n",
    "together"
   ]
  },
  {
   "cell_type": "code",
   "execution_count": 25,
   "metadata": {
    "execution": {
     "iopub.execute_input": "2020-03-04T13:42:30.514422Z",
     "iopub.status.busy": "2020-03-04T13:42:30.514114Z",
     "iopub.status.idle": "2020-03-04T13:42:30.541367Z",
     "shell.execute_reply": "2020-03-04T13:42:30.540361Z",
     "shell.execute_reply.started": "2020-03-04T13:42:30.514372Z"
    }
   },
   "outputs": [],
   "source": [
    "together.obs[\"batch\"] = together.obs[\"batch\"].astype(int)"
   ]
  },
  {
   "cell_type": "markdown",
   "metadata": {},
   "source": [
    "I haven't carefully profiled the preprocess/reprocess step below, but I believe about half the time is spent using an inefficient clustering algorithm that we're in the process of upgrading. The other big step is training the deep learning model, and I don't think that'll be something we can do a whole lot to improve."
   ]
  },
  {
   "cell_type": "code",
   "execution_count": 26,
   "metadata": {
    "execution": {
     "iopub.execute_input": "2020-03-04T13:42:30.542739Z",
     "iopub.status.busy": "2020-03-04T13:42:30.542430Z",
     "iopub.status.idle": "2020-03-04T14:33:09.453828Z",
     "shell.execute_reply": "2020-03-04T14:33:09.453002Z",
     "shell.execute_reply.started": "2020-03-04T13:42:30.542689Z"
    }
   },
   "outputs": [
    {
     "name": "stderr",
     "output_type": "stream",
     "text": [
      "[2020-03-09 10:00:13,419] INFO - scvi.dataset.anndataset | Dense size under 1Gb, casting to dense format (np.ndarray).\n"
     ]
    },
    {
     "name": "stdout",
     "output_type": "stream",
     "text": [
      "Training scVI on: View of AnnData object with n_obs × n_vars = 138091 × 1372 \n",
      "    obs: 'batch', 'sample'\n",
      "    var: 'gene_ids', 'feature_types', 'genome-0', 'genome-1', 'genome-2', 'genome-3', 'genome-4', 'genome-5', 'genome-6', 'genome-7', 'genome-8', 'genome-9', 'genome-10', 'genome-11', 'genome-12', 'genome-13', 'genome-14', 'genome-15', 'genome-16', 'genome-17', 'genome-18', 'genome-19', 'genome-20', 'genome-21', 'genome-22', 'genome-23', 'genome-24', 'genome-25'\n",
      "    uns: 'species', 'mito_genes'\n"
     ]
    },
    {
     "name": "stderr",
     "output_type": "stream",
     "text": [
      "[2020-03-09 10:00:14,302] INFO - scvi.dataset.dataset | Remapping batch_indices to [0,N]\n",
      "[2020-03-09 10:00:14,309] INFO - scvi.dataset.dataset | Remapping labels to [0,N]\n",
      "[2020-03-09 10:00:14,627] INFO - scvi.dataset.dataset | Computing the library size for the new data\n",
      "[2020-03-09 10:00:14,915] INFO - scvi.dataset.dataset | Downsampled from 138091 to 138091 cells\n"
     ]
    },
    {
     "name": "stdout",
     "output_type": "stream",
     "text": [
      "Training LDVAE model.\n",
      "training:  11%|█         | 110/1000 [10:06<1:21:39,  5.51s/it]"
     ]
    },
    {
     "name": "stderr",
     "output_type": "stream",
     "text": [
      "[2020-03-09 10:10:36,991] INFO - scvi.inference.trainer | \n",
      "Stopping early: no improvement of more than 2 nats in 100 epochs\n",
      "[2020-03-09 10:10:36,992] INFO - scvi.inference.trainer | If the early stopping criterion is too strong, please instantiate it with different parameters in the train method.\n"
     ]
    },
    {
     "name": "stdout",
     "output_type": "stream",
     "text": [
      "training:  11%|█         | 111/1000 [10:12<1:21:45,  5.52s/it]\n"
     ]
    },
    {
     "name": "stderr",
     "output_type": "stream",
     "text": [
      "[2020-03-09 10:10:41,645] INFO - scvi.dataset.anndataset | Dense size under 1Gb, casting to dense format (np.ndarray).\n",
      "[2020-03-09 10:10:41,708] INFO - scvi.dataset.dataset | Remapping batch_indices to [0,N]\n",
      "[2020-03-09 10:10:41,709] INFO - scvi.dataset.dataset | Remapping labels to [0,N]\n",
      "[2020-03-09 10:10:41,733] INFO - scvi.dataset.dataset | Computing the library size for the new data\n",
      "[2020-03-09 10:10:41,749] INFO - scvi.dataset.dataset | Downsampled from 10000 to 10000 cells\n"
     ]
    },
    {
     "name": "stdout",
     "output_type": "stream",
     "text": [
      "0 0.0\n"
     ]
    },
    {
     "name": "stderr",
     "output_type": "stream",
     "text": [
      "[2020-03-09 10:10:45,434] INFO - scvi.dataset.anndataset | Dense size under 1Gb, casting to dense format (np.ndarray).\n",
      "/home/ssmith/benchmark/env/lib/python3.7/site-packages/numpy/core/fromnumeric.py:3335: RuntimeWarning: Mean of empty slice.\n",
      "  out=out, **kwargs)\n",
      "/home/ssmith/benchmark/env/lib/python3.7/site-packages/numpy/core/_methods.py:161: RuntimeWarning: invalid value encountered in true_divide\n",
      "  ret = ret.dtype.type(ret / rcount)\n",
      "/home/ssmith/benchmark/env/lib/python3.7/site-packages/numpy/core/fromnumeric.py:3584: RuntimeWarning: Degrees of freedom <= 0 for slice\n",
      "  **kwargs)\n",
      "/home/ssmith/benchmark/env/lib/python3.7/site-packages/numpy/core/_methods.py:186: RuntimeWarning: invalid value encountered in true_divide\n",
      "  arrmean, rcount, out=arrmean, casting='unsafe', subok=False)\n",
      "/home/ssmith/benchmark/env/lib/python3.7/site-packages/numpy/core/_methods.py:209: RuntimeWarning: invalid value encountered in true_divide\n",
      "  ret = ret.dtype.type(ret / rcount)\n",
      "[2020-03-09 10:10:45,450] INFO - scvi.dataset.dataset | Remapping batch_indices to [0,N]\n",
      "[2020-03-09 10:10:45,451] INFO - scvi.dataset.dataset | Remapping labels to [0,N]\n",
      "[2020-03-09 10:10:45,468] INFO - scvi.dataset.dataset | Computing the library size for the new data\n",
      "[2020-03-09 10:10:45,485] INFO - scvi.dataset.dataset | Downsampled from 10000 to 10000 cells\n"
     ]
    },
    {
     "name": "stdout",
     "output_type": "stream",
     "text": [
      "10000 0.07241601552599373\n"
     ]
    },
    {
     "name": "stderr",
     "output_type": "stream",
     "text": [
      "[2020-03-09 10:10:48,718] INFO - scvi.dataset.anndataset | Dense size under 1Gb, casting to dense format (np.ndarray).\n",
      "[2020-03-09 10:10:48,731] INFO - scvi.dataset.dataset | Remapping batch_indices to [0,N]\n",
      "[2020-03-09 10:10:48,732] INFO - scvi.dataset.dataset | Remapping labels to [0,N]\n",
      "[2020-03-09 10:10:48,750] INFO - scvi.dataset.dataset | Computing the library size for the new data\n",
      "[2020-03-09 10:10:48,767] INFO - scvi.dataset.dataset | Downsampled from 10000 to 10000 cells\n"
     ]
    },
    {
     "name": "stdout",
     "output_type": "stream",
     "text": [
      "20000 0.14483203105198747\n"
     ]
    },
    {
     "name": "stderr",
     "output_type": "stream",
     "text": [
      "[2020-03-09 10:10:52,138] INFO - scvi.dataset.anndataset | Dense size under 1Gb, casting to dense format (np.ndarray).\n",
      "[2020-03-09 10:10:52,151] INFO - scvi.dataset.dataset | Remapping batch_indices to [0,N]\n",
      "[2020-03-09 10:10:52,152] INFO - scvi.dataset.dataset | Remapping labels to [0,N]\n",
      "[2020-03-09 10:10:52,168] INFO - scvi.dataset.dataset | Computing the library size for the new data\n",
      "[2020-03-09 10:10:52,186] INFO - scvi.dataset.dataset | Downsampled from 10000 to 10000 cells\n"
     ]
    },
    {
     "name": "stdout",
     "output_type": "stream",
     "text": [
      "30000 0.2172480465779812\n"
     ]
    },
    {
     "name": "stderr",
     "output_type": "stream",
     "text": [
      "[2020-03-09 10:10:55,575] INFO - scvi.dataset.anndataset | Dense size under 1Gb, casting to dense format (np.ndarray).\n",
      "[2020-03-09 10:10:55,587] INFO - scvi.dataset.dataset | Remapping batch_indices to [0,N]\n",
      "[2020-03-09 10:10:55,588] INFO - scvi.dataset.dataset | Remapping labels to [0,N]\n",
      "[2020-03-09 10:10:55,604] INFO - scvi.dataset.dataset | Computing the library size for the new data\n",
      "[2020-03-09 10:10:55,622] INFO - scvi.dataset.dataset | Downsampled from 10000 to 10000 cells\n"
     ]
    },
    {
     "name": "stdout",
     "output_type": "stream",
     "text": [
      "40000 0.28966406210397494\n"
     ]
    },
    {
     "name": "stderr",
     "output_type": "stream",
     "text": [
      "[2020-03-09 10:10:58,905] INFO - scvi.dataset.anndataset | Dense size under 1Gb, casting to dense format (np.ndarray).\n",
      "[2020-03-09 10:10:58,917] INFO - scvi.dataset.dataset | Remapping batch_indices to [0,N]\n",
      "[2020-03-09 10:10:58,917] INFO - scvi.dataset.dataset | Remapping labels to [0,N]\n",
      "[2020-03-09 10:10:58,942] INFO - scvi.dataset.dataset | Computing the library size for the new data\n",
      "[2020-03-09 10:10:58,965] INFO - scvi.dataset.dataset | Downsampled from 10000 to 10000 cells\n"
     ]
    },
    {
     "name": "stdout",
     "output_type": "stream",
     "text": [
      "50000 0.36208007762996863\n"
     ]
    },
    {
     "name": "stderr",
     "output_type": "stream",
     "text": [
      "[2020-03-09 10:11:02,465] INFO - scvi.dataset.anndataset | Dense size under 1Gb, casting to dense format (np.ndarray).\n",
      "[2020-03-09 10:11:02,477] INFO - scvi.dataset.dataset | Remapping batch_indices to [0,N]\n",
      "[2020-03-09 10:11:02,478] INFO - scvi.dataset.dataset | Remapping labels to [0,N]\n",
      "[2020-03-09 10:11:02,502] INFO - scvi.dataset.dataset | Computing the library size for the new data\n",
      "[2020-03-09 10:11:02,526] INFO - scvi.dataset.dataset | Downsampled from 10000 to 10000 cells\n"
     ]
    },
    {
     "name": "stdout",
     "output_type": "stream",
     "text": [
      "60000 0.4344960931559624\n"
     ]
    },
    {
     "name": "stderr",
     "output_type": "stream",
     "text": [
      "[2020-03-09 10:11:06,113] INFO - scvi.dataset.anndataset | Dense size under 1Gb, casting to dense format (np.ndarray).\n",
      "[2020-03-09 10:11:06,157] INFO - scvi.dataset.dataset | Remapping batch_indices to [0,N]\n",
      "[2020-03-09 10:11:06,158] INFO - scvi.dataset.dataset | Remapping labels to [0,N]\n",
      "[2020-03-09 10:11:06,182] INFO - scvi.dataset.dataset | Computing the library size for the new data\n",
      "[2020-03-09 10:11:06,199] INFO - scvi.dataset.dataset | Downsampled from 10000 to 10000 cells\n"
     ]
    },
    {
     "name": "stdout",
     "output_type": "stream",
     "text": [
      "70000 0.5069121086819561\n"
     ]
    },
    {
     "name": "stderr",
     "output_type": "stream",
     "text": [
      "[2020-03-09 10:11:09,739] INFO - scvi.dataset.anndataset | Dense size under 1Gb, casting to dense format (np.ndarray).\n",
      "[2020-03-09 10:11:09,784] INFO - scvi.dataset.dataset | Remapping batch_indices to [0,N]\n",
      "[2020-03-09 10:11:09,785] INFO - scvi.dataset.dataset | Remapping labels to [0,N]\n",
      "[2020-03-09 10:11:09,809] INFO - scvi.dataset.dataset | Computing the library size for the new data\n",
      "[2020-03-09 10:11:09,826] INFO - scvi.dataset.dataset | Downsampled from 10000 to 10000 cells\n"
     ]
    },
    {
     "name": "stdout",
     "output_type": "stream",
     "text": [
      "80000 0.5793281242079499\n"
     ]
    },
    {
     "name": "stderr",
     "output_type": "stream",
     "text": [
      "[2020-03-09 10:11:13,403] INFO - scvi.dataset.anndataset | Dense size under 1Gb, casting to dense format (np.ndarray).\n",
      "[2020-03-09 10:11:13,448] INFO - scvi.dataset.dataset | Remapping batch_indices to [0,N]\n",
      "[2020-03-09 10:11:13,449] INFO - scvi.dataset.dataset | Remapping labels to [0,N]\n",
      "[2020-03-09 10:11:13,472] INFO - scvi.dataset.dataset | Computing the library size for the new data\n",
      "[2020-03-09 10:11:13,489] INFO - scvi.dataset.dataset | Downsampled from 10000 to 10000 cells\n"
     ]
    },
    {
     "name": "stdout",
     "output_type": "stream",
     "text": [
      "90000 0.6517441397339435\n"
     ]
    },
    {
     "name": "stderr",
     "output_type": "stream",
     "text": [
      "[2020-03-09 10:11:17,063] INFO - scvi.dataset.anndataset | Dense size under 1Gb, casting to dense format (np.ndarray).\n",
      "[2020-03-09 10:11:17,108] INFO - scvi.dataset.dataset | Remapping batch_indices to [0,N]\n",
      "[2020-03-09 10:11:17,109] INFO - scvi.dataset.dataset | Remapping labels to [0,N]\n",
      "[2020-03-09 10:11:17,133] INFO - scvi.dataset.dataset | Computing the library size for the new data\n",
      "[2020-03-09 10:11:17,149] INFO - scvi.dataset.dataset | Downsampled from 10000 to 10000 cells\n"
     ]
    },
    {
     "name": "stdout",
     "output_type": "stream",
     "text": [
      "100000 0.7241601552599373\n"
     ]
    },
    {
     "name": "stderr",
     "output_type": "stream",
     "text": [
      "[2020-03-09 10:11:20,744] INFO - scvi.dataset.anndataset | Dense size under 1Gb, casting to dense format (np.ndarray).\n",
      "[2020-03-09 10:11:20,789] INFO - scvi.dataset.dataset | Remapping batch_indices to [0,N]\n",
      "[2020-03-09 10:11:20,790] INFO - scvi.dataset.dataset | Remapping labels to [0,N]\n",
      "[2020-03-09 10:11:20,813] INFO - scvi.dataset.dataset | Computing the library size for the new data\n",
      "[2020-03-09 10:11:20,837] INFO - scvi.dataset.dataset | Downsampled from 10000 to 10000 cells\n"
     ]
    },
    {
     "name": "stdout",
     "output_type": "stream",
     "text": [
      "110000 0.796576170785931\n"
     ]
    },
    {
     "name": "stderr",
     "output_type": "stream",
     "text": [
      "[2020-03-09 10:11:24,337] INFO - scvi.dataset.anndataset | Dense size under 1Gb, casting to dense format (np.ndarray).\n",
      "[2020-03-09 10:11:24,382] INFO - scvi.dataset.dataset | Remapping batch_indices to [0,N]\n",
      "[2020-03-09 10:11:24,383] INFO - scvi.dataset.dataset | Remapping labels to [0,N]\n",
      "[2020-03-09 10:11:24,406] INFO - scvi.dataset.dataset | Computing the library size for the new data\n",
      "[2020-03-09 10:11:24,429] INFO - scvi.dataset.dataset | Downsampled from 10000 to 10000 cells\n"
     ]
    },
    {
     "name": "stdout",
     "output_type": "stream",
     "text": [
      "120000 0.8689921863119248\n"
     ]
    },
    {
     "name": "stderr",
     "output_type": "stream",
     "text": [
      "[2020-03-09 10:11:27,946] INFO - scvi.dataset.anndataset | Dense size under 1Gb, casting to dense format (np.ndarray).\n",
      "[2020-03-09 10:11:27,983] INFO - scvi.dataset.dataset | Remapping batch_indices to [0,N]\n",
      "[2020-03-09 10:11:27,984] INFO - scvi.dataset.dataset | Remapping labels to [0,N]\n",
      "[2020-03-09 10:11:28,003] INFO - scvi.dataset.dataset | Computing the library size for the new data\n",
      "[2020-03-09 10:11:28,016] INFO - scvi.dataset.dataset | Downsampled from 8091 to 8091 cells\n"
     ]
    },
    {
     "name": "stdout",
     "output_type": "stream",
     "text": [
      "130000 0.9414082018379185\n"
     ]
    },
    {
     "name": "stderr",
     "output_type": "stream",
     "text": [
      "/home/ssmith/benchmark/env/lib/python3.7/site-packages/umap/umap_.py:328: NumbaWarning: \n",
      "Compilation is falling back to object mode WITH looplifting enabled because Function \"fuzzy_simplicial_set\" failed type inference due to: Untyped global name 'nearest_neighbors': cannot determine Numba type of <class 'function'>\n",
      "\n",
      "File \"../../benchmark/env/lib/python3.7/site-packages/umap/umap_.py\", line 446:\n",
      "def fuzzy_simplicial_set(\n",
      "    <source elided>\n",
      "    if knn_indices is None or knn_dists is None:\n",
      "        knn_indices, knn_dists, _ = nearest_neighbors(\n",
      "        ^\n",
      "\n",
      "  @numba.jit()\n",
      "/home/ssmith/benchmark/env/lib/python3.7/site-packages/numba/compiler.py:742: NumbaWarning: Function \"fuzzy_simplicial_set\" was compiled in object mode without forceobj=True.\n",
      "\n",
      "File \"../../benchmark/env/lib/python3.7/site-packages/umap/umap_.py\", line 329:\n",
      "@numba.jit()\n",
      "def fuzzy_simplicial_set(\n",
      "^\n",
      "\n",
      "  self.func_ir.loc))\n"
     ]
    },
    {
     "name": "stdout",
     "output_type": "stream",
     "text": [
      "WARNING: neighbors/connectivities have not been computed using umap\n",
      "CPU times: user 2h 50min, sys: 7min 34s, total: 2h 57min 35s\n",
      "Wall time: 41min 37s\n"
     ]
    }
   ],
   "source": [
    "%%time\n",
    "reprocessed = SCData(together).reprocess()"
   ]
  },
  {
   "cell_type": "code",
   "execution_count": 27,
   "metadata": {
    "execution": {
     "iopub.execute_input": "2020-03-04T14:33:09.455175Z",
     "iopub.status.busy": "2020-03-04T14:33:09.454890Z",
     "iopub.status.idle": "2020-03-04T14:33:09.459387Z",
     "shell.execute_reply": "2020-03-04T14:33:09.458780Z",
     "shell.execute_reply.started": "2020-03-04T14:33:09.455132Z"
    }
   },
   "outputs": [
    {
     "data": {
      "text/plain": [
       "AnnData object with n_obs × n_vars = 138091 × 33538 \n",
       "    obs: 'batch', 'sample', 'clusters', 'louvain'\n",
       "    var: 'gene_ids', 'feature_types', 'genome-0', 'genome-1', 'genome-2', 'genome-3', 'genome-4', 'genome-5', 'genome-6', 'genome-7', 'genome-8', 'genome-9', 'genome-10', 'genome-11', 'genome-12', 'genome-13', 'genome-14', 'genome-15', 'genome-16', 'genome-17', 'genome-18', 'genome-19', 'genome-20', 'genome-21', 'genome-22', 'genome-23', 'genome-24', 'genome-25'\n",
       "    uns: 'species', 'mito_genes', 'scVI_imputed_genes', 'scVI_train_history', 'units', 'neighbors', 'leiden', 'louvain'\n",
       "    obsm: 'scVI_latent', 'scVI_imputed_data', 'X_tsne', 'X_umap'"
      ]
     },
     "execution_count": 27,
     "metadata": {},
     "output_type": "execute_result"
    }
   ],
   "source": [
    "reprocessed"
   ]
  },
  {
   "cell_type": "code",
   "execution_count": 28,
   "metadata": {
    "execution": {
     "iopub.execute_input": "2020-03-04T17:07:14.629104Z",
     "iopub.status.busy": "2020-03-04T17:07:14.628760Z",
     "iopub.status.idle": "2020-03-04T17:07:14.633934Z",
     "shell.execute_reply": "2020-03-04T17:07:14.633321Z",
     "shell.execute_reply.started": "2020-03-04T17:07:14.629056Z"
    }
   },
   "outputs": [
    {
     "data": {
      "text/plain": [
       "<138091x33538 sparse matrix of type '<class 'numpy.float32'>'\n",
       "\twith 104192386 stored elements in Compressed Sparse Row format>"
      ]
     },
     "execution_count": 28,
     "metadata": {},
     "output_type": "execute_result"
    }
   ],
   "source": [
    "reprocessed.X"
   ]
  },
  {
   "cell_type": "code",
   "execution_count": 29,
   "metadata": {
    "execution": {
     "iopub.execute_input": "2020-03-04T17:08:17.397725Z",
     "iopub.status.busy": "2020-03-04T17:08:17.397377Z",
     "iopub.status.idle": "2020-03-04T17:08:17.402622Z",
     "shell.execute_reply": "2020-03-04T17:08:17.402012Z",
     "shell.execute_reply.started": "2020-03-04T17:08:17.397677Z"
    }
   },
   "outputs": [
    {
     "data": {
      "text/plain": [
       "('density:', 0.022497457935077618)"
      ]
     },
     "execution_count": 29,
     "metadata": {},
     "output_type": "execute_result"
    }
   ],
   "source": [
    "\"density:\", reprocessed.X.nnz/(reprocessed.X.shape[0]*reprocessed.X.shape[1])"
   ]
  },
  {
   "cell_type": "markdown",
   "metadata": {},
   "source": [
    "After processing the data, we typically do some exploratory data analysis to identify cell populations of interest.\n",
    "\n",
    "We use the `vaex` library to summarize data in a gridded fashion prior to plotting using matplotlib, as matplotlib alone is incapable of rendering large numbers of points."
   ]
  },
  {
   "cell_type": "code",
   "execution_count": 33,
   "metadata": {
    "execution": {
     "iopub.execute_input": "2020-03-04T22:12:06.807936Z",
     "iopub.status.busy": "2020-03-04T22:12:06.807597Z",
     "iopub.status.idle": "2020-03-04T22:12:08.462662Z",
     "shell.execute_reply": "2020-03-04T22:12:08.461660Z",
     "shell.execute_reply.started": "2020-03-04T22:12:06.807891Z"
    }
   },
   "outputs": [
    {
     "name": "stdout",
     "output_type": "stream",
     "text": [
      "\n"
     ]
    }
   ],
   "source": [
    "reprocessed.qplot(\"PTPRC\", vaex=False, pointsize=1, scale=1.5)"
   ]
  },
  {
   "cell_type": "code",
   "execution_count": 35,
   "metadata": {
    "execution": {
     "iopub.execute_input": "2020-03-04T22:09:50.261305Z",
     "iopub.status.busy": "2020-03-04T22:09:50.260954Z",
     "iopub.status.idle": "2020-03-04T22:09:51.743134Z",
     "shell.execute_reply": "2020-03-04T22:09:51.742308Z",
     "shell.execute_reply.started": "2020-03-04T22:09:50.261257Z"
    }
   },
   "outputs": [],
   "source": [
    "_, ax = plt.subplots(figsize=(8,8))\n",
    "reprocessed.catplot(\"clusters\", vaex=False, ax=ax, facet=False)"
   ]
  },
  {
   "cell_type": "code",
   "execution_count": null,
   "metadata": {},
   "outputs": [],
   "source": []
  },
  {
   "cell_type": "markdown",
   "metadata": {},
   "source": [
    "One thing we do frequently is zoom in on a subset of cells by retraining our dimensionality reduction functions on only that subset of cells (eg T cells or endothelial cells). Then, we'd like to carry annotations made in those subviews back to the main dataset."
   ]
  },
  {
   "cell_type": "code",
   "execution_count": 36,
   "metadata": {
    "execution": {
     "iopub.execute_input": "2020-03-04T22:12:34.912951Z",
     "iopub.status.busy": "2020-03-04T22:12:34.912609Z",
     "iopub.status.idle": "2020-03-04T22:14:29.372523Z",
     "shell.execute_reply": "2020-03-04T22:14:29.371749Z",
     "shell.execute_reply.started": "2020-03-04T22:12:34.912905Z"
    }
   },
   "outputs": [
    {
     "name": "stderr",
     "output_type": "stream",
     "text": [
      "[2020-03-09 12:52:42,755] INFO - scvi.dataset.anndataset | Dense size under 1Gb, casting to dense format (np.ndarray).\n",
      "/home/ssmith/benchmark/env/lib/python3.7/site-packages/numpy/core/fromnumeric.py:3335: RuntimeWarning: Mean of empty slice.\n",
      "  out=out, **kwargs)\n",
      "/home/ssmith/benchmark/env/lib/python3.7/site-packages/numpy/core/_methods.py:161: RuntimeWarning: invalid value encountered in true_divide\n",
      "  ret = ret.dtype.type(ret / rcount)\n",
      "/home/ssmith/benchmark/env/lib/python3.7/site-packages/numpy/core/fromnumeric.py:3584: RuntimeWarning: Degrees of freedom <= 0 for slice\n",
      "  **kwargs)\n",
      "/home/ssmith/benchmark/env/lib/python3.7/site-packages/numpy/core/_methods.py:186: RuntimeWarning: invalid value encountered in true_divide\n",
      "  arrmean, rcount, out=arrmean, casting='unsafe', subok=False)\n",
      "/home/ssmith/benchmark/env/lib/python3.7/site-packages/numpy/core/_methods.py:209: RuntimeWarning: invalid value encountered in true_divide\n",
      "  ret = ret.dtype.type(ret / rcount)\n",
      "[2020-03-09 12:52:42,762] INFO - scvi.dataset.dataset | Remapping batch_indices to [0,N]\n",
      "[2020-03-09 12:52:42,763] INFO - scvi.dataset.dataset | Remapping labels to [0,N]\n",
      "[2020-03-09 12:52:42,766] INFO - scvi.dataset.dataset | Computing the library size for the new data\n",
      "[2020-03-09 12:52:42,771] INFO - scvi.dataset.dataset | Downsampled from 4110 to 4110 cells\n"
     ]
    },
    {
     "name": "stdout",
     "output_type": "stream",
     "text": [
      "Training scVI on: View of AnnData object with n_obs × n_vars = 4110 × 319 \n",
      "    obs: 'batch', 'sample', 'clusters', 'louvain'\n",
      "    var: 'gene_ids', 'feature_types', 'genome-0', 'genome-1', 'genome-2', 'genome-3', 'genome-4', 'genome-5', 'genome-6', 'genome-7', 'genome-8', 'genome-9', 'genome-10', 'genome-11', 'genome-12', 'genome-13', 'genome-14', 'genome-15', 'genome-16', 'genome-17', 'genome-18', 'genome-19', 'genome-20', 'genome-21', 'genome-22', 'genome-23', 'genome-24', 'genome-25'\n",
      "    uns: 'species', 'mito_genes'\n",
      "Training LDVAE model.\n",
      "training:  28%|██▊       | 278/1000 [00:39<01:43,  6.99it/s]"
     ]
    },
    {
     "name": "stderr",
     "output_type": "stream",
     "text": [
      "[2020-03-09 12:53:22,762] INFO - scvi.inference.trainer | \n",
      "Stopping early: no improvement of more than 2 nats in 100 epochs\n",
      "[2020-03-09 12:53:22,763] INFO - scvi.inference.trainer | If the early stopping criterion is too strong, please instantiate it with different parameters in the train method.\n"
     ]
    },
    {
     "name": "stdout",
     "output_type": "stream",
     "text": [
      "training:  28%|██▊       | 279/1000 [00:39<01:43,  6.99it/s]\n"
     ]
    },
    {
     "name": "stderr",
     "output_type": "stream",
     "text": [
      "[2020-03-09 12:53:22,882] INFO - scvi.dataset.anndataset | Dense size under 1Gb, casting to dense format (np.ndarray).\n",
      "[2020-03-09 12:53:22,889] INFO - scvi.dataset.dataset | Remapping batch_indices to [0,N]\n",
      "[2020-03-09 12:53:22,889] INFO - scvi.dataset.dataset | Remapping labels to [0,N]\n",
      "[2020-03-09 12:53:22,892] INFO - scvi.dataset.dataset | Computing the library size for the new data\n",
      "[2020-03-09 12:53:22,897] INFO - scvi.dataset.dataset | Downsampled from 4110 to 4110 cells\n"
     ]
    },
    {
     "name": "stdout",
     "output_type": "stream",
     "text": [
      "0 0.0\n"
     ]
    },
    {
     "name": "stderr",
     "output_type": "stream",
     "text": [
      "/home/ssmith/benchmark/env/lib/python3.7/site-packages/umap/umap_.py:328: NumbaWarning: \n",
      "Compilation is falling back to object mode WITH looplifting enabled because Function \"fuzzy_simplicial_set\" failed type inference due to: Untyped global name 'nearest_neighbors': cannot determine Numba type of <class 'function'>\n",
      "\n",
      "File \"../../benchmark/env/lib/python3.7/site-packages/umap/umap_.py\", line 446:\n",
      "def fuzzy_simplicial_set(\n",
      "    <source elided>\n",
      "    if knn_indices is None or knn_dists is None:\n",
      "        knn_indices, knn_dists, _ = nearest_neighbors(\n",
      "        ^\n",
      "\n",
      "  @numba.jit()\n",
      "/home/ssmith/benchmark/env/lib/python3.7/site-packages/numba/compiler.py:742: NumbaWarning: Function \"fuzzy_simplicial_set\" was compiled in object mode without forceobj=True.\n",
      "\n",
      "File \"../../benchmark/env/lib/python3.7/site-packages/umap/umap_.py\", line 329:\n",
      "@numba.jit()\n",
      "def fuzzy_simplicial_set(\n",
      "^\n",
      "\n",
      "  self.func_ir.loc))\n"
     ]
    }
   ],
   "source": [
    "cluster2_adata = reprocessed[reprocessed.obs.query(\"clusters=='12'\").index].reprocess()"
   ]
  },
  {
   "cell_type": "code",
   "execution_count": 37,
   "metadata": {
    "execution": {
     "iopub.execute_input": "2020-03-04T22:15:18.687595Z",
     "iopub.status.busy": "2020-03-04T22:15:18.687256Z",
     "iopub.status.idle": "2020-03-04T22:15:21.635991Z",
     "shell.execute_reply": "2020-03-04T22:15:21.635358Z",
     "shell.execute_reply.started": "2020-03-04T22:15:18.687550Z"
    }
   },
   "outputs": [],
   "source": [
    "cluster2_adata.catplot(\"clusters\")"
   ]
  },
  {
   "cell_type": "code",
   "execution_count": 38,
   "metadata": {
    "execution": {
     "iopub.execute_input": "2020-03-04T22:15:32.530253Z",
     "iopub.status.busy": "2020-03-04T22:15:32.529916Z",
     "iopub.status.idle": "2020-03-04T22:15:34.462177Z",
     "shell.execute_reply": "2020-03-04T22:15:34.461389Z",
     "shell.execute_reply.started": "2020-03-04T22:15:32.530207Z"
    }
   },
   "outputs": [
    {
     "name": "stderr",
     "output_type": "stream",
     "text": [
      "... storing 'sample' as categorical\n",
      "... storing 'feature_types' as categorical\n",
      "... storing 'genome-0' as categorical\n",
      "... storing 'genome-1' as categorical\n",
      "... storing 'genome-2' as categorical\n",
      "... storing 'genome-3' as categorical\n",
      "... storing 'genome-4' as categorical\n",
      "... storing 'genome-5' as categorical\n",
      "... storing 'genome-6' as categorical\n",
      "... storing 'genome-7' as categorical\n",
      "... storing 'genome-8' as categorical\n",
      "... storing 'genome-9' as categorical\n",
      "... storing 'genome-10' as categorical\n",
      "... storing 'genome-11' as categorical\n",
      "... storing 'genome-12' as categorical\n",
      "... storing 'genome-13' as categorical\n",
      "... storing 'genome-14' as categorical\n",
      "... storing 'genome-15' as categorical\n",
      "... storing 'genome-16' as categorical\n",
      "... storing 'genome-17' as categorical\n",
      "... storing 'genome-18' as categorical\n",
      "... storing 'genome-19' as categorical\n",
      "... storing 'genome-20' as categorical\n",
      "... storing 'genome-21' as categorical\n",
      "... storing 'genome-22' as categorical\n",
      "... storing 'genome-23' as categorical\n",
      "... storing 'genome-24' as categorical\n",
      "... storing 'genome-25' as categorical\n"
     ]
    },
    {
     "data": {
      "text/html": [
       "<div>\n",
       "<style scoped>\n",
       "    .dataframe tbody tr th:only-of-type {\n",
       "        vertical-align: middle;\n",
       "    }\n",
       "\n",
       "    .dataframe tbody tr th {\n",
       "        vertical-align: top;\n",
       "    }\n",
       "\n",
       "    .dataframe thead th {\n",
       "        text-align: right;\n",
       "    }\n",
       "</style>\n",
       "<table border=\"1\" class=\"dataframe\">\n",
       "  <thead>\n",
       "    <tr style=\"text-align: right;\">\n",
       "      <th></th>\n",
       "      <th>0</th>\n",
       "      <th>1</th>\n",
       "      <th>2</th>\n",
       "      <th>3</th>\n",
       "      <th>4</th>\n",
       "      <th>5</th>\n",
       "      <th>6</th>\n",
       "      <th>7</th>\n",
       "      <th>8</th>\n",
       "    </tr>\n",
       "  </thead>\n",
       "  <tbody>\n",
       "    <tr>\n",
       "      <th>0</th>\n",
       "      <td>IGHA1</td>\n",
       "      <td>AP003086.2</td>\n",
       "      <td>INPP4B</td>\n",
       "      <td>USP54</td>\n",
       "      <td>BANK1</td>\n",
       "      <td>AOAH</td>\n",
       "      <td>DHFR</td>\n",
       "      <td>DHFR</td>\n",
       "      <td>AGAP1</td>\n",
       "    </tr>\n",
       "    <tr>\n",
       "      <th>1</th>\n",
       "      <td>FNDC3B</td>\n",
       "      <td>USP54</td>\n",
       "      <td>MBNL1</td>\n",
       "      <td>AP003086.2</td>\n",
       "      <td>AFF3</td>\n",
       "      <td>PRKCH</td>\n",
       "      <td>MTRNR2L8</td>\n",
       "      <td>CD96</td>\n",
       "      <td>DOCK1</td>\n",
       "    </tr>\n",
       "    <tr>\n",
       "      <th>2</th>\n",
       "      <td>MZB1</td>\n",
       "      <td>CD96</td>\n",
       "      <td>BCL11B</td>\n",
       "      <td>TAOK1</td>\n",
       "      <td>RALGPS2</td>\n",
       "      <td>ITGA1</td>\n",
       "      <td>MTRNR2L12</td>\n",
       "      <td>AOAH</td>\n",
       "      <td>LGALS4</td>\n",
       "    </tr>\n",
       "    <tr>\n",
       "      <th>3</th>\n",
       "      <td>IGKC</td>\n",
       "      <td>PGGHG</td>\n",
       "      <td>ANK3</td>\n",
       "      <td>MACROD2</td>\n",
       "      <td>ARHGAP24</td>\n",
       "      <td>ITGAE</td>\n",
       "      <td>MTRNR2L1</td>\n",
       "      <td>ITGAE</td>\n",
       "      <td>ADAMTSL1</td>\n",
       "    </tr>\n",
       "    <tr>\n",
       "      <th>4</th>\n",
       "      <td>IGHA2</td>\n",
       "      <td>ZAP70</td>\n",
       "      <td>TC2N</td>\n",
       "      <td>TMEM131</td>\n",
       "      <td>EBF1</td>\n",
       "      <td>CD96</td>\n",
       "      <td>FP236383.1</td>\n",
       "      <td>MTRNR2L8</td>\n",
       "      <td>MAGI3</td>\n",
       "    </tr>\n",
       "    <tr>\n",
       "      <th>5</th>\n",
       "      <td>RRBP1</td>\n",
       "      <td>PITPNC1</td>\n",
       "      <td>ARHGAP15</td>\n",
       "      <td>SETD3</td>\n",
       "      <td>MS4A1</td>\n",
       "      <td>SKAP1</td>\n",
       "      <td>FP671120.1</td>\n",
       "      <td>MTRNR2L12</td>\n",
       "      <td>ABCC3</td>\n",
       "    </tr>\n",
       "    <tr>\n",
       "      <th>6</th>\n",
       "      <td>IGLL5</td>\n",
       "      <td>PBXIP1</td>\n",
       "      <td>PTPRC</td>\n",
       "      <td>CSMD1</td>\n",
       "      <td>PAX5</td>\n",
       "      <td>MBNL1</td>\n",
       "      <td>MTRNR2L10</td>\n",
       "      <td>PITPNC1</td>\n",
       "      <td>LLGL2</td>\n",
       "    </tr>\n",
       "    <tr>\n",
       "      <th>7</th>\n",
       "      <td>CDK14</td>\n",
       "      <td>ATP8B4</td>\n",
       "      <td>RIPOR2</td>\n",
       "      <td>HEPHL1</td>\n",
       "      <td>WDFY4</td>\n",
       "      <td>FYN</td>\n",
       "      <td>AC105402.3</td>\n",
       "      <td>PRKCH</td>\n",
       "      <td>TCF7L2</td>\n",
       "    </tr>\n",
       "    <tr>\n",
       "      <th>8</th>\n",
       "      <td>ELL2</td>\n",
       "      <td>GRAMD1B</td>\n",
       "      <td>LEF1</td>\n",
       "      <td>FGF12</td>\n",
       "      <td>FCHSD2</td>\n",
       "      <td>TRG-AS1</td>\n",
       "      <td>KIF5C</td>\n",
       "      <td>ITGA1</td>\n",
       "      <td>SH3D19</td>\n",
       "    </tr>\n",
       "    <tr>\n",
       "      <th>9</th>\n",
       "      <td>FNDC3A</td>\n",
       "      <td>CD247</td>\n",
       "      <td>RUNX1</td>\n",
       "      <td>AL050403.2</td>\n",
       "      <td>BCL11A</td>\n",
       "      <td>PITPNC1</td>\n",
       "      <td>ASIP</td>\n",
       "      <td>THEMIS</td>\n",
       "      <td>NR3C2</td>\n",
       "    </tr>\n",
       "  </tbody>\n",
       "</table>\n",
       "</div>"
      ],
      "text/plain": [
       "        0           1         2           3         4        5           6  \\\n",
       "0   IGHA1  AP003086.2    INPP4B       USP54     BANK1     AOAH        DHFR   \n",
       "1  FNDC3B       USP54     MBNL1  AP003086.2      AFF3    PRKCH    MTRNR2L8   \n",
       "2    MZB1        CD96    BCL11B       TAOK1   RALGPS2    ITGA1   MTRNR2L12   \n",
       "3    IGKC       PGGHG      ANK3     MACROD2  ARHGAP24    ITGAE    MTRNR2L1   \n",
       "4   IGHA2       ZAP70      TC2N     TMEM131      EBF1     CD96  FP236383.1   \n",
       "5   RRBP1     PITPNC1  ARHGAP15       SETD3     MS4A1    SKAP1  FP671120.1   \n",
       "6   IGLL5      PBXIP1     PTPRC       CSMD1      PAX5    MBNL1   MTRNR2L10   \n",
       "7   CDK14      ATP8B4    RIPOR2      HEPHL1     WDFY4      FYN  AC105402.3   \n",
       "8    ELL2     GRAMD1B      LEF1       FGF12    FCHSD2  TRG-AS1       KIF5C   \n",
       "9  FNDC3A       CD247     RUNX1  AL050403.2    BCL11A  PITPNC1        ASIP   \n",
       "\n",
       "           7         8  \n",
       "0       DHFR     AGAP1  \n",
       "1       CD96     DOCK1  \n",
       "2       AOAH    LGALS4  \n",
       "3      ITGAE  ADAMTSL1  \n",
       "4   MTRNR2L8     MAGI3  \n",
       "5  MTRNR2L12     ABCC3  \n",
       "6    PITPNC1     LLGL2  \n",
       "7      PRKCH    TCF7L2  \n",
       "8      ITGA1    SH3D19  \n",
       "9     THEMIS     NR3C2  "
      ]
     },
     "execution_count": 38,
     "metadata": {},
     "output_type": "execute_result"
    }
   ],
   "source": [
    "cluster2_adata.diff_exp().head(10)"
   ]
  },
  {
   "cell_type": "code",
   "execution_count": 39,
   "metadata": {
    "execution": {
     "iopub.execute_input": "2020-03-04T22:17:24.380068Z",
     "iopub.status.busy": "2020-03-04T22:17:24.379719Z",
     "iopub.status.idle": "2020-03-04T22:17:24.388011Z",
     "shell.execute_reply": "2020-03-04T22:17:24.387373Z",
     "shell.execute_reply.started": "2020-03-04T22:17:24.380019Z"
    }
   },
   "outputs": [],
   "source": [
    "cluster2_adata.assign_labels(\"clusters\", \"cell_type\", {\n",
    "    (\"0\",\"1\",\"2\"):\"Cell Type X\",\n",
    "    (\"3\",\"4\",\"5\"):\"Cell Type Y\",\n",
    "    (\"6\",\"7\"):\"Cell Type Z\",\n",
    "    \"8\":\"W Cells\"\n",
    "})"
   ]
  },
  {
   "cell_type": "code",
   "execution_count": 40,
   "metadata": {
    "execution": {
     "iopub.execute_input": "2020-03-04T22:17:33.131163Z",
     "iopub.status.busy": "2020-03-04T22:17:33.130810Z",
     "iopub.status.idle": "2020-03-04T22:17:34.356454Z",
     "shell.execute_reply": "2020-03-04T22:17:34.355730Z",
     "shell.execute_reply.started": "2020-03-04T22:17:33.131115Z"
    }
   },
   "outputs": [],
   "source": [
    "cluster2_adata.catplot(\"cell_type\")"
   ]
  },
  {
   "cell_type": "code",
   "execution_count": 41,
   "metadata": {
    "execution": {
     "iopub.execute_input": "2020-03-04T22:18:24.522413Z",
     "iopub.status.busy": "2020-03-04T22:18:24.522083Z",
     "iopub.status.idle": "2020-03-04T22:18:24.536430Z",
     "shell.execute_reply": "2020-03-04T22:18:24.535823Z",
     "shell.execute_reply.started": "2020-03-04T22:18:24.522368Z"
    }
   },
   "outputs": [],
   "source": [
    "reprocessed.obs[\"cell_type\"] = \"Unknown\"\n",
    "reprocessed.obs.loc[cluster2_adata.obs_names, \"cell_type\"] = cluster2_adata.obs[\"cell_type\"]"
   ]
  },
  {
   "cell_type": "code",
   "execution_count": 42,
   "metadata": {
    "execution": {
     "iopub.execute_input": "2020-03-04T22:18:42.477872Z",
     "iopub.status.busy": "2020-03-04T22:18:42.477502Z",
     "iopub.status.idle": "2020-03-04T22:18:46.883387Z",
     "shell.execute_reply": "2020-03-04T22:18:46.882748Z",
     "shell.execute_reply.started": "2020-03-04T22:18:42.477823Z"
    }
   },
   "outputs": [
    {
     "ename": "ImportError",
     "evalue": "/home/ssmith/benchmark/env/lib/python3.7/site-packages/vaex/strings.cpython-37m-x86_64-linux-gnu.so: undefined symbol: _ZNSt14regex_iteratorIN9__gnu_cxx17__normal_iteratorIPKcSsEEcSt12regex_traitsIcEEC1Ev",
     "output_type": "error",
     "traceback": [
      "\u001b[0;31m---------------------------------------------------------------------------\u001b[0m",
      "\u001b[0;31mImportError\u001b[0m                               Traceback (most recent call last)",
      "\u001b[0;32m<ipython-input-42-5b07d5eff9fe>\u001b[0m in \u001b[0;36m<module>\u001b[0;34m\u001b[0m\n\u001b[0;32m----> 1\u001b[0;31m \u001b[0mreprocessed\u001b[0m\u001b[0;34m.\u001b[0m\u001b[0mcatplot\u001b[0m\u001b[0;34m(\u001b[0m\u001b[0;34m\"cell_type\"\u001b[0m\u001b[0;34m,\u001b[0m \u001b[0mvaex\u001b[0m\u001b[0;34m=\u001b[0m\u001b[0;32mTrue\u001b[0m\u001b[0;34m)\u001b[0m\u001b[0;34m\u001b[0m\u001b[0;34m\u001b[0m\u001b[0m\n\u001b[0m",
      "\u001b[0;32m~/ctxbio/ctxbio/scdata.py\u001b[0m in \u001b[0;36mcatplot\u001b[0;34m(self, cat, ncols, facet, representation, dolabel, **kwargs)\u001b[0m\n\u001b[1;32m    430\u001b[0m             \u001b[0;32mreturn\u001b[0m \u001b[0mcatplot\u001b[0m\u001b[0;34m(\u001b[0m\u001b[0mcoords\u001b[0m\u001b[0;34m,\u001b[0m \u001b[0mcat\u001b[0m\u001b[0;34m,\u001b[0m \u001b[0mncols\u001b[0m\u001b[0;34m=\u001b[0m\u001b[0mncols\u001b[0m\u001b[0;34m,\u001b[0m \u001b[0mfacet\u001b[0m\u001b[0;34m=\u001b[0m\u001b[0mfacet\u001b[0m\u001b[0;34m,\u001b[0m \u001b[0;34m**\u001b[0m\u001b[0mkwargs\u001b[0m\u001b[0;34m)\u001b[0m\u001b[0;34m\u001b[0m\u001b[0;34m\u001b[0m\u001b[0m\n\u001b[1;32m    431\u001b[0m \u001b[0;34m\u001b[0m\u001b[0m\n\u001b[0;32m--> 432\u001b[0;31m         \u001b[0;32mreturn\u001b[0m \u001b[0mcatplot\u001b[0m\u001b[0;34m(\u001b[0m\u001b[0mcoords\u001b[0m\u001b[0;34m,\u001b[0m \u001b[0mself\u001b[0m\u001b[0;34m.\u001b[0m\u001b[0mobs\u001b[0m\u001b[0;34m[\u001b[0m\u001b[0mcat\u001b[0m\u001b[0;34m]\u001b[0m\u001b[0;34m,\u001b[0m \u001b[0mncols\u001b[0m\u001b[0;34m=\u001b[0m\u001b[0mncols\u001b[0m\u001b[0;34m,\u001b[0m \u001b[0mfacet\u001b[0m\u001b[0;34m=\u001b[0m\u001b[0mfacet\u001b[0m\u001b[0;34m,\u001b[0m \u001b[0;34m**\u001b[0m\u001b[0mkwargs\u001b[0m\u001b[0;34m)\u001b[0m\u001b[0;34m\u001b[0m\u001b[0;34m\u001b[0m\u001b[0m\n\u001b[0m\u001b[1;32m    433\u001b[0m \u001b[0;34m\u001b[0m\u001b[0m\n\u001b[1;32m    434\u001b[0m     def stacked_barplot(\n",
      "\u001b[0;32m~/ctxbio/ctxbio/plot/plot.py\u001b[0m in \u001b[0;36mcatplot\u001b[0;34m(coords, q, scale, names, ncols, color, bgcolor, facet, vaex, **kwargs)\u001b[0m\n\u001b[1;32m    572\u001b[0m         \u001b[0mcur_name\u001b[0m \u001b[0;34m=\u001b[0m \u001b[0mnames\u001b[0m\u001b[0;34m[\u001b[0m\u001b[0mi\u001b[0m\u001b[0;34m]\u001b[0m\u001b[0;34m\u001b[0m\u001b[0;34m\u001b[0m\u001b[0m\n\u001b[1;32m    573\u001b[0m \u001b[0;34m\u001b[0m\u001b[0m\n\u001b[0;32m--> 574\u001b[0;31m         \u001b[0m_catplot1\u001b[0m\u001b[0;34m(\u001b[0m\u001b[0mcoords\u001b[0m\u001b[0;34m,\u001b[0m \u001b[0mcurq\u001b[0m\u001b[0;34m,\u001b[0m \u001b[0max\u001b[0m\u001b[0;34m=\u001b[0m\u001b[0max\u001b[0m\u001b[0;34m,\u001b[0m \u001b[0mname\u001b[0m\u001b[0;34m=\u001b[0m\u001b[0mcur_name\u001b[0m\u001b[0;34m,\u001b[0m \u001b[0mfgcolor\u001b[0m\u001b[0;34m=\u001b[0m\u001b[0mcolor\u001b[0m\u001b[0;34m[\u001b[0m\u001b[0mcur_name\u001b[0m\u001b[0;34m]\u001b[0m\u001b[0;34m,\u001b[0m \u001b[0mvaex\u001b[0m\u001b[0;34m=\u001b[0m\u001b[0mvaex\u001b[0m\u001b[0;34m,\u001b[0m \u001b[0;34m**\u001b[0m\u001b[0mkwargs\u001b[0m\u001b[0;34m)\u001b[0m\u001b[0;34m\u001b[0m\u001b[0;34m\u001b[0m\u001b[0m\n\u001b[0m\u001b[1;32m    575\u001b[0m \u001b[0;34m\u001b[0m\u001b[0m\n\u001b[1;32m    576\u001b[0m \u001b[0;34m\u001b[0m\u001b[0m\n",
      "\u001b[0;32m~/ctxbio/ctxbio/plot/plot.py\u001b[0m in \u001b[0;36m_catplot1\u001b[0;34m(coords, cat, ax, pointsize, name, units, bgcolor, fgcolor, vaex)\u001b[0m\n\u001b[1;32m    589\u001b[0m \u001b[0;34m\u001b[0m\u001b[0m\n\u001b[1;32m    590\u001b[0m     \u001b[0mx\u001b[0m\u001b[0;34m,\u001b[0m \u001b[0my\u001b[0m \u001b[0;34m=\u001b[0m \u001b[0mcoords\u001b[0m\u001b[0;34m.\u001b[0m\u001b[0mloc\u001b[0m\u001b[0;34m[\u001b[0m\u001b[0;34m:\u001b[0m\u001b[0;34m,\u001b[0m \u001b[0;36m0\u001b[0m\u001b[0;34m]\u001b[0m\u001b[0;34m,\u001b[0m \u001b[0mcoords\u001b[0m\u001b[0;34m.\u001b[0m\u001b[0mloc\u001b[0m\u001b[0;34m[\u001b[0m\u001b[0;34m:\u001b[0m\u001b[0;34m,\u001b[0m \u001b[0;36m1\u001b[0m\u001b[0;34m]\u001b[0m\u001b[0;34m\u001b[0m\u001b[0;34m\u001b[0m\u001b[0m\n\u001b[0;32m--> 591\u001b[0;31m     \u001b[0m_scatter\u001b[0m \u001b[0;34m=\u001b[0m \u001b[0mscatter\u001b[0m\u001b[0;34m(\u001b[0m\u001b[0mx\u001b[0m\u001b[0;34m,\u001b[0m \u001b[0my\u001b[0m\u001b[0;34m,\u001b[0m \u001b[0mcolor\u001b[0m\u001b[0;34m=\u001b[0m\u001b[0mbgcolor\u001b[0m\u001b[0;34m,\u001b[0m \u001b[0max\u001b[0m\u001b[0;34m=\u001b[0m\u001b[0max\u001b[0m\u001b[0;34m,\u001b[0m \u001b[0msquare\u001b[0m\u001b[0;34m=\u001b[0m\u001b[0;32mTrue\u001b[0m\u001b[0;34m,\u001b[0m \u001b[0ms\u001b[0m\u001b[0;34m=\u001b[0m\u001b[0mpointsize\u001b[0m\u001b[0;34m,\u001b[0m \u001b[0mvaex\u001b[0m\u001b[0;34m=\u001b[0m\u001b[0mvaex\u001b[0m\u001b[0;34m)\u001b[0m\u001b[0;34m\u001b[0m\u001b[0;34m\u001b[0m\u001b[0m\n\u001b[0m\u001b[1;32m    592\u001b[0m \u001b[0;34m\u001b[0m\u001b[0m\n\u001b[1;32m    593\u001b[0m     \u001b[0mx\u001b[0m\u001b[0;34m,\u001b[0m \u001b[0my\u001b[0m \u001b[0;34m=\u001b[0m \u001b[0mcoords\u001b[0m\u001b[0;34m.\u001b[0m\u001b[0mloc\u001b[0m\u001b[0;34m[\u001b[0m\u001b[0mcat\u001b[0m\u001b[0;34m,\u001b[0m \u001b[0;36m0\u001b[0m\u001b[0;34m]\u001b[0m\u001b[0;34m,\u001b[0m \u001b[0mcoords\u001b[0m\u001b[0;34m.\u001b[0m\u001b[0mloc\u001b[0m\u001b[0;34m[\u001b[0m\u001b[0mcat\u001b[0m\u001b[0;34m,\u001b[0m \u001b[0;36m1\u001b[0m\u001b[0;34m]\u001b[0m\u001b[0;34m\u001b[0m\u001b[0;34m\u001b[0m\u001b[0m\n",
      "\u001b[0;32m~/ctxbio/ctxbio/plot/plot.py\u001b[0m in \u001b[0;36mfn\u001b[0;34m(*args, **kwargs)\u001b[0m\n\u001b[1;32m     45\u001b[0m         \u001b[0;31m# get the value from OPTIONS at runtime\u001b[0m\u001b[0;34m\u001b[0m\u001b[0;34m\u001b[0m\u001b[0;34m\u001b[0m\u001b[0m\n\u001b[1;32m     46\u001b[0m         \u001b[0mcur_values\u001b[0m \u001b[0;34m=\u001b[0m \u001b[0;34m{\u001b[0m\u001b[0mparam_name\u001b[0m\u001b[0;34m:\u001b[0m \u001b[0mOPTIONS\u001b[0m\u001b[0;34m[\u001b[0m\u001b[0mopt_name\u001b[0m\u001b[0;34m]\u001b[0m \u001b[0;32mfor\u001b[0m \u001b[0mparam_name\u001b[0m\u001b[0;34m,\u001b[0m \u001b[0mopt_name\u001b[0m \u001b[0;32min\u001b[0m \u001b[0mcur_opts\u001b[0m\u001b[0;34m}\u001b[0m\u001b[0;34m\u001b[0m\u001b[0;34m\u001b[0m\u001b[0m\n\u001b[0;32m---> 47\u001b[0;31m         \u001b[0;32mreturn\u001b[0m \u001b[0mfunction\u001b[0m\u001b[0;34m(\u001b[0m\u001b[0;34m*\u001b[0m\u001b[0margs\u001b[0m\u001b[0;34m,\u001b[0m \u001b[0;34m**\u001b[0m\u001b[0;34m{\u001b[0m\u001b[0;34m**\u001b[0m\u001b[0mcur_values\u001b[0m\u001b[0;34m,\u001b[0m \u001b[0;34m**\u001b[0m\u001b[0mkwargs\u001b[0m\u001b[0;34m}\u001b[0m\u001b[0;34m)\u001b[0m\u001b[0;34m\u001b[0m\u001b[0;34m\u001b[0m\u001b[0m\n\u001b[0m\u001b[1;32m     48\u001b[0m \u001b[0;34m\u001b[0m\u001b[0m\n\u001b[1;32m     49\u001b[0m     \u001b[0;32mreturn\u001b[0m \u001b[0mfn\u001b[0m\u001b[0;34m\u001b[0m\u001b[0;34m\u001b[0m\u001b[0m\n",
      "\u001b[0;32m~/ctxbio/ctxbio/plot/plot.py\u001b[0m in \u001b[0;36mscatter\u001b[0;34m(x, y, label, color, ax, xlabel, ylabel, title, square, legend, vaex, vaex_grid_size, **kwdargs)\u001b[0m\n\u001b[1;32m    244\u001b[0m     \u001b[0;32mif\u001b[0m \u001b[0mlabel\u001b[0m \u001b[0;32mis\u001b[0m \u001b[0;32mNone\u001b[0m\u001b[0;34m:\u001b[0m\u001b[0;34m\u001b[0m\u001b[0;34m\u001b[0m\u001b[0m\n\u001b[1;32m    245\u001b[0m         obj = _scatter(\n\u001b[0;32m--> 246\u001b[0;31m             \u001b[0mx\u001b[0m\u001b[0;34m,\u001b[0m \u001b[0my\u001b[0m\u001b[0;34m,\u001b[0m \u001b[0mcolor\u001b[0m\u001b[0;34m=\u001b[0m\u001b[0mcolor\u001b[0m\u001b[0;34m,\u001b[0m \u001b[0max\u001b[0m\u001b[0;34m=\u001b[0m\u001b[0max\u001b[0m\u001b[0;34m,\u001b[0m \u001b[0mvaex\u001b[0m\u001b[0;34m=\u001b[0m\u001b[0mvaex\u001b[0m\u001b[0;34m,\u001b[0m \u001b[0mvaex_grid_size\u001b[0m\u001b[0;34m=\u001b[0m\u001b[0mvaex_grid_size\u001b[0m\u001b[0;34m,\u001b[0m \u001b[0;34m**\u001b[0m\u001b[0mkwdargs\u001b[0m\u001b[0;34m\u001b[0m\u001b[0;34m\u001b[0m\u001b[0m\n\u001b[0m\u001b[1;32m    247\u001b[0m         )\n\u001b[1;32m    248\u001b[0m     \u001b[0;32melse\u001b[0m\u001b[0;34m:\u001b[0m\u001b[0;34m\u001b[0m\u001b[0;34m\u001b[0m\u001b[0m\n",
      "\u001b[0;32m~/ctxbio/ctxbio/plot/plot.py\u001b[0m in \u001b[0;36m_scatter\u001b[0;34m(x, y, ax, color, vaex, vaex_grid_size, **kwdargs)\u001b[0m\n\u001b[1;32m    284\u001b[0m         \u001b[0;32mreturn\u001b[0m \u001b[0max\u001b[0m\u001b[0;34m.\u001b[0m\u001b[0mscatter\u001b[0m\u001b[0;34m(\u001b[0m\u001b[0mx\u001b[0m\u001b[0;34m,\u001b[0m \u001b[0my\u001b[0m\u001b[0;34m,\u001b[0m \u001b[0mc\u001b[0m\u001b[0;34m=\u001b[0m\u001b[0mcolor\u001b[0m\u001b[0;34m,\u001b[0m \u001b[0;34m**\u001b[0m\u001b[0mkwdargs\u001b[0m\u001b[0;34m)\u001b[0m\u001b[0;34m\u001b[0m\u001b[0;34m\u001b[0m\u001b[0m\n\u001b[1;32m    285\u001b[0m     \u001b[0;32melse\u001b[0m\u001b[0;34m:\u001b[0m\u001b[0;34m\u001b[0m\u001b[0;34m\u001b[0m\u001b[0m\n\u001b[0;32m--> 286\u001b[0;31m         \u001b[0;32mimport\u001b[0m \u001b[0mvaex\u001b[0m\u001b[0;34m\u001b[0m\u001b[0;34m\u001b[0m\u001b[0m\n\u001b[0m\u001b[1;32m    287\u001b[0m \u001b[0;34m\u001b[0m\u001b[0m\n\u001b[1;32m    288\u001b[0m         \u001b[0mdf\u001b[0m \u001b[0;34m=\u001b[0m \u001b[0mvaex\u001b[0m\u001b[0;34m.\u001b[0m\u001b[0mfrom_arrays\u001b[0m\u001b[0;34m(\u001b[0m\u001b[0mx\u001b[0m\u001b[0;34m=\u001b[0m\u001b[0mx\u001b[0m\u001b[0;34m,\u001b[0m \u001b[0my\u001b[0m\u001b[0;34m=\u001b[0m\u001b[0my\u001b[0m\u001b[0;34m)\u001b[0m\u001b[0;34m\u001b[0m\u001b[0;34m\u001b[0m\u001b[0m\n",
      "\u001b[0;32m~/benchmark/env/lib/python3.7/site-packages/vaex/__init__.py\u001b[0m in \u001b[0;36m<module>\u001b[0;34m\u001b[0m\n\u001b[1;32m     35\u001b[0m \u001b[0;32mfrom\u001b[0m \u001b[0m__future__\u001b[0m \u001b[0;32mimport\u001b[0m \u001b[0mprint_function\u001b[0m\u001b[0;34m\u001b[0m\u001b[0;34m\u001b[0m\u001b[0m\n\u001b[1;32m     36\u001b[0m \u001b[0;32mimport\u001b[0m \u001b[0mglob\u001b[0m\u001b[0;34m\u001b[0m\u001b[0;34m\u001b[0m\u001b[0m\n\u001b[0;32m---> 37\u001b[0;31m \u001b[0;32mimport\u001b[0m \u001b[0mvaex\u001b[0m\u001b[0;34m.\u001b[0m\u001b[0mdataframe\u001b[0m\u001b[0;34m\u001b[0m\u001b[0;34m\u001b[0m\u001b[0m\n\u001b[0m\u001b[1;32m     38\u001b[0m \u001b[0;32mimport\u001b[0m \u001b[0mvaex\u001b[0m\u001b[0;34m.\u001b[0m\u001b[0mdataset\u001b[0m\u001b[0;34m\u001b[0m\u001b[0;34m\u001b[0m\u001b[0m\n\u001b[1;32m     39\u001b[0m \u001b[0;32mfrom\u001b[0m \u001b[0mvaex\u001b[0m\u001b[0;34m.\u001b[0m\u001b[0mfunctions\u001b[0m \u001b[0;32mimport\u001b[0m \u001b[0mregister_function\u001b[0m\u001b[0;34m\u001b[0m\u001b[0;34m\u001b[0m\u001b[0m\n",
      "\u001b[0;32m~/benchmark/env/lib/python3.7/site-packages/vaex/dataframe.py\u001b[0m in \u001b[0;36m<module>\u001b[0;34m\u001b[0m\n\u001b[1;32m     31\u001b[0m \u001b[0;32mimport\u001b[0m \u001b[0mlogging\u001b[0m\u001b[0;34m\u001b[0m\u001b[0;34m\u001b[0m\u001b[0m\n\u001b[1;32m     32\u001b[0m \u001b[0;32mimport\u001b[0m \u001b[0mvaex\u001b[0m\u001b[0;34m.\u001b[0m\u001b[0mkld\u001b[0m\u001b[0;34m\u001b[0m\u001b[0;34m\u001b[0m\u001b[0m\n\u001b[0;32m---> 33\u001b[0;31m \u001b[0;32mfrom\u001b[0m \u001b[0;34m.\u001b[0m \u001b[0;32mimport\u001b[0m \u001b[0mselections\u001b[0m\u001b[0;34m,\u001b[0m \u001b[0mtasks\u001b[0m\u001b[0;34m,\u001b[0m \u001b[0mscopes\u001b[0m\u001b[0;34m\u001b[0m\u001b[0;34m\u001b[0m\u001b[0m\n\u001b[0m\u001b[1;32m     34\u001b[0m \u001b[0;32mfrom\u001b[0m \u001b[0;34m.\u001b[0m\u001b[0mexpression\u001b[0m \u001b[0;32mimport\u001b[0m \u001b[0mexpression_namespace\u001b[0m\u001b[0;34m\u001b[0m\u001b[0;34m\u001b[0m\u001b[0m\n\u001b[1;32m     35\u001b[0m \u001b[0;32mfrom\u001b[0m \u001b[0;34m.\u001b[0m\u001b[0mdelayed\u001b[0m \u001b[0;32mimport\u001b[0m \u001b[0mdelayed\u001b[0m\u001b[0;34m,\u001b[0m \u001b[0mdelayed_args\u001b[0m\u001b[0;34m,\u001b[0m \u001b[0mdelayed_list\u001b[0m\u001b[0;34m\u001b[0m\u001b[0;34m\u001b[0m\u001b[0m\n",
      "\u001b[0;32m~/benchmark/env/lib/python3.7/site-packages/vaex/selections.py\u001b[0m in \u001b[0;36m<module>\u001b[0;34m\u001b[0m\n\u001b[1;32m      2\u001b[0m \u001b[0;32mimport\u001b[0m \u001b[0mnumpy\u001b[0m \u001b[0;32mas\u001b[0m \u001b[0mnp\u001b[0m\u001b[0;34m\u001b[0m\u001b[0;34m\u001b[0m\u001b[0m\n\u001b[1;32m      3\u001b[0m \u001b[0;34m\u001b[0m\u001b[0m\n\u001b[0;32m----> 4\u001b[0;31m \u001b[0;32mimport\u001b[0m \u001b[0mvaex\u001b[0m\u001b[0;34m.\u001b[0m\u001b[0mexpression\u001b[0m\u001b[0;34m\u001b[0m\u001b[0;34m\u001b[0m\u001b[0m\n\u001b[0m\u001b[1;32m      5\u001b[0m \u001b[0;32mfrom\u001b[0m \u001b[0;34m.\u001b[0m\u001b[0mutils\u001b[0m \u001b[0;32mimport\u001b[0m \u001b[0m_split_and_combine_mask\u001b[0m\u001b[0;34m,\u001b[0m \u001b[0mas_flat_float\u001b[0m\u001b[0;34m\u001b[0m\u001b[0;34m\u001b[0m\u001b[0m\n\u001b[1;32m      6\u001b[0m \u001b[0;34m\u001b[0m\u001b[0m\n",
      "\u001b[0;32m~/benchmark/env/lib/python3.7/site-packages/vaex/expression.py\u001b[0m in \u001b[0;36m<module>\u001b[0;34m\u001b[0m\n\u001b[1;32m     10\u001b[0m \u001b[0;34m\u001b[0m\u001b[0m\n\u001b[1;32m     11\u001b[0m \u001b[0;32mfrom\u001b[0m \u001b[0mvaex\u001b[0m\u001b[0;34m.\u001b[0m\u001b[0mutils\u001b[0m \u001b[0;32mimport\u001b[0m \u001b[0m_ensure_strings_from_expressions\u001b[0m\u001b[0;34m,\u001b[0m \u001b[0m_ensure_string_from_expression\u001b[0m\u001b[0;34m\u001b[0m\u001b[0;34m\u001b[0m\u001b[0m\n\u001b[0;32m---> 12\u001b[0;31m \u001b[0;32mfrom\u001b[0m \u001b[0mvaex\u001b[0m\u001b[0;34m.\u001b[0m\u001b[0mcolumn\u001b[0m \u001b[0;32mimport\u001b[0m \u001b[0mColumnString\u001b[0m\u001b[0;34m\u001b[0m\u001b[0;34m\u001b[0m\u001b[0m\n\u001b[0m\u001b[1;32m     13\u001b[0m \u001b[0;32mimport\u001b[0m \u001b[0mvaex\u001b[0m\u001b[0;34m.\u001b[0m\u001b[0mserialize\u001b[0m\u001b[0;34m\u001b[0m\u001b[0;34m\u001b[0m\u001b[0m\n\u001b[1;32m     14\u001b[0m \u001b[0;32mfrom\u001b[0m \u001b[0;34m.\u001b[0m \u001b[0;32mimport\u001b[0m \u001b[0mexpresso\u001b[0m\u001b[0;34m\u001b[0m\u001b[0;34m\u001b[0m\u001b[0m\n",
      "\u001b[0;32m~/benchmark/env/lib/python3.7/site-packages/vaex/column.py\u001b[0m in \u001b[0;36m<module>\u001b[0;34m\u001b[0m\n\u001b[1;32m      4\u001b[0m \u001b[0;32mimport\u001b[0m \u001b[0mnumpy\u001b[0m \u001b[0;32mas\u001b[0m \u001b[0mnp\u001b[0m\u001b[0;34m\u001b[0m\u001b[0;34m\u001b[0m\u001b[0m\n\u001b[1;32m      5\u001b[0m \u001b[0;34m\u001b[0m\u001b[0m\n\u001b[0;32m----> 6\u001b[0;31m \u001b[0;32mimport\u001b[0m \u001b[0mvaex\u001b[0m\u001b[0;34m.\u001b[0m\u001b[0mstrings\u001b[0m\u001b[0;34m\u001b[0m\u001b[0;34m\u001b[0m\u001b[0m\n\u001b[0m\u001b[1;32m      7\u001b[0m \u001b[0;34m\u001b[0m\u001b[0m\n\u001b[1;32m      8\u001b[0m \u001b[0;34m\u001b[0m\u001b[0m\n",
      "\u001b[0;31mImportError\u001b[0m: /home/ssmith/benchmark/env/lib/python3.7/site-packages/vaex/strings.cpython-37m-x86_64-linux-gnu.so: undefined symbol: _ZNSt14regex_iteratorIN9__gnu_cxx17__normal_iteratorIPKcSsEEcSt12regex_traitsIcEEC1Ev"
     ]
    }
   ],
   "source": [
    "reprocessed.catplot(\"cell_type\", vaex=True)"
   ]
  },
  {
   "cell_type": "code",
   "execution_count": null,
   "metadata": {},
   "outputs": [],
   "source": []
  },
  {
   "cell_type": "code",
   "execution_count": null,
   "metadata": {},
   "outputs": [],
   "source": []
  }
 ],
 "metadata": {
  "kernelspec": {
   "display_name": "Python 3",
   "language": "python",
   "name": "python3"
  },
  "language_info": {
   "codemirror_mode": {
    "name": "ipython",
    "version": 3
   },
   "file_extension": ".py",
   "mimetype": "text/x-python",
   "name": "python",
   "nbconvert_exporter": "python",
   "pygments_lexer": "ipython3",
   "version": "3.7.4"
  },
  "record_timing": true
 },
 "nbformat": 4,
 "nbformat_minor": 4
}
