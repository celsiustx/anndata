{
 "cells": [
  {
   "cell_type": "code",
   "execution_count": 1,
   "metadata": {
    "execution": {
     "iopub.execute_input": "2020-03-04T13:41:46.547799Z",
     "iopub.status.busy": "2020-03-04T13:41:46.547507Z",
     "iopub.status.idle": "2020-03-04T13:41:57.289192Z",
     "shell.execute_reply": "2020-03-04T13:41:57.288145Z",
     "shell.execute_reply.started": "2020-03-04T13:41:46.547753Z"
    }
   },
   "outputs": [],
   "source": [
    "from ctxbio.imports import *"
   ]
  },
  {
   "cell_type": "code",
   "execution_count": 2,
   "metadata": {
    "execution": {
     "iopub.execute_input": "2020-03-04T13:41:57.290765Z",
     "iopub.status.busy": "2020-03-04T13:41:57.290454Z",
     "iopub.status.idle": "2020-03-04T13:41:57.294522Z",
     "shell.execute_reply": "2020-03-04T13:41:57.293544Z",
     "shell.execute_reply.started": "2020-03-04T13:41:57.290714Z"
    }
   },
   "outputs": [],
   "source": [
    "import glob"
   ]
  },
  {
   "cell_type": "code",
   "execution_count": 3,
   "metadata": {
    "execution": {
     "iopub.execute_input": "2020-03-04T22:25:13.962020Z",
     "iopub.status.busy": "2020-03-04T22:25:13.961513Z",
     "iopub.status.idle": "2020-03-04T22:25:13.965180Z",
     "shell.execute_reply": "2020-03-04T22:25:13.964501Z",
     "shell.execute_reply.started": "2020-03-04T22:25:13.961973Z"
    }
   },
   "outputs": [],
   "source": [
    "# adjust as appropriate for your system\n",
    "basepath = \"/mnt/ebs_gp2/moredata/\""
   ]
  },
  {
   "cell_type": "code",
   "execution_count": null,
   "metadata": {},
   "outputs": [],
   "source": []
  },
  {
   "cell_type": "markdown",
   "metadata": {},
   "source": [
    "The next 3 sections split up the original notebook so we can see exactly which parts of the code are slow.  The original timings were:\n",
    "```\n",
    "CPU times: user 27 s, sys: 2.34 s, total: 29.3 s\n",
    "Wall time: 29.2 s\n",
    "```\n",
    "The code below takes 24.5s total, so the original code takes 20% longer.  This could be because of NFS, or because the test server has faster CPUs."
   ]
  },
  {
   "cell_type": "code",
   "execution_count": 4,
   "metadata": {},
   "outputs": [
    {
     "name": "stdout",
     "output_type": "stream",
     "text": [
      "/mnt/ebs_gp2/moredata/CID003069-1.h5ad 1 of 1\n"
     ]
    },
    {
     "name": "stderr",
     "output_type": "stream",
     "text": [
      "Variable names are not unique. To make them unique, call `.var_names_make_unique`.\n",
      "Variable names are not unique. To make them unique, call `.var_names_make_unique`.\n"
     ]
    },
    {
     "name": "stdout",
     "output_type": "stream",
     "text": [
      "CPU times: user 2.48 s, sys: 451 ms, total: 2.93 s\n",
      "Wall time: 4.29 s\n"
     ]
    }
   ],
   "source": [
    "%%time\n",
    "adata_raw = {}\n",
    "paths = glob.glob(os.path.join(basepath, \"*.h5ad\"))\n",
    "for i, path in enumerate(paths):#[:4]:\n",
    "    print(path, i+1, \"of\", len(paths))\n",
    "    name = os.path.basename(path).split(\".\")[0]\n",
    "    cur_adata = sc.read_10x_h5(path)\n",
    "    adata_raw[name] = cur_adata"
   ]
  },
  {
   "cell_type": "code",
   "execution_count": null,
   "metadata": {},
   "outputs": [],
   "source": []
  },
  {
   "cell_type": "markdown",
   "metadata": {},
   "source": [
    "Timings: \n",
    "```\n",
    "CPU times: user 21.5 s, sys: 1.82 s, total: 23.4 s\n",
    "Wall time: 23.3 s\n",
    "```\n",
    "Reading the files CPU-bound when accesssing `/mnt/ebs_gp2/`, and consumes most of the time.  Switching to `ssd` provides no benefit, as expected."
   ]
  },
  {
   "cell_type": "code",
   "execution_count": null,
   "metadata": {},
   "outputs": [],
   "source": [
    "%%time\n",
    "paths = glob.glob(os.path.join(basepath, \"*.h5ad\"))\n",
    "for i, path in enumerate(paths):#[:4]:\n",
    "    print(path, i+1, \"of\", len(paths))\n",
    "    name = os.path.basename(path).split(\".\")[0]\n",
    "    cur_adata = adata_raw[name]\n",
    "    cur_adata.var_names_make_unique()"
   ]
  },
  {
   "cell_type": "markdown",
   "metadata": {},
   "source": [
    "Timings: \n",
    "```\n",
    "CPU times: user 145 ms, sys: 4.42 ms, total: 149 ms\n",
    "Wall time: 143 ms\n",
    "```\n",
    "Making the names unique takes negligible time."
   ]
  },
  {
   "cell_type": "code",
   "execution_count": null,
   "metadata": {
    "scrolled": true
   },
   "outputs": [],
   "source": [
    "%%time\n",
    "adata_collection = {}\n",
    "paths = glob.glob(os.path.join(basepath, \"*.h5ad\"))\n",
    "for i, path in enumerate(paths):#[:4]:\n",
    "    print(path, i+1, \"of\", len(paths))\n",
    "    name = os.path.basename(path).split(\".\")[0]\n",
    "    cur_adata = adata_raw[name]\n",
    "    cur_adata = cur_adata[cur_adata.X.sum(axis=1).A.flatten()>250].copy()\n",
    "    cur_adata.obs[\"sample\"] = name\n",
    "    print(\"  \", cur_adata.shape)\n",
    "    if cur_adata.shape[0] < 500: continue\n",
    "    adata_collection[name] = cur_adata    "
   ]
  },
  {
   "cell_type": "markdown",
   "metadata": {},
   "source": [
    "Timings: \n",
    "```\n",
    "/mnt/ssd_gp2/moredata/*\n",
    "CPU times: user 1.03 s, sys: 199 ms, total: 1.23 s\n",
    "Wall time: 1.22 s\n",
    "```\n",
    "The flattening operation takes a small but measurable amount of time."
   ]
  },
  {
   "cell_type": "markdown",
   "metadata": {},
   "source": [
    "(in our current pipeline, we actually do a single concatenation of a really big matrix, which is kind of slow but better than the alternative of having to re-do the concatenations which is truly cumbersome with our current infrastructure)"
   ]
  },
  {
   "cell_type": "code",
   "execution_count": null,
   "metadata": {
    "execution": {
     "iopub.execute_input": "2020-03-04T13:42:26.524830Z",
     "iopub.status.busy": "2020-03-04T13:42:26.524508Z",
     "iopub.status.idle": "2020-03-04T13:42:30.504594Z",
     "shell.execute_reply": "2020-03-04T13:42:30.503559Z",
     "shell.execute_reply.started": "2020-03-04T13:42:26.524777Z"
    }
   },
   "outputs": [],
   "source": [
    "%%time\n",
    "samples = list(adata_collection.values())\n",
    "together = samples.pop()\n",
    "together = together.concatenate(*samples)"
   ]
  },
  {
   "cell_type": "markdown",
   "metadata": {},
   "source": [
    "Timings:\n",
    "```\n",
    "/mnt/ssd_gp2/moredata/*\n",
    "CPU times: user 2.94 s, sys: 360 ms, total: 3.3 s\n",
    "Wall time: 3.3 s\n",
    "```\n",
    "Concatenation takes just over 3s here.  But in real world scenarios this is a barrier.\n",
    "\n",
    "When the samples list is 5x the size, the time goes up >7x?\n",
    "```\n",
    "CPU times: user 21.7 s, sys: 2.31 s, total: 24 s\n",
    "Wall time: 24 s\n",
    "```"
   ]
  },
  {
   "cell_type": "code",
   "execution_count": null,
   "metadata": {},
   "outputs": [],
   "source": []
  },
  {
   "cell_type": "code",
   "execution_count": null,
   "metadata": {
    "execution": {
     "iopub.execute_input": "2020-03-04T13:42:30.506082Z",
     "iopub.status.busy": "2020-03-04T13:42:30.505764Z",
     "iopub.status.idle": "2020-03-04T13:42:30.513040Z",
     "shell.execute_reply": "2020-03-04T13:42:30.512047Z",
     "shell.execute_reply.started": "2020-03-04T13:42:30.506029Z"
    }
   },
   "outputs": [],
   "source": [
    "%%time\n",
    "together = SCData(together)\n",
    "\n",
    "together.raw = together\n",
    "together.uns[\"species\"] = \"Human\"\n",
    "together"
   ]
  },
  {
   "cell_type": "code",
   "execution_count": null,
   "metadata": {
    "execution": {
     "iopub.execute_input": "2020-03-04T13:42:30.514422Z",
     "iopub.status.busy": "2020-03-04T13:42:30.514114Z",
     "iopub.status.idle": "2020-03-04T13:42:30.541367Z",
     "shell.execute_reply": "2020-03-04T13:42:30.540361Z",
     "shell.execute_reply.started": "2020-03-04T13:42:30.514372Z"
    }
   },
   "outputs": [],
   "source": [
    "together.obs[\"batch\"] = together.obs[\"batch\"].astype(int)"
   ]
  },
  {
   "cell_type": "markdown",
   "metadata": {},
   "source": [
    "I haven't carefully profiled the preprocess/reprocess step below, but I believe about half the time is spent using an inefficient clustering algorithm that we're in the process of upgrading. The other big step is training the deep learning model, and I don't think that'll be something we can do a whole lot to improve."
   ]
  },
  {
   "cell_type": "code",
   "execution_count": null,
   "metadata": {
    "execution": {
     "iopub.execute_input": "2020-03-04T13:42:30.542739Z",
     "iopub.status.busy": "2020-03-04T13:42:30.542430Z",
     "iopub.status.idle": "2020-03-04T14:33:09.453828Z",
     "shell.execute_reply": "2020-03-04T14:33:09.453002Z",
     "shell.execute_reply.started": "2020-03-04T13:42:30.542689Z"
    }
   },
   "outputs": [],
   "source": [
    "%%time\n",
    "reprocessed = SCData(together).reprocess()"
   ]
  },
  {
   "cell_type": "markdown",
   "metadata": {},
   "source": [
    "Timings:\n",
    "```\n",
    "CPU times: user 2h 50min 6s, sys: 7min 43s, total: 2h 57min 50s\n",
    "Wall time: 40min 18s\n",
    "```\n"
   ]
  },
  {
   "cell_type": "code",
   "execution_count": null,
   "metadata": {
    "execution": {
     "iopub.execute_input": "2020-03-04T14:33:09.455175Z",
     "iopub.status.busy": "2020-03-04T14:33:09.454890Z",
     "iopub.status.idle": "2020-03-04T14:33:09.459387Z",
     "shell.execute_reply": "2020-03-04T14:33:09.458780Z",
     "shell.execute_reply.started": "2020-03-04T14:33:09.455132Z"
    }
   },
   "outputs": [],
   "source": [
    "reprocessed"
   ]
  },
  {
   "cell_type": "code",
   "execution_count": null,
   "metadata": {
    "execution": {
     "iopub.execute_input": "2020-03-04T17:07:14.629104Z",
     "iopub.status.busy": "2020-03-04T17:07:14.628760Z",
     "iopub.status.idle": "2020-03-04T17:07:14.633934Z",
     "shell.execute_reply": "2020-03-04T17:07:14.633321Z",
     "shell.execute_reply.started": "2020-03-04T17:07:14.629056Z"
    }
   },
   "outputs": [],
   "source": [
    "reprocessed.X"
   ]
  },
  {
   "cell_type": "code",
   "execution_count": null,
   "metadata": {
    "execution": {
     "iopub.execute_input": "2020-03-04T17:08:17.397725Z",
     "iopub.status.busy": "2020-03-04T17:08:17.397377Z",
     "iopub.status.idle": "2020-03-04T17:08:17.402622Z",
     "shell.execute_reply": "2020-03-04T17:08:17.402012Z",
     "shell.execute_reply.started": "2020-03-04T17:08:17.397677Z"
    }
   },
   "outputs": [],
   "source": [
    "\"density:\", reprocessed.X.nnz/(reprocessed.X.shape[0]*reprocessed.X.shape[1])"
   ]
  },
  {
   "cell_type": "markdown",
   "metadata": {},
   "source": [
    "After processing the data, we typically do some exploratory data analysis to identify cell populations of interest.\n",
    "\n",
    "We use the `vaex` library to summarize data in a gridded fashion prior to plotting using matplotlib, as matplotlib alone is incapable of rendering large numbers of points."
   ]
  },
  {
   "cell_type": "code",
   "execution_count": null,
   "metadata": {
    "execution": {
     "iopub.execute_input": "2020-03-04T22:12:06.807936Z",
     "iopub.status.busy": "2020-03-04T22:12:06.807597Z",
     "iopub.status.idle": "2020-03-04T22:12:08.462662Z",
     "shell.execute_reply": "2020-03-04T22:12:08.461660Z",
     "shell.execute_reply.started": "2020-03-04T22:12:06.807891Z"
    }
   },
   "outputs": [],
   "source": [
    "reprocessed.qplot(\"PTPRC\", vaex=True, pointsize=1, scale=1.5)"
   ]
  },
  {
   "cell_type": "code",
   "execution_count": null,
   "metadata": {
    "execution": {
     "iopub.execute_input": "2020-03-04T22:09:50.261305Z",
     "iopub.status.busy": "2020-03-04T22:09:50.260954Z",
     "iopub.status.idle": "2020-03-04T22:09:51.743134Z",
     "shell.execute_reply": "2020-03-04T22:09:51.742308Z",
     "shell.execute_reply.started": "2020-03-04T22:09:50.261257Z"
    }
   },
   "outputs": [],
   "source": [
    "_, ax = plt.subplots(figsize=(8,8))\n",
    "reprocessed.catplot(\"clusters\", vaex=True, ax=ax, facet=False)"
   ]
  },
  {
   "cell_type": "code",
   "execution_count": null,
   "metadata": {},
   "outputs": [],
   "source": []
  },
  {
   "cell_type": "markdown",
   "metadata": {},
   "source": [
    "One thing we do frequently is zoom in on a subset of cells by retraining our dimensionality reduction functions on only that subset of cells (eg T cells or endothelial cells). Then, we'd like to carry annotations made in those subviews back to the main dataset."
   ]
  },
  {
   "cell_type": "code",
   "execution_count": null,
   "metadata": {
    "execution": {
     "iopub.execute_input": "2020-03-04T22:12:34.912951Z",
     "iopub.status.busy": "2020-03-04T22:12:34.912609Z",
     "iopub.status.idle": "2020-03-04T22:14:29.372523Z",
     "shell.execute_reply": "2020-03-04T22:14:29.371749Z",
     "shell.execute_reply.started": "2020-03-04T22:12:34.912905Z"
    }
   },
   "outputs": [],
   "source": [
    "cluster2_adata = reprocessed[reprocessed.obs.query(\"clusters=='12'\").index].reprocess()"
   ]
  },
  {
   "cell_type": "code",
   "execution_count": null,
   "metadata": {
    "execution": {
     "iopub.execute_input": "2020-03-04T22:15:18.687595Z",
     "iopub.status.busy": "2020-03-04T22:15:18.687256Z",
     "iopub.status.idle": "2020-03-04T22:15:21.635991Z",
     "shell.execute_reply": "2020-03-04T22:15:21.635358Z",
     "shell.execute_reply.started": "2020-03-04T22:15:18.687550Z"
    }
   },
   "outputs": [],
   "source": [
    "cluster2_adata.catplot(\"clusters\")"
   ]
  },
  {
   "cell_type": "code",
   "execution_count": null,
   "metadata": {
    "execution": {
     "iopub.execute_input": "2020-03-04T22:15:32.530253Z",
     "iopub.status.busy": "2020-03-04T22:15:32.529916Z",
     "iopub.status.idle": "2020-03-04T22:15:34.462177Z",
     "shell.execute_reply": "2020-03-04T22:15:34.461389Z",
     "shell.execute_reply.started": "2020-03-04T22:15:32.530207Z"
    }
   },
   "outputs": [],
   "source": [
    "cluster2_adata.diff_exp().head(10)"
   ]
  },
  {
   "cell_type": "code",
   "execution_count": null,
   "metadata": {
    "execution": {
     "iopub.execute_input": "2020-03-04T22:17:24.380068Z",
     "iopub.status.busy": "2020-03-04T22:17:24.379719Z",
     "iopub.status.idle": "2020-03-04T22:17:24.388011Z",
     "shell.execute_reply": "2020-03-04T22:17:24.387373Z",
     "shell.execute_reply.started": "2020-03-04T22:17:24.380019Z"
    }
   },
   "outputs": [],
   "source": [
    "cluster2_adata.assign_labels(\"clusters\", \"cell_type\", {\n",
    "    (\"0\",\"1\",\"2\"):\"Cell Type X\",\n",
    "    (\"3\",\"4\",\"5\"):\"Cell Type Y\",\n",
    "    (\"6\",\"7\"):\"Cell Type Z\",\n",
    "    \"8\":\"W Cells\"\n",
    "})"
   ]
  },
  {
   "cell_type": "code",
   "execution_count": null,
   "metadata": {
    "execution": {
     "iopub.execute_input": "2020-03-04T22:17:33.131163Z",
     "iopub.status.busy": "2020-03-04T22:17:33.130810Z",
     "iopub.status.idle": "2020-03-04T22:17:34.356454Z",
     "shell.execute_reply": "2020-03-04T22:17:34.355730Z",
     "shell.execute_reply.started": "2020-03-04T22:17:33.131115Z"
    }
   },
   "outputs": [],
   "source": [
    "cluster2_adata.catplot(\"cell_type\")"
   ]
  },
  {
   "cell_type": "code",
   "execution_count": null,
   "metadata": {
    "execution": {
     "iopub.execute_input": "2020-03-04T22:18:24.522413Z",
     "iopub.status.busy": "2020-03-04T22:18:24.522083Z",
     "iopub.status.idle": "2020-03-04T22:18:24.536430Z",
     "shell.execute_reply": "2020-03-04T22:18:24.535823Z",
     "shell.execute_reply.started": "2020-03-04T22:18:24.522368Z"
    }
   },
   "outputs": [],
   "source": [
    "reprocessed.obs[\"cell_type\"] = \"Unknown\"\n",
    "reprocessed.obs.loc[cluster2_adata.obs_names, \"cell_type\"] = cluster2_adata.obs[\"cell_type\"]"
   ]
  },
  {
   "cell_type": "code",
   "execution_count": null,
   "metadata": {
    "execution": {
     "iopub.execute_input": "2020-03-04T22:18:42.477872Z",
     "iopub.status.busy": "2020-03-04T22:18:42.477502Z",
     "iopub.status.idle": "2020-03-04T22:18:46.883387Z",
     "shell.execute_reply": "2020-03-04T22:18:46.882748Z",
     "shell.execute_reply.started": "2020-03-04T22:18:42.477823Z"
    }
   },
   "outputs": [],
   "source": [
    "reprocessed.catplot(\"cell_type\", vaex=True)"
   ]
  },
  {
   "cell_type": "code",
   "execution_count": null,
   "metadata": {},
   "outputs": [],
   "source": []
  }
 ],
 "metadata": {
  "kernelspec": {
   "display_name": "Python 3",
   "language": "python",
   "name": "python3"
  },
  "language_info": {
   "codemirror_mode": {
    "name": "ipython",
    "version": 3
   },
   "file_extension": ".py",
   "mimetype": "text/x-python",
   "name": "python",
   "nbconvert_exporter": "python",
   "pygments_lexer": "ipython3",
   "version": "3.7.4"
  },
  "record_timing": true
 },
 "nbformat": 4,
 "nbformat_minor": 4
}
