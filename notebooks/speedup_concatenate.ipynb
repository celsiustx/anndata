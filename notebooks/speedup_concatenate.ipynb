{
 "cells": [
  {
   "cell_type": "code",
   "execution_count": 14,
   "metadata": {},
   "outputs": [],
   "source": [
    "import scanpy as sc\n",
    "import scipy.sparse\n",
    "import pandas as pd\n",
    "import anndata"
   ]
  },
  {
   "cell_type": "code",
   "execution_count": 37,
   "metadata": {},
   "outputs": [],
   "source": [
    "# update the paths here with the 50+ files I shared with you\n",
    "paths = [\n",
    "    \"/mnt/cbbi-data00/internal_data/20190401_001/CSEQ-000258/raw_feature_bc_matrix.h5\",\n",
    "    \"/mnt/cbbi-data00/internal_data/20190401_001/CSEQ-000259/raw_feature_bc_matrix.h5\"\n",
    "]"
   ]
  },
  {
   "cell_type": "code",
   "execution_count": 33,
   "metadata": {},
   "outputs": [
    {
     "name": "stderr",
     "output_type": "stream",
     "text": [
      "Variable names are not unique. To make them unique, call `.var_names_make_unique`.\n",
      "Trying to set attribute `.obs` of view, making a copy.\n",
      "Variable names are not unique. To make them unique, call `.var_names_make_unique`.\n",
      "Variable names are not unique. To make them unique, call `.var_names_make_unique`.\n",
      "Trying to set attribute `.obs` of view, making a copy.\n",
      "Variable names are not unique. To make them unique, call `.var_names_make_unique`.\n",
      "Variable names are not unique. To make them unique, call `.var_names_make_unique`.\n"
     ]
    },
    {
     "name": "stdout",
     "output_type": "stream",
     "text": [
      "/mnt/cbbi-data00/internal_data/20190401_001/CSEQ-000258/raw_feature_bc_matrix.h5 (256753, 33538)\n"
     ]
    },
    {
     "name": "stderr",
     "output_type": "stream",
     "text": [
      "Variable names are not unique. To make them unique, call `.var_names_make_unique`.\n",
      "Trying to set attribute `.obs` of view, making a copy.\n",
      "Variable names are not unique. To make them unique, call `.var_names_make_unique`.\n",
      "Variable names are not unique. To make them unique, call `.var_names_make_unique`.\n",
      "Trying to set attribute `.obs` of view, making a copy.\n",
      "Variable names are not unique. To make them unique, call `.var_names_make_unique`.\n",
      "Variable names are not unique. To make them unique, call `.var_names_make_unique`.\n"
     ]
    },
    {
     "name": "stdout",
     "output_type": "stream",
     "text": [
      "/mnt/cbbi-data00/internal_data/20190401_001/CSEQ-000259/raw_feature_bc_matrix.h5 (178846, 33538)\n"
     ]
    }
   ],
   "source": [
    "var_names = None\n",
    "gexs = []\n",
    "obss = []\n",
    "for i, path in enumerate(paths):\n",
    "    sample_name = f\"Sample{i+1:0>3}\"\n",
    "    \n",
    "    cur_adata = sc.read_10x_h5(path)\n",
    "    \n",
    "    # this filter is currently missing in our version but will almost certainly speed up access to\n",
    "    # the raw data just by adding these two lines of code\n",
    "    cur_adata.obs[\"umi_counts\"] = cur_adata.X.sum(axis=1).A.flatten()\n",
    "    cur_adata = cur_adata[\n",
    "        cur_adata.obs[\"umi_counts\"]>0\n",
    "    ]\n",
    "    \n",
    "    cur_adata.obs_names = sample_name + \":\" + cur_adata.obs_names.str.rsplit(\"-\").str[0]\n",
    "    cur_adata.obs[\"sample\"] = sample_name\n",
    "    \n",
    "    print(path, cur_adata.shape)\n",
    "    \n",
    "    gexs.append(cur_adata.X.tocsr())\n",
    "    obss.append(cur_adata.obs)\n",
    "    \n",
    "    if var_names is None:\n",
    "        var_names = cur_adata.var_names\n",
    "    else:\n",
    "        assert (var_names == cur_adata.var_names).all()"
   ]
  },
  {
   "cell_type": "code",
   "execution_count": null,
   "metadata": {},
   "outputs": [],
   "source": []
  },
  {
   "cell_type": "code",
   "execution_count": 34,
   "metadata": {},
   "outputs": [
    {
     "name": "stderr",
     "output_type": "stream",
     "text": [
      "Variable names are not unique. To make them unique, call `.var_names_make_unique`.\n"
     ]
    }
   ],
   "source": [
    "gex = scipy.sparse.vstack(gexs)\n",
    "\n",
    "obs = pd.concat(obss)\n",
    "\n",
    "adata = anndata.AnnData(gex)\n",
    "adata.var = cur_adata.var\n",
    "adata.var_names = var_names\n",
    "adata.obs = obs"
   ]
  },
  {
   "cell_type": "code",
   "execution_count": 35,
   "metadata": {},
   "outputs": [
    {
     "data": {
      "text/plain": [
       "AnnData object with n_obs × n_vars = 435599 × 33538 \n",
       "    obs: 'umi_counts', 'sample'\n",
       "    var: 'gene_ids', 'feature_types', 'genome'"
      ]
     },
     "execution_count": 35,
     "metadata": {},
     "output_type": "execute_result"
    }
   ],
   "source": [
    "adata"
   ]
  },
  {
   "cell_type": "code",
   "execution_count": 36,
   "metadata": {},
   "outputs": [
    {
     "data": {
      "text/html": [
       "<div>\n",
       "<style scoped>\n",
       "    .dataframe tbody tr th:only-of-type {\n",
       "        vertical-align: middle;\n",
       "    }\n",
       "\n",
       "    .dataframe tbody tr th {\n",
       "        vertical-align: top;\n",
       "    }\n",
       "\n",
       "    .dataframe thead th {\n",
       "        text-align: right;\n",
       "    }\n",
       "</style>\n",
       "<table border=\"1\" class=\"dataframe\">\n",
       "  <thead>\n",
       "    <tr style=\"text-align: right;\">\n",
       "      <th></th>\n",
       "      <th>umi_counts</th>\n",
       "      <th>sample</th>\n",
       "    </tr>\n",
       "  </thead>\n",
       "  <tbody>\n",
       "    <tr>\n",
       "      <th>Sample001:GAGGTGATCCTAGTGA</th>\n",
       "      <td>1.0</td>\n",
       "      <td>Sample001</td>\n",
       "    </tr>\n",
       "    <tr>\n",
       "      <th>Sample001:TTTCCTCGTGAGCGAT</th>\n",
       "      <td>2.0</td>\n",
       "      <td>Sample001</td>\n",
       "    </tr>\n",
       "    <tr>\n",
       "      <th>Sample001:TGAGCCGTCATGTGGT</th>\n",
       "      <td>9358.0</td>\n",
       "      <td>Sample001</td>\n",
       "    </tr>\n",
       "    <tr>\n",
       "      <th>Sample001:CCTTTCTTCAAACAAG</th>\n",
       "      <td>3998.0</td>\n",
       "      <td>Sample001</td>\n",
       "    </tr>\n",
       "    <tr>\n",
       "      <th>Sample001:CTCTACGCATGTCGAT</th>\n",
       "      <td>1.0</td>\n",
       "      <td>Sample001</td>\n",
       "    </tr>\n",
       "  </tbody>\n",
       "</table>\n",
       "</div>"
      ],
      "text/plain": [
       "                            umi_counts     sample\n",
       "Sample001:GAGGTGATCCTAGTGA         1.0  Sample001\n",
       "Sample001:TTTCCTCGTGAGCGAT         2.0  Sample001\n",
       "Sample001:TGAGCCGTCATGTGGT      9358.0  Sample001\n",
       "Sample001:CCTTTCTTCAAACAAG      3998.0  Sample001\n",
       "Sample001:CTCTACGCATGTCGAT         1.0  Sample001"
      ]
     },
     "execution_count": 36,
     "metadata": {},
     "output_type": "execute_result"
    }
   ],
   "source": [
    "adata.obs.sample(5)"
   ]
  },
  {
   "cell_type": "markdown",
   "metadata": {},
   "source": [
    "## What we want\n",
    "\n",
    "* We want to be able to easily create a new filtered_adata matrix, eg changing the umi_counts threshold from 1000 to 500.\n",
    "* We want to have relatively easy access to the unfiltered data from each sample, primarily for qc purposes (ie, we don't really need to access all samples at once, we need to access each unfiltered sample separately but efficiently)"
   ]
  },
  {
   "cell_type": "code",
   "execution_count": 23,
   "metadata": {},
   "outputs": [
    {
     "data": {
      "text/plain": [
       "View of AnnData object with n_obs × n_vars = 9860 × 33538 \n",
       "    obs: 'umi_counts'\n",
       "    var: 'gene_ids', 'feature_types', 'genome'"
      ]
     },
     "execution_count": 23,
     "metadata": {},
     "output_type": "execute_result"
    }
   ],
   "source": [
    "filtered_adata = adata[adata.obs.eval(\"umi_counts>1000\")]\n",
    "filtered_adata"
   ]
  }
 ],
 "metadata": {
  "kernelspec": {
   "display_name": "Python 3",
   "language": "python",
   "name": "python3"
  },
  "language_info": {
   "codemirror_mode": {
    "name": "ipython",
    "version": 3
   },
   "file_extension": ".py",
   "mimetype": "text/x-python",
   "name": "python",
   "nbconvert_exporter": "python",
   "pygments_lexer": "ipython3",
   "version": "3.7.4"
  }
 },
 "nbformat": 4,
 "nbformat_minor": 4
}
