{
 "cells": [
  {
   "cell_type": "code",
   "execution_count": 1,
   "metadata": {
    "execution": {
     "iopub.execute_input": "2020-03-04T13:41:46.547799Z",
     "iopub.status.busy": "2020-03-04T13:41:46.547507Z",
     "iopub.status.idle": "2020-03-04T13:41:57.289192Z",
     "shell.execute_reply": "2020-03-04T13:41:57.288145Z",
     "shell.execute_reply.started": "2020-03-04T13:41:46.547753Z"
    }
   },
   "outputs": [
    {
     "name": "stderr",
     "output_type": "stream",
     "text": [
      "[2020-03-09 07:10:30,446] INFO - scvi._settings | Added StreamHandler with custom formatter to 'scvi' logger.\n",
      "/home/ssmith/benchmark/env/lib/python3.7/site-packages/sklearn/utils/linear_assignment_.py:22: FutureWarning: The linear_assignment_ module is deprecated in 0.21 and will be removed from 0.23. Use scipy.optimize.linear_sum_assignment instead.\n",
      "  FutureWarning)\n",
      "/home/ssmith/benchmark/env/lib/python3.7/site-packages/sklearn/externals/joblib/__init__.py:15: FutureWarning: sklearn.externals.joblib is deprecated in 0.21 and will be removed in 0.23. Please import this functionality directly from joblib, which can be installed with: pip install joblib. If this warning is raised when loading pickled models, you may need to re-serialize those models with scikit-learn 0.21+.\n",
      "  warnings.warn(msg, category=FutureWarning)\n"
     ]
    }
   ],
   "source": [
    "from ctxbio.imports import *"
   ]
  },
  {
   "cell_type": "code",
   "execution_count": 2,
   "metadata": {
    "execution": {
     "iopub.execute_input": "2020-03-04T13:41:57.290765Z",
     "iopub.status.busy": "2020-03-04T13:41:57.290454Z",
     "iopub.status.idle": "2020-03-04T13:41:57.294522Z",
     "shell.execute_reply": "2020-03-04T13:41:57.293544Z",
     "shell.execute_reply.started": "2020-03-04T13:41:57.290714Z"
    }
   },
   "outputs": [],
   "source": [
    "import glob"
   ]
  },
  {
   "cell_type": "code",
   "execution_count": 3,
   "metadata": {
    "execution": {
     "iopub.execute_input": "2020-03-04T22:25:13.962020Z",
     "iopub.status.busy": "2020-03-04T22:25:13.961513Z",
     "iopub.status.idle": "2020-03-04T22:25:13.965180Z",
     "shell.execute_reply": "2020-03-04T22:25:13.964501Z",
     "shell.execute_reply.started": "2020-03-04T22:25:13.961973Z"
    }
   },
   "outputs": [],
   "source": [
    "# adjust as appropriate for your system\n",
    "basepath = \"/mnt/ssd/moredata/\""
   ]
  },
  {
   "cell_type": "code",
   "execution_count": null,
   "metadata": {},
   "outputs": [],
   "source": []
  },
  {
   "cell_type": "markdown",
   "metadata": {},
   "source": [
    "The next 3 sections split up the original notebook so we can see exactly which parts of the code are slow.  The original timings were:\n",
    "```\n",
    "CPU times: user 27 s, sys: 2.34 s, total: 29.3 s\n",
    "Wall time: 29.2 s\n",
    "```\n",
    "The code below takes 24.5s total, so the original code takes 20% longer.  This could be because of NFS, or because the test server has faster CPUs."
   ]
  },
  {
   "cell_type": "code",
   "execution_count": 4,
   "metadata": {},
   "outputs": [
    {
     "name": "stdout",
     "output_type": "stream",
     "text": [
      "/mnt/ssd/moredata/CID003192-1.h5ad 1 of 34\n"
     ]
    },
    {
     "name": "stderr",
     "output_type": "stream",
     "text": [
      "Variable names are not unique. To make them unique, call `.var_names_make_unique`.\n"
     ]
    },
    {
     "name": "stdout",
     "output_type": "stream",
     "text": [
      "/mnt/ssd/moredata/CID003070-1.h5ad 2 of 34\n"
     ]
    },
    {
     "name": "stderr",
     "output_type": "stream",
     "text": [
      "Variable names are not unique. To make them unique, call `.var_names_make_unique`.\n"
     ]
    },
    {
     "name": "stdout",
     "output_type": "stream",
     "text": [
      "/mnt/ssd/moredata/CID003071-1.h5ad 3 of 34\n"
     ]
    },
    {
     "name": "stderr",
     "output_type": "stream",
     "text": [
      "Variable names are not unique. To make them unique, call `.var_names_make_unique`.\n"
     ]
    },
    {
     "name": "stdout",
     "output_type": "stream",
     "text": [
      "/mnt/ssd/moredata/CID003158-1.h5ad 4 of 34\n"
     ]
    },
    {
     "name": "stderr",
     "output_type": "stream",
     "text": [
      "Variable names are not unique. To make them unique, call `.var_names_make_unique`.\n"
     ]
    },
    {
     "name": "stdout",
     "output_type": "stream",
     "text": [
      "/mnt/ssd/moredata/CID003069-1.h5ad 5 of 34\n"
     ]
    },
    {
     "name": "stderr",
     "output_type": "stream",
     "text": [
      "Variable names are not unique. To make them unique, call `.var_names_make_unique`.\n"
     ]
    },
    {
     "name": "stdout",
     "output_type": "stream",
     "text": [
      "/mnt/ssd/moredata/CID003072-1.h5ad 6 of 34\n"
     ]
    },
    {
     "name": "stderr",
     "output_type": "stream",
     "text": [
      "Variable names are not unique. To make them unique, call `.var_names_make_unique`.\n"
     ]
    },
    {
     "name": "stdout",
     "output_type": "stream",
     "text": [
      "/mnt/ssd/moredata/CID003193-1.h5ad 7 of 34\n"
     ]
    },
    {
     "name": "stderr",
     "output_type": "stream",
     "text": [
      "Variable names are not unique. To make them unique, call `.var_names_make_unique`.\n"
     ]
    },
    {
     "name": "stdout",
     "output_type": "stream",
     "text": [
      "/mnt/ssd/moredata/CID003158-2.h5ad 8 of 34\n"
     ]
    },
    {
     "name": "stderr",
     "output_type": "stream",
     "text": [
      "Variable names are not unique. To make them unique, call `.var_names_make_unique`.\n"
     ]
    },
    {
     "name": "stdout",
     "output_type": "stream",
     "text": [
      "/mnt/ssd/moredata/CID003185-1.h5ad 9 of 34\n"
     ]
    },
    {
     "name": "stderr",
     "output_type": "stream",
     "text": [
      "Variable names are not unique. To make them unique, call `.var_names_make_unique`.\n"
     ]
    },
    {
     "name": "stdout",
     "output_type": "stream",
     "text": [
      "/mnt/ssd/moredata/CID003195-1.h5ad 10 of 34\n"
     ]
    },
    {
     "name": "stderr",
     "output_type": "stream",
     "text": [
      "Variable names are not unique. To make them unique, call `.var_names_make_unique`.\n"
     ]
    },
    {
     "name": "stdout",
     "output_type": "stream",
     "text": [
      "/mnt/ssd/moredata/CID003186-1.h5ad 11 of 34\n"
     ]
    },
    {
     "name": "stderr",
     "output_type": "stream",
     "text": [
      "Variable names are not unique. To make them unique, call `.var_names_make_unique`.\n"
     ]
    },
    {
     "name": "stdout",
     "output_type": "stream",
     "text": [
      "/mnt/ssd/moredata/CID003188-1.h5ad 12 of 34\n"
     ]
    },
    {
     "name": "stderr",
     "output_type": "stream",
     "text": [
      "Variable names are not unique. To make them unique, call `.var_names_make_unique`.\n"
     ]
    },
    {
     "name": "stdout",
     "output_type": "stream",
     "text": [
      "/mnt/ssd/moredata/CID003187-1.h5ad 13 of 34\n"
     ]
    },
    {
     "name": "stderr",
     "output_type": "stream",
     "text": [
      "Variable names are not unique. To make them unique, call `.var_names_make_unique`.\n"
     ]
    },
    {
     "name": "stdout",
     "output_type": "stream",
     "text": [
      "/mnt/ssd/moredata/CID003572-1.h5ad 14 of 34\n"
     ]
    },
    {
     "name": "stderr",
     "output_type": "stream",
     "text": [
      "Variable names are not unique. To make them unique, call `.var_names_make_unique`.\n"
     ]
    },
    {
     "name": "stdout",
     "output_type": "stream",
     "text": [
      "/mnt/ssd/moredata/CID003194-1.h5ad 15 of 34\n"
     ]
    },
    {
     "name": "stderr",
     "output_type": "stream",
     "text": [
      "Variable names are not unique. To make them unique, call `.var_names_make_unique`.\n"
     ]
    },
    {
     "name": "stdout",
     "output_type": "stream",
     "text": [
      "/mnt/ssd/moredata/CID003198-1.h5ad 16 of 34\n"
     ]
    },
    {
     "name": "stderr",
     "output_type": "stream",
     "text": [
      "Variable names are not unique. To make them unique, call `.var_names_make_unique`.\n"
     ]
    },
    {
     "name": "stdout",
     "output_type": "stream",
     "text": [
      "/mnt/ssd/moredata/CID003196-1.h5ad 17 of 34\n"
     ]
    },
    {
     "name": "stderr",
     "output_type": "stream",
     "text": [
      "Variable names are not unique. To make them unique, call `.var_names_make_unique`.\n"
     ]
    },
    {
     "name": "stdout",
     "output_type": "stream",
     "text": [
      "/mnt/ssd/moredata/CID003412-1.h5ad 18 of 34\n"
     ]
    },
    {
     "name": "stderr",
     "output_type": "stream",
     "text": [
      "Variable names are not unique. To make them unique, call `.var_names_make_unique`.\n"
     ]
    },
    {
     "name": "stdout",
     "output_type": "stream",
     "text": [
      "/mnt/ssd/moredata/CID003197-1.h5ad 19 of 34\n"
     ]
    },
    {
     "name": "stderr",
     "output_type": "stream",
     "text": [
      "Variable names are not unique. To make them unique, call `.var_names_make_unique`.\n"
     ]
    },
    {
     "name": "stdout",
     "output_type": "stream",
     "text": [
      "/mnt/ssd/moredata/CID003580-1.h5ad 20 of 34\n"
     ]
    },
    {
     "name": "stderr",
     "output_type": "stream",
     "text": [
      "Variable names are not unique. To make them unique, call `.var_names_make_unique`.\n"
     ]
    },
    {
     "name": "stdout",
     "output_type": "stream",
     "text": [
      "/mnt/ssd/moredata/CID003199-1.h5ad 21 of 34\n"
     ]
    },
    {
     "name": "stderr",
     "output_type": "stream",
     "text": [
      "Variable names are not unique. To make them unique, call `.var_names_make_unique`.\n"
     ]
    },
    {
     "name": "stdout",
     "output_type": "stream",
     "text": [
      "/mnt/ssd/moredata/CID003331-1.h5ad 22 of 34\n"
     ]
    },
    {
     "name": "stderr",
     "output_type": "stream",
     "text": [
      "Variable names are not unique. To make them unique, call `.var_names_make_unique`.\n"
     ]
    },
    {
     "name": "stdout",
     "output_type": "stream",
     "text": [
      "/mnt/ssd/moredata/CID003413-1.h5ad 23 of 34\n"
     ]
    },
    {
     "name": "stderr",
     "output_type": "stream",
     "text": [
      "Variable names are not unique. To make them unique, call `.var_names_make_unique`.\n"
     ]
    },
    {
     "name": "stdout",
     "output_type": "stream",
     "text": [
      "/mnt/ssd/moredata/CID003414-1.h5ad 24 of 34\n"
     ]
    },
    {
     "name": "stderr",
     "output_type": "stream",
     "text": [
      "Variable names are not unique. To make them unique, call `.var_names_make_unique`.\n"
     ]
    },
    {
     "name": "stdout",
     "output_type": "stream",
     "text": [
      "/mnt/ssd/moredata/CID003415-1.h5ad 25 of 34\n"
     ]
    },
    {
     "name": "stderr",
     "output_type": "stream",
     "text": [
      "Variable names are not unique. To make them unique, call `.var_names_make_unique`.\n"
     ]
    },
    {
     "name": "stdout",
     "output_type": "stream",
     "text": [
      "/mnt/ssd/moredata/CID003416-1.h5ad 26 of 34\n"
     ]
    },
    {
     "name": "stderr",
     "output_type": "stream",
     "text": [
      "Variable names are not unique. To make them unique, call `.var_names_make_unique`.\n"
     ]
    },
    {
     "name": "stdout",
     "output_type": "stream",
     "text": [
      "/mnt/ssd/moredata/CID003570-1.h5ad 27 of 34\n"
     ]
    },
    {
     "name": "stderr",
     "output_type": "stream",
     "text": [
      "Variable names are not unique. To make them unique, call `.var_names_make_unique`.\n"
     ]
    },
    {
     "name": "stdout",
     "output_type": "stream",
     "text": [
      "/mnt/ssd/moredata/CID003808-1.h5ad 28 of 34\n"
     ]
    },
    {
     "name": "stderr",
     "output_type": "stream",
     "text": [
      "Variable names are not unique. To make them unique, call `.var_names_make_unique`.\n"
     ]
    },
    {
     "name": "stdout",
     "output_type": "stream",
     "text": [
      "/mnt/ssd/moredata/CID003571-1.h5ad 29 of 34\n"
     ]
    },
    {
     "name": "stderr",
     "output_type": "stream",
     "text": [
      "Variable names are not unique. To make them unique, call `.var_names_make_unique`.\n"
     ]
    },
    {
     "name": "stdout",
     "output_type": "stream",
     "text": [
      "/mnt/ssd/moredata/CID003576-1.h5ad 30 of 34\n"
     ]
    },
    {
     "name": "stderr",
     "output_type": "stream",
     "text": [
      "Variable names are not unique. To make them unique, call `.var_names_make_unique`.\n"
     ]
    },
    {
     "name": "stdout",
     "output_type": "stream",
     "text": [
      "/mnt/ssd/moredata/CID003578-1.h5ad 31 of 34\n"
     ]
    },
    {
     "name": "stderr",
     "output_type": "stream",
     "text": [
      "Variable names are not unique. To make them unique, call `.var_names_make_unique`.\n"
     ]
    },
    {
     "name": "stdout",
     "output_type": "stream",
     "text": [
      "/mnt/ssd/moredata/CID003809-1.h5ad 32 of 34\n"
     ]
    },
    {
     "name": "stderr",
     "output_type": "stream",
     "text": [
      "Variable names are not unique. To make them unique, call `.var_names_make_unique`.\n"
     ]
    },
    {
     "name": "stdout",
     "output_type": "stream",
     "text": [
      "/mnt/ssd/moredata/CID003807-1.h5ad 33 of 34\n"
     ]
    },
    {
     "name": "stderr",
     "output_type": "stream",
     "text": [
      "Variable names are not unique. To make them unique, call `.var_names_make_unique`.\n"
     ]
    },
    {
     "name": "stdout",
     "output_type": "stream",
     "text": [
      "/mnt/ssd/moredata/CID003806-1.h5ad 34 of 34\n"
     ]
    },
    {
     "name": "stderr",
     "output_type": "stream",
     "text": [
      "Variable names are not unique. To make them unique, call `.var_names_make_unique`.\n"
     ]
    },
    {
     "name": "stdout",
     "output_type": "stream",
     "text": [
      "CPU times: user 20.9 s, sys: 3.06 s, total: 23.9 s\n",
      "Wall time: 24.9 s\n"
     ]
    }
   ],
   "source": [
    "adata_raw = {}\n",
    "paths = glob.glob(os.path.join(basepath, \"*.h5ad\"))\n",
    "for i, path in enumerate(paths):#[:4]:\n",
    "    print(path, i+1, \"of\", len(paths))\n",
    "    name = os.path.basename(path).split(\".\")[0]\n",
    "    cur_adata = sc.read_10x_h5(path)\n",
    "    adata_raw[name] = cur_adata"
   ]
  },
  {
   "cell_type": "code",
   "execution_count": null,
   "metadata": {},
   "outputs": [],
   "source": []
  },
  {
   "cell_type": "markdown",
   "metadata": {},
   "source": [
    "Timings: \n",
    "```\n",
    "CPU times: user 21.5 s, sys: 1.82 s, total: 23.4 s\n",
    "Wall time: 23.3 s\n",
    "```\n",
    "Reading the files CPU-bound when accesssing `/mnt/ebs_gp2/`, and consumes most of the time.  Switching to `ssd` provides no benefit, as expected."
   ]
  },
  {
   "cell_type": "code",
   "execution_count": 5,
   "metadata": {},
   "outputs": [
    {
     "name": "stdout",
     "output_type": "stream",
     "text": [
      "/mnt/ssd/moredata/CID003192-1.h5ad 1 of 34\n",
      "/mnt/ssd/moredata/CID003070-1.h5ad 2 of 34\n",
      "/mnt/ssd/moredata/CID003071-1.h5ad 3 of 34\n",
      "/mnt/ssd/moredata/CID003158-1.h5ad 4 of 34\n",
      "/mnt/ssd/moredata/CID003069-1.h5ad 5 of 34\n",
      "/mnt/ssd/moredata/CID003072-1.h5ad 6 of 34\n",
      "/mnt/ssd/moredata/CID003193-1.h5ad 7 of 34\n",
      "/mnt/ssd/moredata/CID003158-2.h5ad 8 of 34\n",
      "/mnt/ssd/moredata/CID003185-1.h5ad 9 of 34\n",
      "/mnt/ssd/moredata/CID003195-1.h5ad 10 of 34\n",
      "/mnt/ssd/moredata/CID003186-1.h5ad 11 of 34\n",
      "/mnt/ssd/moredata/CID003188-1.h5ad 12 of 34\n",
      "/mnt/ssd/moredata/CID003187-1.h5ad 13 of 34\n",
      "/mnt/ssd/moredata/CID003572-1.h5ad 14 of 34\n",
      "/mnt/ssd/moredata/CID003194-1.h5ad 15 of 34\n",
      "/mnt/ssd/moredata/CID003198-1.h5ad 16 of 34\n",
      "/mnt/ssd/moredata/CID003196-1.h5ad 17 of 34\n",
      "/mnt/ssd/moredata/CID003412-1.h5ad 18 of 34\n",
      "/mnt/ssd/moredata/CID003197-1.h5ad 19 of 34\n",
      "/mnt/ssd/moredata/CID003580-1.h5ad 20 of 34\n",
      "/mnt/ssd/moredata/CID003199-1.h5ad 21 of 34\n",
      "/mnt/ssd/moredata/CID003331-1.h5ad 22 of 34\n",
      "/mnt/ssd/moredata/CID003413-1.h5ad 23 of 34\n",
      "/mnt/ssd/moredata/CID003414-1.h5ad 24 of 34\n",
      "/mnt/ssd/moredata/CID003415-1.h5ad 25 of 34\n",
      "/mnt/ssd/moredata/CID003416-1.h5ad 26 of 34\n",
      "/mnt/ssd/moredata/CID003570-1.h5ad 27 of 34\n",
      "/mnt/ssd/moredata/CID003808-1.h5ad 28 of 34\n",
      "/mnt/ssd/moredata/CID003571-1.h5ad 29 of 34\n",
      "/mnt/ssd/moredata/CID003576-1.h5ad 30 of 34\n",
      "/mnt/ssd/moredata/CID003578-1.h5ad 31 of 34\n",
      "/mnt/ssd/moredata/CID003809-1.h5ad 32 of 34\n",
      "/mnt/ssd/moredata/CID003807-1.h5ad 33 of 34\n",
      "/mnt/ssd/moredata/CID003806-1.h5ad 34 of 34\n",
      "CPU times: user 148 ms, sys: 615 µs, total: 148 ms\n",
      "Wall time: 143 ms\n"
     ]
    }
   ],
   "source": [
    "paths = glob.glob(os.path.join(basepath, \"*.h5ad\"))\n",
    "for i, path in enumerate(paths):#[:4]:\n",
    "    print(path, i+1, \"of\", len(paths))\n",
    "    name = os.path.basename(path).split(\".\")[0]\n",
    "    cur_adata = adata_raw[name]\n",
    "    cur_adata.var_names_make_unique()"
   ]
  },
  {
   "cell_type": "markdown",
   "metadata": {},
   "source": [
    "Timings: \n",
    "```\n",
    "CPU times: user 145 ms, sys: 4.42 ms, total: 149 ms\n",
    "Wall time: 143 ms\n",
    "```\n",
    "Making the names unique takes negligible time."
   ]
  },
  {
   "cell_type": "code",
   "execution_count": 6,
   "metadata": {
    "scrolled": true
   },
   "outputs": [
    {
     "name": "stdout",
     "output_type": "stream",
     "text": [
      "/mnt/ssd/moredata/CID003192-1.h5ad 1 of 34\n",
      "   (4567, 33538)\n",
      "/mnt/ssd/moredata/CID003070-1.h5ad 2 of 34\n",
      "   (6145, 33538)\n",
      "/mnt/ssd/moredata/CID003071-1.h5ad 3 of 34\n",
      "   (8936, 33538)\n",
      "/mnt/ssd/moredata/CID003158-1.h5ad 4 of 34\n",
      "   (8141, 33538)\n",
      "/mnt/ssd/moredata/CID003069-1.h5ad 5 of 34\n",
      "   (8394, 33538)\n",
      "/mnt/ssd/moredata/CID003072-1.h5ad 6 of 34\n",
      "   (11078, 33538)\n",
      "/mnt/ssd/moredata/CID003193-1.h5ad 7 of 34\n",
      "   (2159, 33538)\n",
      "/mnt/ssd/moredata/CID003158-2.h5ad 8 of 34\n",
      "   (24979, 33538)\n",
      "/mnt/ssd/moredata/CID003185-1.h5ad 9 of 34\n",
      "   (3196, 33538)\n",
      "/mnt/ssd/moredata/CID003195-1.h5ad 10 of 34\n",
      "   (1996, 33538)\n",
      "/mnt/ssd/moredata/CID003186-1.h5ad 11 of 34\n",
      "   (2724, 33538)\n",
      "/mnt/ssd/moredata/CID003188-1.h5ad 12 of 34\n",
      "   (2665, 33538)\n",
      "/mnt/ssd/moredata/CID003187-1.h5ad 13 of 34\n",
      "   (2561, 33538)\n",
      "/mnt/ssd/moredata/CID003572-1.h5ad 14 of 34\n",
      "   (6, 33538)\n",
      "/mnt/ssd/moredata/CID003194-1.h5ad 15 of 34\n",
      "   (4047, 33538)\n",
      "/mnt/ssd/moredata/CID003198-1.h5ad 16 of 34\n",
      "   (2449, 33538)\n",
      "/mnt/ssd/moredata/CID003196-1.h5ad 17 of 34\n",
      "   (4008, 33538)\n",
      "/mnt/ssd/moredata/CID003412-1.h5ad 18 of 34\n",
      "   (2114, 33538)\n",
      "/mnt/ssd/moredata/CID003197-1.h5ad 19 of 34\n",
      "   (1816, 33538)\n",
      "/mnt/ssd/moredata/CID003580-1.h5ad 20 of 34\n",
      "   (10, 33538)\n",
      "/mnt/ssd/moredata/CID003199-1.h5ad 21 of 34\n",
      "   (1775, 33538)\n",
      "/mnt/ssd/moredata/CID003331-1.h5ad 22 of 34\n",
      "   (21480, 33538)\n",
      "/mnt/ssd/moredata/CID003413-1.h5ad 23 of 34\n",
      "   (0, 33538)\n",
      "/mnt/ssd/moredata/CID003414-1.h5ad 24 of 34\n",
      "   (35, 33538)\n",
      "/mnt/ssd/moredata/CID003415-1.h5ad 25 of 34\n",
      "   (10, 33538)\n",
      "/mnt/ssd/moredata/CID003416-1.h5ad 26 of 34\n",
      "   (7, 33538)\n",
      "/mnt/ssd/moredata/CID003570-1.h5ad 27 of 34\n",
      "   (14, 33538)\n",
      "/mnt/ssd/moredata/CID003808-1.h5ad 28 of 34\n",
      "   (1749, 33538)\n",
      "/mnt/ssd/moredata/CID003571-1.h5ad 29 of 34\n",
      "   (0, 33538)\n",
      "/mnt/ssd/moredata/CID003576-1.h5ad 30 of 34\n",
      "   (1516, 33538)\n",
      "/mnt/ssd/moredata/CID003578-1.h5ad 31 of 34\n",
      "   (2743, 33538)\n",
      "/mnt/ssd/moredata/CID003809-1.h5ad 32 of 34\n",
      "   (2460, 33538)\n",
      "/mnt/ssd/moredata/CID003807-1.h5ad 33 of 34\n",
      "   (2994, 33538)\n",
      "/mnt/ssd/moredata/CID003806-1.h5ad 34 of 34\n",
      "   (1399, 33538)\n",
      "CPU times: user 1.01 s, sys: 330 ms, total: 1.34 s\n",
      "Wall time: 1.32 s\n"
     ]
    }
   ],
   "source": [
    "adata_collection = {}\n",
    "paths = glob.glob(os.path.join(basepath, \"*.h5ad\"))\n",
    "for i, path in enumerate(paths):#[:4]:\n",
    "    print(path, i+1, \"of\", len(paths))\n",
    "    name = os.path.basename(path).split(\".\")[0]\n",
    "    cur_adata = adata_raw[name]\n",
    "    cur_adata = cur_adata[cur_adata.X.sum(axis=1).A.flatten()>250].copy()\n",
    "    cur_adata.obs[\"sample\"] = name\n",
    "    print(\"  \", cur_adata.shape)\n",
    "    if cur_adata.shape[0] < 500: continue\n",
    "    adata_collection[name] = cur_adata    "
   ]
  },
  {
   "cell_type": "markdown",
   "metadata": {},
   "source": [
    "Timings: \n",
    "```\n",
    "/mnt/ssd_gp2/moredata/*\n",
    "CPU times: user 1.03 s, sys: 199 ms, total: 1.23 s\n",
    "Wall time: 1.22 s\n",
    "```\n",
    "The flattening operation takes a small but measurable amount of time."
   ]
  },
  {
   "cell_type": "markdown",
   "metadata": {},
   "source": [
    "(in our current pipeline, we actually do a single concatenation of a really big matrix, which is kind of slow but better than the alternative of having to re-do the concatenations which is truly cumbersome with our current infrastructure)"
   ]
  },
  {
   "cell_type": "code",
   "execution_count": 7,
   "metadata": {
    "execution": {
     "iopub.execute_input": "2020-03-04T13:42:26.524830Z",
     "iopub.status.busy": "2020-03-04T13:42:26.524508Z",
     "iopub.status.idle": "2020-03-04T13:42:30.504594Z",
     "shell.execute_reply": "2020-03-04T13:42:30.503559Z",
     "shell.execute_reply.started": "2020-03-04T13:42:26.524777Z"
    }
   },
   "outputs": [
    {
     "name": "stdout",
     "output_type": "stream",
     "text": [
      "CPU times: user 3 s, sys: 352 ms, total: 3.35 s\n",
      "Wall time: 3.36 s\n"
     ]
    }
   ],
   "source": [
    "samples = list(adata_collection.values())\n",
    "together = samples.pop()\n",
    "together = together.concatenate(*samples)"
   ]
  },
  {
   "cell_type": "markdown",
   "metadata": {},
   "source": [
    "Timings:\n",
    "```\n",
    "/mnt/ssd_gp2/moredata/*\n",
    "CPU times: user 2.94 s, sys: 360 ms, total: 3.3 s\n",
    "Wall time: 3.3 s\n",
    "```\n",
    "Concatenation takes just over 3s here.  But in real world scenarios this is a barrier.\n",
    "\n",
    "When the samples list is 5x the size, the time goes up >7x?\n",
    "```\n",
    "CPU times: user 21.7 s, sys: 2.31 s, total: 24 s\n",
    "Wall time: 24 s\n",
    "```"
   ]
  },
  {
   "cell_type": "code",
   "execution_count": null,
   "metadata": {},
   "outputs": [],
   "source": []
  },
  {
   "cell_type": "code",
   "execution_count": 8,
   "metadata": {
    "execution": {
     "iopub.execute_input": "2020-03-04T13:42:30.506082Z",
     "iopub.status.busy": "2020-03-04T13:42:30.505764Z",
     "iopub.status.idle": "2020-03-04T13:42:30.513040Z",
     "shell.execute_reply": "2020-03-04T13:42:30.512047Z",
     "shell.execute_reply.started": "2020-03-04T13:42:30.506029Z"
    }
   },
   "outputs": [
    {
     "name": "stdout",
     "output_type": "stream",
     "text": [
      "CPU times: user 0 ns, sys: 38 µs, total: 38 µs\n",
      "Wall time: 42.4 µs\n"
     ]
    },
    {
     "data": {
      "text/plain": [
       "AnnData object with n_obs × n_vars = 138091 × 33538 \n",
       "    obs: 'batch', 'sample'\n",
       "    var: 'gene_ids', 'feature_types', 'genome-0', 'genome-1', 'genome-2', 'genome-3', 'genome-4', 'genome-5', 'genome-6', 'genome-7', 'genome-8', 'genome-9', 'genome-10', 'genome-11', 'genome-12', 'genome-13', 'genome-14', 'genome-15', 'genome-16', 'genome-17', 'genome-18', 'genome-19', 'genome-20', 'genome-21', 'genome-22', 'genome-23', 'genome-24', 'genome-25'\n",
       "    uns: 'species'"
      ]
     },
     "execution_count": 8,
     "metadata": {},
     "output_type": "execute_result"
    }
   ],
   "source": [
    "together = SCData(together)\n",
    "\n",
    "together.raw = together\n",
    "together.uns[\"species\"] = \"Human\"\n",
    "together"
   ]
  },
  {
   "cell_type": "code",
   "execution_count": 9,
   "metadata": {
    "execution": {
     "iopub.execute_input": "2020-03-04T13:42:30.514422Z",
     "iopub.status.busy": "2020-03-04T13:42:30.514114Z",
     "iopub.status.idle": "2020-03-04T13:42:30.541367Z",
     "shell.execute_reply": "2020-03-04T13:42:30.540361Z",
     "shell.execute_reply.started": "2020-03-04T13:42:30.514372Z"
    }
   },
   "outputs": [],
   "source": [
    "together.obs[\"batch\"] = together.obs[\"batch\"].astype(int)"
   ]
  },
  {
   "cell_type": "markdown",
   "metadata": {},
   "source": [
    "I haven't carefully profiled the preprocess/reprocess step below, but I believe about half the time is spent using an inefficient clustering algorithm that we're in the process of upgrading. The other big step is training the deep learning model, and I don't think that'll be something we can do a whole lot to improve."
   ]
  },
  {
   "cell_type": "code",
   "execution_count": 10,
   "metadata": {
    "execution": {
     "iopub.execute_input": "2020-03-04T13:42:30.542739Z",
     "iopub.status.busy": "2020-03-04T13:42:30.542430Z",
     "iopub.status.idle": "2020-03-04T14:33:09.453828Z",
     "shell.execute_reply": "2020-03-04T14:33:09.453002Z",
     "shell.execute_reply.started": "2020-03-04T13:42:30.542689Z"
    }
   },
   "outputs": [
    {
     "name": "stderr",
     "output_type": "stream",
     "text": [
      "[2020-03-09 07:11:28,880] INFO - scvi.dataset.anndataset | Dense size under 1Gb, casting to dense format (np.ndarray).\n"
     ]
    },
    {
     "name": "stdout",
     "output_type": "stream",
     "text": [
      "Training scVI on: View of AnnData object with n_obs × n_vars = 138091 × 1372 \n",
      "    obs: 'batch', 'sample'\n",
      "    var: 'gene_ids', 'feature_types', 'genome-0', 'genome-1', 'genome-2', 'genome-3', 'genome-4', 'genome-5', 'genome-6', 'genome-7', 'genome-8', 'genome-9', 'genome-10', 'genome-11', 'genome-12', 'genome-13', 'genome-14', 'genome-15', 'genome-16', 'genome-17', 'genome-18', 'genome-19', 'genome-20', 'genome-21', 'genome-22', 'genome-23', 'genome-24', 'genome-25'\n",
      "    uns: 'species', 'mito_genes'\n"
     ]
    },
    {
     "name": "stderr",
     "output_type": "stream",
     "text": [
      "[2020-03-09 07:11:29,757] INFO - scvi.dataset.dataset | Remapping labels to [0,N]\n",
      "[2020-03-09 07:11:29,763] INFO - scvi.dataset.dataset | Remapping batch_indices to [0,N]\n",
      "[2020-03-09 07:11:30,076] INFO - scvi.dataset.dataset | Computing the library size for the new data\n",
      "[2020-03-09 07:11:30,366] INFO - scvi.dataset.dataset | Downsampled from 138091 to 138091 cells\n"
     ]
    },
    {
     "name": "stdout",
     "output_type": "stream",
     "text": [
      "Training LDVAE model.\n",
      "training:  11%|█         | 110/1000 [10:09<1:22:05,  5.53s/it]"
     ]
    },
    {
     "name": "stderr",
     "output_type": "stream",
     "text": [
      "[2020-03-09 07:21:54,548] INFO - scvi.inference.trainer | \n",
      "Stopping early: no improvement of more than 2 nats in 100 epochs\n",
      "[2020-03-09 07:21:54,549] INFO - scvi.inference.trainer | If the early stopping criterion is too strong, please instantiate it with different parameters in the train method.\n"
     ]
    },
    {
     "name": "stdout",
     "output_type": "stream",
     "text": [
      "training:  11%|█         | 111/1000 [10:14<1:22:03,  5.54s/it]\n"
     ]
    },
    {
     "name": "stderr",
     "output_type": "stream",
     "text": [
      "[2020-03-09 07:21:59,216] INFO - scvi.dataset.anndataset | Dense size under 1Gb, casting to dense format (np.ndarray).\n",
      "[2020-03-09 07:21:59,279] INFO - scvi.dataset.dataset | Remapping labels to [0,N]\n",
      "[2020-03-09 07:21:59,280] INFO - scvi.dataset.dataset | Remapping batch_indices to [0,N]\n",
      "[2020-03-09 07:21:59,303] INFO - scvi.dataset.dataset | Computing the library size for the new data\n",
      "[2020-03-09 07:21:59,319] INFO - scvi.dataset.dataset | Downsampled from 10000 to 10000 cells\n"
     ]
    },
    {
     "name": "stdout",
     "output_type": "stream",
     "text": [
      "0 0.0\n"
     ]
    },
    {
     "name": "stderr",
     "output_type": "stream",
     "text": [
      "[2020-03-09 07:22:02,971] INFO - scvi.dataset.anndataset | Dense size under 1Gb, casting to dense format (np.ndarray).\n",
      "/home/ssmith/benchmark/env/lib/python3.7/site-packages/numpy/core/fromnumeric.py:3335: RuntimeWarning: Mean of empty slice.\n",
      "  out=out, **kwargs)\n",
      "/home/ssmith/benchmark/env/lib/python3.7/site-packages/numpy/core/_methods.py:161: RuntimeWarning: invalid value encountered in true_divide\n",
      "  ret = ret.dtype.type(ret / rcount)\n",
      "/home/ssmith/benchmark/env/lib/python3.7/site-packages/numpy/core/fromnumeric.py:3584: RuntimeWarning: Degrees of freedom <= 0 for slice\n",
      "  **kwargs)\n",
      "/home/ssmith/benchmark/env/lib/python3.7/site-packages/numpy/core/_methods.py:186: RuntimeWarning: invalid value encountered in true_divide\n",
      "  arrmean, rcount, out=arrmean, casting='unsafe', subok=False)\n",
      "/home/ssmith/benchmark/env/lib/python3.7/site-packages/numpy/core/_methods.py:209: RuntimeWarning: invalid value encountered in true_divide\n",
      "  ret = ret.dtype.type(ret / rcount)\n",
      "[2020-03-09 07:22:02,987] INFO - scvi.dataset.dataset | Remapping labels to [0,N]\n",
      "[2020-03-09 07:22:02,988] INFO - scvi.dataset.dataset | Remapping batch_indices to [0,N]\n",
      "[2020-03-09 07:22:03,006] INFO - scvi.dataset.dataset | Computing the library size for the new data\n",
      "[2020-03-09 07:22:03,024] INFO - scvi.dataset.dataset | Downsampled from 10000 to 10000 cells\n"
     ]
    },
    {
     "name": "stdout",
     "output_type": "stream",
     "text": [
      "10000 0.07241601552599373\n"
     ]
    },
    {
     "name": "stderr",
     "output_type": "stream",
     "text": [
      "[2020-03-09 07:22:06,332] INFO - scvi.dataset.anndataset | Dense size under 1Gb, casting to dense format (np.ndarray).\n",
      "[2020-03-09 07:22:06,343] INFO - scvi.dataset.dataset | Remapping labels to [0,N]\n",
      "[2020-03-09 07:22:06,344] INFO - scvi.dataset.dataset | Remapping batch_indices to [0,N]\n",
      "[2020-03-09 07:22:06,368] INFO - scvi.dataset.dataset | Computing the library size for the new data\n",
      "[2020-03-09 07:22:06,391] INFO - scvi.dataset.dataset | Downsampled from 10000 to 10000 cells\n"
     ]
    },
    {
     "name": "stdout",
     "output_type": "stream",
     "text": [
      "20000 0.14483203105198747\n"
     ]
    },
    {
     "name": "stderr",
     "output_type": "stream",
     "text": [
      "[2020-03-09 07:22:09,859] INFO - scvi.dataset.anndataset | Dense size under 1Gb, casting to dense format (np.ndarray).\n",
      "[2020-03-09 07:22:09,872] INFO - scvi.dataset.dataset | Remapping labels to [0,N]\n",
      "[2020-03-09 07:22:09,873] INFO - scvi.dataset.dataset | Remapping batch_indices to [0,N]\n",
      "[2020-03-09 07:22:09,891] INFO - scvi.dataset.dataset | Computing the library size for the new data\n",
      "[2020-03-09 07:22:09,909] INFO - scvi.dataset.dataset | Downsampled from 10000 to 10000 cells\n"
     ]
    },
    {
     "name": "stdout",
     "output_type": "stream",
     "text": [
      "30000 0.2172480465779812\n"
     ]
    },
    {
     "name": "stderr",
     "output_type": "stream",
     "text": [
      "[2020-03-09 07:22:13,315] INFO - scvi.dataset.anndataset | Dense size under 1Gb, casting to dense format (np.ndarray).\n",
      "[2020-03-09 07:22:13,328] INFO - scvi.dataset.dataset | Remapping labels to [0,N]\n",
      "[2020-03-09 07:22:13,329] INFO - scvi.dataset.dataset | Remapping batch_indices to [0,N]\n",
      "[2020-03-09 07:22:13,353] INFO - scvi.dataset.dataset | Computing the library size for the new data\n",
      "[2020-03-09 07:22:13,376] INFO - scvi.dataset.dataset | Downsampled from 10000 to 10000 cells\n"
     ]
    },
    {
     "name": "stdout",
     "output_type": "stream",
     "text": [
      "40000 0.28966406210397494\n"
     ]
    },
    {
     "name": "stderr",
     "output_type": "stream",
     "text": [
      "[2020-03-09 07:22:16,711] INFO - scvi.dataset.anndataset | Dense size under 1Gb, casting to dense format (np.ndarray).\n",
      "[2020-03-09 07:22:16,722] INFO - scvi.dataset.dataset | Remapping labels to [0,N]\n",
      "[2020-03-09 07:22:16,723] INFO - scvi.dataset.dataset | Remapping batch_indices to [0,N]\n",
      "[2020-03-09 07:22:16,741] INFO - scvi.dataset.dataset | Computing the library size for the new data\n",
      "[2020-03-09 07:22:16,765] INFO - scvi.dataset.dataset | Downsampled from 10000 to 10000 cells\n"
     ]
    },
    {
     "name": "stdout",
     "output_type": "stream",
     "text": [
      "50000 0.36208007762996863\n"
     ]
    },
    {
     "name": "stderr",
     "output_type": "stream",
     "text": [
      "[2020-03-09 07:22:20,320] INFO - scvi.dataset.anndataset | Dense size under 1Gb, casting to dense format (np.ndarray).\n",
      "[2020-03-09 07:22:20,331] INFO - scvi.dataset.dataset | Remapping labels to [0,N]\n",
      "[2020-03-09 07:22:20,332] INFO - scvi.dataset.dataset | Remapping batch_indices to [0,N]\n",
      "[2020-03-09 07:22:20,357] INFO - scvi.dataset.dataset | Computing the library size for the new data\n",
      "[2020-03-09 07:22:20,380] INFO - scvi.dataset.dataset | Downsampled from 10000 to 10000 cells\n"
     ]
    },
    {
     "name": "stdout",
     "output_type": "stream",
     "text": [
      "60000 0.4344960931559624\n"
     ]
    },
    {
     "name": "stderr",
     "output_type": "stream",
     "text": [
      "[2020-03-09 07:22:24,039] INFO - scvi.dataset.anndataset | Dense size under 1Gb, casting to dense format (np.ndarray).\n",
      "[2020-03-09 07:22:24,051] INFO - scvi.dataset.dataset | Remapping labels to [0,N]\n",
      "[2020-03-09 07:22:24,052] INFO - scvi.dataset.dataset | Remapping batch_indices to [0,N]\n",
      "[2020-03-09 07:22:24,070] INFO - scvi.dataset.dataset | Computing the library size for the new data\n",
      "[2020-03-09 07:22:24,087] INFO - scvi.dataset.dataset | Downsampled from 10000 to 10000 cells\n"
     ]
    },
    {
     "name": "stdout",
     "output_type": "stream",
     "text": [
      "70000 0.5069121086819561\n"
     ]
    },
    {
     "name": "stderr",
     "output_type": "stream",
     "text": [
      "[2020-03-09 07:22:27,640] INFO - scvi.dataset.anndataset | Dense size under 1Gb, casting to dense format (np.ndarray).\n",
      "[2020-03-09 07:22:27,653] INFO - scvi.dataset.dataset | Remapping labels to [0,N]\n",
      "[2020-03-09 07:22:27,654] INFO - scvi.dataset.dataset | Remapping batch_indices to [0,N]\n",
      "[2020-03-09 07:22:27,671] INFO - scvi.dataset.dataset | Computing the library size for the new data\n",
      "[2020-03-09 07:22:27,689] INFO - scvi.dataset.dataset | Downsampled from 10000 to 10000 cells\n"
     ]
    },
    {
     "name": "stdout",
     "output_type": "stream",
     "text": [
      "80000 0.5793281242079499\n"
     ]
    },
    {
     "name": "stderr",
     "output_type": "stream",
     "text": [
      "[2020-03-09 07:22:31,177] INFO - scvi.dataset.anndataset | Dense size under 1Gb, casting to dense format (np.ndarray).\n",
      "[2020-03-09 07:22:31,189] INFO - scvi.dataset.dataset | Remapping labels to [0,N]\n",
      "[2020-03-09 07:22:31,190] INFO - scvi.dataset.dataset | Remapping batch_indices to [0,N]\n",
      "[2020-03-09 07:22:31,208] INFO - scvi.dataset.dataset | Computing the library size for the new data\n",
      "[2020-03-09 07:22:31,225] INFO - scvi.dataset.dataset | Downsampled from 10000 to 10000 cells\n"
     ]
    },
    {
     "name": "stdout",
     "output_type": "stream",
     "text": [
      "90000 0.6517441397339435\n"
     ]
    },
    {
     "name": "stderr",
     "output_type": "stream",
     "text": [
      "[2020-03-09 07:22:34,909] INFO - scvi.dataset.anndataset | Dense size under 1Gb, casting to dense format (np.ndarray).\n",
      "[2020-03-09 07:22:34,921] INFO - scvi.dataset.dataset | Remapping labels to [0,N]\n",
      "[2020-03-09 07:22:34,921] INFO - scvi.dataset.dataset | Remapping batch_indices to [0,N]\n",
      "[2020-03-09 07:22:34,938] INFO - scvi.dataset.dataset | Computing the library size for the new data\n",
      "[2020-03-09 07:22:34,955] INFO - scvi.dataset.dataset | Downsampled from 10000 to 10000 cells\n"
     ]
    },
    {
     "name": "stdout",
     "output_type": "stream",
     "text": [
      "100000 0.7241601552599373\n"
     ]
    },
    {
     "name": "stderr",
     "output_type": "stream",
     "text": [
      "[2020-03-09 07:22:38,391] INFO - scvi.dataset.anndataset | Dense size under 1Gb, casting to dense format (np.ndarray).\n",
      "[2020-03-09 07:22:38,402] INFO - scvi.dataset.dataset | Remapping labels to [0,N]\n",
      "[2020-03-09 07:22:38,403] INFO - scvi.dataset.dataset | Remapping batch_indices to [0,N]\n",
      "[2020-03-09 07:22:38,421] INFO - scvi.dataset.dataset | Computing the library size for the new data\n",
      "[2020-03-09 07:22:38,439] INFO - scvi.dataset.dataset | Downsampled from 10000 to 10000 cells\n"
     ]
    },
    {
     "name": "stdout",
     "output_type": "stream",
     "text": [
      "110000 0.796576170785931\n"
     ]
    },
    {
     "name": "stderr",
     "output_type": "stream",
     "text": [
      "[2020-03-09 07:22:41,954] INFO - scvi.dataset.anndataset | Dense size under 1Gb, casting to dense format (np.ndarray).\n",
      "[2020-03-09 07:22:41,965] INFO - scvi.dataset.dataset | Remapping labels to [0,N]\n",
      "[2020-03-09 07:22:41,966] INFO - scvi.dataset.dataset | Remapping batch_indices to [0,N]\n",
      "[2020-03-09 07:22:41,983] INFO - scvi.dataset.dataset | Computing the library size for the new data\n",
      "[2020-03-09 07:22:42,001] INFO - scvi.dataset.dataset | Downsampled from 10000 to 10000 cells\n"
     ]
    },
    {
     "name": "stdout",
     "output_type": "stream",
     "text": [
      "120000 0.8689921863119248\n"
     ]
    },
    {
     "name": "stderr",
     "output_type": "stream",
     "text": [
      "[2020-03-09 07:22:45,567] INFO - scvi.dataset.anndataset | Dense size under 1Gb, casting to dense format (np.ndarray).\n",
      "[2020-03-09 07:22:45,578] INFO - scvi.dataset.dataset | Remapping labels to [0,N]\n",
      "[2020-03-09 07:22:45,579] INFO - scvi.dataset.dataset | Remapping batch_indices to [0,N]\n",
      "[2020-03-09 07:22:45,593] INFO - scvi.dataset.dataset | Computing the library size for the new data\n",
      "[2020-03-09 07:22:45,607] INFO - scvi.dataset.dataset | Downsampled from 8091 to 8091 cells\n"
     ]
    },
    {
     "name": "stdout",
     "output_type": "stream",
     "text": [
      "130000 0.9414082018379185\n"
     ]
    },
    {
     "name": "stderr",
     "output_type": "stream",
     "text": [
      "/home/ssmith/benchmark/env/lib/python3.7/site-packages/umap/umap_.py:328: NumbaWarning: \n",
      "Compilation is falling back to object mode WITH looplifting enabled because Function \"fuzzy_simplicial_set\" failed type inference due to: Untyped global name 'nearest_neighbors': cannot determine Numba type of <class 'function'>\n",
      "\n",
      "File \"env/lib/python3.7/site-packages/umap/umap_.py\", line 446:\n",
      "def fuzzy_simplicial_set(\n",
      "    <source elided>\n",
      "    if knn_indices is None or knn_dists is None:\n",
      "        knn_indices, knn_dists, _ = nearest_neighbors(\n",
      "        ^\n",
      "\n",
      "  @numba.jit()\n",
      "/home/ssmith/benchmark/env/lib/python3.7/site-packages/numba/compiler.py:742: NumbaWarning: Function \"fuzzy_simplicial_set\" was compiled in object mode without forceobj=True.\n",
      "\n",
      "File \"env/lib/python3.7/site-packages/umap/umap_.py\", line 329:\n",
      "@numba.jit()\n",
      "def fuzzy_simplicial_set(\n",
      "^\n",
      "\n",
      "  self.func_ir.loc))\n"
     ]
    },
    {
     "name": "stdout",
     "output_type": "stream",
     "text": [
      "WARNING: neighbors/connectivities have not been computed using umap\n",
      "CPU times: user 2h 50min 6s, sys: 7min 43s, total: 2h 57min 50s\n",
      "Wall time: 40min 18s\n"
     ]
    }
   ],
   "source": [
    "%%time\n",
    "reprocessed = SCData(together).reprocess()"
   ]
  },
  {
   "cell_type": "markdown",
   "metadata": {},
   "source": [
    "Timings:\n",
    "```\n",
    "CPU times: user 2h 50min 6s, sys: 7min 43s, total: 2h 57min 50s\n",
    "Wall time: 40min 18s\n",
    "```\n"
   ]
  },
  {
   "cell_type": "code",
   "execution_count": 11,
   "metadata": {
    "execution": {
     "iopub.execute_input": "2020-03-04T14:33:09.455175Z",
     "iopub.status.busy": "2020-03-04T14:33:09.454890Z",
     "iopub.status.idle": "2020-03-04T14:33:09.459387Z",
     "shell.execute_reply": "2020-03-04T14:33:09.458780Z",
     "shell.execute_reply.started": "2020-03-04T14:33:09.455132Z"
    }
   },
   "outputs": [
    {
     "data": {
      "text/plain": [
       "AnnData object with n_obs × n_vars = 138091 × 33538 \n",
       "    obs: 'batch', 'sample', 'clusters', 'louvain'\n",
       "    var: 'gene_ids', 'feature_types', 'genome-0', 'genome-1', 'genome-2', 'genome-3', 'genome-4', 'genome-5', 'genome-6', 'genome-7', 'genome-8', 'genome-9', 'genome-10', 'genome-11', 'genome-12', 'genome-13', 'genome-14', 'genome-15', 'genome-16', 'genome-17', 'genome-18', 'genome-19', 'genome-20', 'genome-21', 'genome-22', 'genome-23', 'genome-24', 'genome-25'\n",
       "    uns: 'species', 'mito_genes', 'scVI_imputed_genes', 'scVI_train_history', 'units', 'neighbors', 'leiden', 'louvain'\n",
       "    obsm: 'scVI_latent', 'scVI_imputed_data', 'X_tsne', 'X_umap'"
      ]
     },
     "execution_count": 11,
     "metadata": {},
     "output_type": "execute_result"
    }
   ],
   "source": [
    "reprocessed"
   ]
  },
  {
   "cell_type": "code",
   "execution_count": 12,
   "metadata": {
    "execution": {
     "iopub.execute_input": "2020-03-04T17:07:14.629104Z",
     "iopub.status.busy": "2020-03-04T17:07:14.628760Z",
     "iopub.status.idle": "2020-03-04T17:07:14.633934Z",
     "shell.execute_reply": "2020-03-04T17:07:14.633321Z",
     "shell.execute_reply.started": "2020-03-04T17:07:14.629056Z"
    }
   },
   "outputs": [
    {
     "data": {
      "text/plain": [
       "<138091x33538 sparse matrix of type '<class 'numpy.float32'>'\n",
       "\twith 104192386 stored elements in Compressed Sparse Row format>"
      ]
     },
     "execution_count": 12,
     "metadata": {},
     "output_type": "execute_result"
    }
   ],
   "source": [
    "reprocessed.X"
   ]
  },
  {
   "cell_type": "code",
   "execution_count": 13,
   "metadata": {
    "execution": {
     "iopub.execute_input": "2020-03-04T17:08:17.397725Z",
     "iopub.status.busy": "2020-03-04T17:08:17.397377Z",
     "iopub.status.idle": "2020-03-04T17:08:17.402622Z",
     "shell.execute_reply": "2020-03-04T17:08:17.402012Z",
     "shell.execute_reply.started": "2020-03-04T17:08:17.397677Z"
    }
   },
   "outputs": [
    {
     "data": {
      "text/plain": [
       "('density:', 0.022497457935077618)"
      ]
     },
     "execution_count": 13,
     "metadata": {},
     "output_type": "execute_result"
    }
   ],
   "source": [
    "\"density:\", reprocessed.X.nnz/(reprocessed.X.shape[0]*reprocessed.X.shape[1])"
   ]
  },
  {
   "cell_type": "markdown",
   "metadata": {},
   "source": [
    "After processing the data, we typically do some exploratory data analysis to identify cell populations of interest.\n",
    "\n",
    "We use the `vaex` library to summarize data in a gridded fashion prior to plotting using matplotlib, as matplotlib alone is incapable of rendering large numbers of points."
   ]
  },
  {
   "cell_type": "code",
   "execution_count": 14,
   "metadata": {
    "execution": {
     "iopub.execute_input": "2020-03-04T22:12:06.807936Z",
     "iopub.status.busy": "2020-03-04T22:12:06.807597Z",
     "iopub.status.idle": "2020-03-04T22:12:08.462662Z",
     "shell.execute_reply": "2020-03-04T22:12:08.461660Z",
     "shell.execute_reply.started": "2020-03-04T22:12:06.807891Z"
    }
   },
   "outputs": [
    {
     "ename": "ImportError",
     "evalue": "/home/ssmith/benchmark/env/lib/python3.7/site-packages/vaex/strings.cpython-37m-x86_64-linux-gnu.so: undefined symbol: _ZNSt14regex_iteratorIN9__gnu_cxx17__normal_iteratorIPKcSsEEcSt12regex_traitsIcEEC1Ev",
     "output_type": "error",
     "traceback": [
      "\u001b[0;31m---------------------------------------------------------------------------\u001b[0m",
      "\u001b[0;31mImportError\u001b[0m                               Traceback (most recent call last)",
      "\u001b[0;32m<ipython-input-14-ba34ab4745da>\u001b[0m in \u001b[0;36m<module>\u001b[0;34m\u001b[0m\n\u001b[0;32m----> 1\u001b[0;31m \u001b[0mreprocessed\u001b[0m\u001b[0;34m.\u001b[0m\u001b[0mqplot\u001b[0m\u001b[0;34m(\u001b[0m\u001b[0;34m\"PTPRC\"\u001b[0m\u001b[0;34m,\u001b[0m \u001b[0mvaex\u001b[0m\u001b[0;34m=\u001b[0m\u001b[0;32mTrue\u001b[0m\u001b[0;34m,\u001b[0m \u001b[0mpointsize\u001b[0m\u001b[0;34m=\u001b[0m\u001b[0;36m1\u001b[0m\u001b[0;34m,\u001b[0m \u001b[0mscale\u001b[0m\u001b[0;34m=\u001b[0m\u001b[0;36m1.5\u001b[0m\u001b[0;34m)\u001b[0m\u001b[0;34m\u001b[0m\u001b[0;34m\u001b[0m\u001b[0m\n\u001b[0m",
      "\u001b[0;32m~/ctxbio/ctxbio/scdata.py\u001b[0m in \u001b[0;36mqplot\u001b[0;34m(self, q, ncols, mat, representation, **kwargs)\u001b[0m\n\u001b[1;32m    412\u001b[0m             \u001b[0;32mreturn\u001b[0m\u001b[0;34m\u001b[0m\u001b[0;34m\u001b[0m\u001b[0m\n\u001b[1;32m    413\u001b[0m \u001b[0;34m\u001b[0m\u001b[0m\n\u001b[0;32m--> 414\u001b[0;31m         \u001b[0;32mreturn\u001b[0m \u001b[0mqplot\u001b[0m\u001b[0;34m(\u001b[0m\u001b[0mcoords\u001b[0m\u001b[0;34m,\u001b[0m \u001b[0mdata\u001b[0m\u001b[0;34m,\u001b[0m \u001b[0mnames\u001b[0m\u001b[0;34m=\u001b[0m\u001b[0mkwargs\u001b[0m\u001b[0;34m.\u001b[0m\u001b[0mpop\u001b[0m\u001b[0;34m(\u001b[0m\u001b[0;34m\"names\"\u001b[0m\u001b[0;34m,\u001b[0m \u001b[0mq\u001b[0m\u001b[0;34m)\u001b[0m\u001b[0;34m,\u001b[0m \u001b[0mncols\u001b[0m\u001b[0;34m=\u001b[0m\u001b[0mncols\u001b[0m\u001b[0;34m,\u001b[0m \u001b[0;34m**\u001b[0m\u001b[0mkwargs\u001b[0m\u001b[0;34m)\u001b[0m\u001b[0;34m\u001b[0m\u001b[0;34m\u001b[0m\u001b[0m\n\u001b[0m\u001b[1;32m    415\u001b[0m \u001b[0;34m\u001b[0m\u001b[0m\n\u001b[1;32m    416\u001b[0m     \u001b[0;32mdef\u001b[0m \u001b[0mcatplot\u001b[0m\u001b[0;34m(\u001b[0m\u001b[0mself\u001b[0m\u001b[0;34m,\u001b[0m \u001b[0mcat\u001b[0m\u001b[0;34m,\u001b[0m \u001b[0mncols\u001b[0m\u001b[0;34m=\u001b[0m\u001b[0;36m4\u001b[0m\u001b[0;34m,\u001b[0m \u001b[0mfacet\u001b[0m\u001b[0;34m=\u001b[0m\u001b[0;32mTrue\u001b[0m\u001b[0;34m,\u001b[0m \u001b[0mrepresentation\u001b[0m\u001b[0;34m=\u001b[0m\u001b[0;32mNone\u001b[0m\u001b[0;34m,\u001b[0m \u001b[0mdolabel\u001b[0m\u001b[0;34m=\u001b[0m\u001b[0;32mFalse\u001b[0m\u001b[0;34m,\u001b[0m \u001b[0;34m**\u001b[0m\u001b[0mkwargs\u001b[0m\u001b[0;34m)\u001b[0m\u001b[0;34m:\u001b[0m\u001b[0;34m\u001b[0m\u001b[0;34m\u001b[0m\u001b[0m\n",
      "\u001b[0;32m~/ctxbio/ctxbio/plot/plot.py\u001b[0m in \u001b[0;36mfn\u001b[0;34m(*args, **kwargs)\u001b[0m\n\u001b[1;32m     45\u001b[0m         \u001b[0;31m# get the value from OPTIONS at runtime\u001b[0m\u001b[0;34m\u001b[0m\u001b[0;34m\u001b[0m\u001b[0;34m\u001b[0m\u001b[0m\n\u001b[1;32m     46\u001b[0m         \u001b[0mcur_values\u001b[0m \u001b[0;34m=\u001b[0m \u001b[0;34m{\u001b[0m\u001b[0mparam_name\u001b[0m\u001b[0;34m:\u001b[0m \u001b[0mOPTIONS\u001b[0m\u001b[0;34m[\u001b[0m\u001b[0mopt_name\u001b[0m\u001b[0;34m]\u001b[0m \u001b[0;32mfor\u001b[0m \u001b[0mparam_name\u001b[0m\u001b[0;34m,\u001b[0m \u001b[0mopt_name\u001b[0m \u001b[0;32min\u001b[0m \u001b[0mcur_opts\u001b[0m\u001b[0;34m}\u001b[0m\u001b[0;34m\u001b[0m\u001b[0;34m\u001b[0m\u001b[0m\n\u001b[0;32m---> 47\u001b[0;31m         \u001b[0;32mreturn\u001b[0m \u001b[0mfunction\u001b[0m\u001b[0;34m(\u001b[0m\u001b[0;34m*\u001b[0m\u001b[0margs\u001b[0m\u001b[0;34m,\u001b[0m \u001b[0;34m**\u001b[0m\u001b[0;34m{\u001b[0m\u001b[0;34m**\u001b[0m\u001b[0mcur_values\u001b[0m\u001b[0;34m,\u001b[0m \u001b[0;34m**\u001b[0m\u001b[0mkwargs\u001b[0m\u001b[0;34m}\u001b[0m\u001b[0;34m)\u001b[0m\u001b[0;34m\u001b[0m\u001b[0;34m\u001b[0m\u001b[0m\n\u001b[0m\u001b[1;32m     48\u001b[0m \u001b[0;34m\u001b[0m\u001b[0m\n\u001b[1;32m     49\u001b[0m     \u001b[0;32mreturn\u001b[0m \u001b[0mfn\u001b[0m\u001b[0;34m\u001b[0m\u001b[0;34m\u001b[0m\u001b[0m\n",
      "\u001b[0;32m~/ctxbio/ctxbio/plot/plot.py\u001b[0m in \u001b[0;36mqplot\u001b[0;34m(coords, q, scale, names, ncols, vaex, percentile, vmin, vmax, **kwargs)\u001b[0m\n\u001b[1;32m    447\u001b[0m             \u001b[0mcurq\u001b[0m\u001b[0;34m[\u001b[0m\u001b[0mcurq\u001b[0m \u001b[0;34m>\u001b[0m \u001b[0mvmax\u001b[0m\u001b[0;34m]\u001b[0m \u001b[0;34m=\u001b[0m \u001b[0mvmax\u001b[0m\u001b[0;34m\u001b[0m\u001b[0;34m\u001b[0m\u001b[0m\n\u001b[1;32m    448\u001b[0m \u001b[0;34m\u001b[0m\u001b[0m\n\u001b[0;32m--> 449\u001b[0;31m         \u001b[0m_qplot1\u001b[0m\u001b[0;34m(\u001b[0m\u001b[0mcoords\u001b[0m\u001b[0;34m,\u001b[0m \u001b[0mcurq\u001b[0m\u001b[0;34m,\u001b[0m \u001b[0max\u001b[0m\u001b[0;34m=\u001b[0m\u001b[0max\u001b[0m\u001b[0;34m,\u001b[0m \u001b[0mname\u001b[0m\u001b[0;34m=\u001b[0m\u001b[0mcur_name\u001b[0m\u001b[0;34m,\u001b[0m \u001b[0mvaex\u001b[0m\u001b[0;34m=\u001b[0m\u001b[0mvaex\u001b[0m\u001b[0;34m,\u001b[0m \u001b[0mvmin\u001b[0m\u001b[0;34m=\u001b[0m\u001b[0mcmap_vmin\u001b[0m\u001b[0;34m,\u001b[0m \u001b[0;34m**\u001b[0m\u001b[0mkwargs\u001b[0m\u001b[0;34m)\u001b[0m\u001b[0;34m\u001b[0m\u001b[0;34m\u001b[0m\u001b[0m\n\u001b[0m\u001b[1;32m    450\u001b[0m \u001b[0;34m\u001b[0m\u001b[0m\n\u001b[1;32m    451\u001b[0m     \u001b[0mprint\u001b[0m\u001b[0;34m(\u001b[0m\u001b[0;34m\"\"\u001b[0m\u001b[0;34m)\u001b[0m\u001b[0;34m\u001b[0m\u001b[0;34m\u001b[0m\u001b[0m\n",
      "\u001b[0;32m~/ctxbio/ctxbio/plot/plot.py\u001b[0m in \u001b[0;36m_qplot1\u001b[0;34m(coords, z, ax, pointsize, name, units, vaex, **kwdargs)\u001b[0m\n\u001b[1;32m    607\u001b[0m     \u001b[0mmat\u001b[0m \u001b[0;34m=\u001b[0m \u001b[0mpd\u001b[0m\u001b[0;34m.\u001b[0m\u001b[0mDataFrame\u001b[0m\u001b[0;34m(\u001b[0m\u001b[0;34m{\u001b[0m\u001b[0;34m\"x\"\u001b[0m\u001b[0;34m:\u001b[0m \u001b[0mx\u001b[0m\u001b[0;34m,\u001b[0m \u001b[0;34m\"y\"\u001b[0m\u001b[0;34m:\u001b[0m \u001b[0my\u001b[0m\u001b[0;34m,\u001b[0m \u001b[0;34m\"z\"\u001b[0m\u001b[0;34m:\u001b[0m \u001b[0mz\u001b[0m\u001b[0;34m.\u001b[0m\u001b[0mravel\u001b[0m\u001b[0;34m(\u001b[0m\u001b[0;34m)\u001b[0m\u001b[0;34m}\u001b[0m\u001b[0;34m)\u001b[0m\u001b[0;34m\u001b[0m\u001b[0;34m\u001b[0m\u001b[0m\n\u001b[1;32m    608\u001b[0m     \u001b[0;32mif\u001b[0m \u001b[0mnp\u001b[0m\u001b[0;34m.\u001b[0m\u001b[0misnan\u001b[0m\u001b[0;34m(\u001b[0m\u001b[0mmat\u001b[0m\u001b[0;34m.\u001b[0m\u001b[0mz\u001b[0m\u001b[0;34m)\u001b[0m\u001b[0;34m.\u001b[0m\u001b[0many\u001b[0m\u001b[0;34m(\u001b[0m\u001b[0;34m)\u001b[0m\u001b[0;34m:\u001b[0m\u001b[0;34m\u001b[0m\u001b[0;34m\u001b[0m\u001b[0m\n\u001b[0;32m--> 609\u001b[0;31m         \u001b[0m_scatter\u001b[0m \u001b[0;34m=\u001b[0m \u001b[0mscatter\u001b[0m\u001b[0;34m(\u001b[0m\u001b[0mx\u001b[0m\u001b[0;34m,\u001b[0m \u001b[0my\u001b[0m\u001b[0;34m,\u001b[0m \u001b[0mcolor\u001b[0m\u001b[0;34m=\u001b[0m\u001b[0;34m\"0.85\"\u001b[0m\u001b[0;34m,\u001b[0m \u001b[0max\u001b[0m\u001b[0;34m=\u001b[0m\u001b[0max\u001b[0m\u001b[0;34m,\u001b[0m \u001b[0msquare\u001b[0m\u001b[0;34m=\u001b[0m\u001b[0;32mTrue\u001b[0m\u001b[0;34m,\u001b[0m \u001b[0ms\u001b[0m\u001b[0;34m=\u001b[0m\u001b[0mpointsize\u001b[0m\u001b[0;34m,\u001b[0m \u001b[0mvaex\u001b[0m\u001b[0;34m=\u001b[0m\u001b[0mvaex\u001b[0m\u001b[0;34m)\u001b[0m\u001b[0;34m\u001b[0m\u001b[0;34m\u001b[0m\u001b[0m\n\u001b[0m\u001b[1;32m    610\u001b[0m \u001b[0;34m\u001b[0m\u001b[0m\n\u001b[1;32m    611\u001b[0m         \u001b[0mmat\u001b[0m \u001b[0;34m=\u001b[0m \u001b[0mmat\u001b[0m\u001b[0;34m.\u001b[0m\u001b[0mdropna\u001b[0m\u001b[0;34m(\u001b[0m\u001b[0msubset\u001b[0m\u001b[0;34m=\u001b[0m\u001b[0;34m[\u001b[0m\u001b[0;34m\"z\"\u001b[0m\u001b[0;34m]\u001b[0m\u001b[0;34m)\u001b[0m\u001b[0;34m\u001b[0m\u001b[0;34m\u001b[0m\u001b[0m\n",
      "\u001b[0;32m~/ctxbio/ctxbio/plot/plot.py\u001b[0m in \u001b[0;36mfn\u001b[0;34m(*args, **kwargs)\u001b[0m\n\u001b[1;32m     45\u001b[0m         \u001b[0;31m# get the value from OPTIONS at runtime\u001b[0m\u001b[0;34m\u001b[0m\u001b[0;34m\u001b[0m\u001b[0;34m\u001b[0m\u001b[0m\n\u001b[1;32m     46\u001b[0m         \u001b[0mcur_values\u001b[0m \u001b[0;34m=\u001b[0m \u001b[0;34m{\u001b[0m\u001b[0mparam_name\u001b[0m\u001b[0;34m:\u001b[0m \u001b[0mOPTIONS\u001b[0m\u001b[0;34m[\u001b[0m\u001b[0mopt_name\u001b[0m\u001b[0;34m]\u001b[0m \u001b[0;32mfor\u001b[0m \u001b[0mparam_name\u001b[0m\u001b[0;34m,\u001b[0m \u001b[0mopt_name\u001b[0m \u001b[0;32min\u001b[0m \u001b[0mcur_opts\u001b[0m\u001b[0;34m}\u001b[0m\u001b[0;34m\u001b[0m\u001b[0;34m\u001b[0m\u001b[0m\n\u001b[0;32m---> 47\u001b[0;31m         \u001b[0;32mreturn\u001b[0m \u001b[0mfunction\u001b[0m\u001b[0;34m(\u001b[0m\u001b[0;34m*\u001b[0m\u001b[0margs\u001b[0m\u001b[0;34m,\u001b[0m \u001b[0;34m**\u001b[0m\u001b[0;34m{\u001b[0m\u001b[0;34m**\u001b[0m\u001b[0mcur_values\u001b[0m\u001b[0;34m,\u001b[0m \u001b[0;34m**\u001b[0m\u001b[0mkwargs\u001b[0m\u001b[0;34m}\u001b[0m\u001b[0;34m)\u001b[0m\u001b[0;34m\u001b[0m\u001b[0;34m\u001b[0m\u001b[0m\n\u001b[0m\u001b[1;32m     48\u001b[0m \u001b[0;34m\u001b[0m\u001b[0m\n\u001b[1;32m     49\u001b[0m     \u001b[0;32mreturn\u001b[0m \u001b[0mfn\u001b[0m\u001b[0;34m\u001b[0m\u001b[0;34m\u001b[0m\u001b[0m\n",
      "\u001b[0;32m~/ctxbio/ctxbio/plot/plot.py\u001b[0m in \u001b[0;36mscatter\u001b[0;34m(x, y, label, color, ax, xlabel, ylabel, title, square, legend, vaex, vaex_grid_size, **kwdargs)\u001b[0m\n\u001b[1;32m    244\u001b[0m     \u001b[0;32mif\u001b[0m \u001b[0mlabel\u001b[0m \u001b[0;32mis\u001b[0m \u001b[0;32mNone\u001b[0m\u001b[0;34m:\u001b[0m\u001b[0;34m\u001b[0m\u001b[0;34m\u001b[0m\u001b[0m\n\u001b[1;32m    245\u001b[0m         obj = _scatter(\n\u001b[0;32m--> 246\u001b[0;31m             \u001b[0mx\u001b[0m\u001b[0;34m,\u001b[0m \u001b[0my\u001b[0m\u001b[0;34m,\u001b[0m \u001b[0mcolor\u001b[0m\u001b[0;34m=\u001b[0m\u001b[0mcolor\u001b[0m\u001b[0;34m,\u001b[0m \u001b[0max\u001b[0m\u001b[0;34m=\u001b[0m\u001b[0max\u001b[0m\u001b[0;34m,\u001b[0m \u001b[0mvaex\u001b[0m\u001b[0;34m=\u001b[0m\u001b[0mvaex\u001b[0m\u001b[0;34m,\u001b[0m \u001b[0mvaex_grid_size\u001b[0m\u001b[0;34m=\u001b[0m\u001b[0mvaex_grid_size\u001b[0m\u001b[0;34m,\u001b[0m \u001b[0;34m**\u001b[0m\u001b[0mkwdargs\u001b[0m\u001b[0;34m\u001b[0m\u001b[0;34m\u001b[0m\u001b[0m\n\u001b[0m\u001b[1;32m    247\u001b[0m         )\n\u001b[1;32m    248\u001b[0m     \u001b[0;32melse\u001b[0m\u001b[0;34m:\u001b[0m\u001b[0;34m\u001b[0m\u001b[0;34m\u001b[0m\u001b[0m\n",
      "\u001b[0;32m~/ctxbio/ctxbio/plot/plot.py\u001b[0m in \u001b[0;36m_scatter\u001b[0;34m(x, y, ax, color, vaex, vaex_grid_size, **kwdargs)\u001b[0m\n\u001b[1;32m    284\u001b[0m         \u001b[0;32mreturn\u001b[0m \u001b[0max\u001b[0m\u001b[0;34m.\u001b[0m\u001b[0mscatter\u001b[0m\u001b[0;34m(\u001b[0m\u001b[0mx\u001b[0m\u001b[0;34m,\u001b[0m \u001b[0my\u001b[0m\u001b[0;34m,\u001b[0m \u001b[0mc\u001b[0m\u001b[0;34m=\u001b[0m\u001b[0mcolor\u001b[0m\u001b[0;34m,\u001b[0m \u001b[0;34m**\u001b[0m\u001b[0mkwdargs\u001b[0m\u001b[0;34m)\u001b[0m\u001b[0;34m\u001b[0m\u001b[0;34m\u001b[0m\u001b[0m\n\u001b[1;32m    285\u001b[0m     \u001b[0;32melse\u001b[0m\u001b[0;34m:\u001b[0m\u001b[0;34m\u001b[0m\u001b[0;34m\u001b[0m\u001b[0m\n\u001b[0;32m--> 286\u001b[0;31m         \u001b[0;32mimport\u001b[0m \u001b[0mvaex\u001b[0m\u001b[0;34m\u001b[0m\u001b[0;34m\u001b[0m\u001b[0m\n\u001b[0m\u001b[1;32m    287\u001b[0m \u001b[0;34m\u001b[0m\u001b[0m\n\u001b[1;32m    288\u001b[0m         \u001b[0mdf\u001b[0m \u001b[0;34m=\u001b[0m \u001b[0mvaex\u001b[0m\u001b[0;34m.\u001b[0m\u001b[0mfrom_arrays\u001b[0m\u001b[0;34m(\u001b[0m\u001b[0mx\u001b[0m\u001b[0;34m=\u001b[0m\u001b[0mx\u001b[0m\u001b[0;34m,\u001b[0m \u001b[0my\u001b[0m\u001b[0;34m=\u001b[0m\u001b[0my\u001b[0m\u001b[0;34m)\u001b[0m\u001b[0;34m\u001b[0m\u001b[0;34m\u001b[0m\u001b[0m\n",
      "\u001b[0;32m~/benchmark/env/lib/python3.7/site-packages/vaex/__init__.py\u001b[0m in \u001b[0;36m<module>\u001b[0;34m\u001b[0m\n\u001b[1;32m     35\u001b[0m \u001b[0;32mfrom\u001b[0m \u001b[0m__future__\u001b[0m \u001b[0;32mimport\u001b[0m \u001b[0mprint_function\u001b[0m\u001b[0;34m\u001b[0m\u001b[0;34m\u001b[0m\u001b[0m\n\u001b[1;32m     36\u001b[0m \u001b[0;32mimport\u001b[0m \u001b[0mglob\u001b[0m\u001b[0;34m\u001b[0m\u001b[0;34m\u001b[0m\u001b[0m\n\u001b[0;32m---> 37\u001b[0;31m \u001b[0;32mimport\u001b[0m \u001b[0mvaex\u001b[0m\u001b[0;34m.\u001b[0m\u001b[0mdataframe\u001b[0m\u001b[0;34m\u001b[0m\u001b[0;34m\u001b[0m\u001b[0m\n\u001b[0m\u001b[1;32m     38\u001b[0m \u001b[0;32mimport\u001b[0m \u001b[0mvaex\u001b[0m\u001b[0;34m.\u001b[0m\u001b[0mdataset\u001b[0m\u001b[0;34m\u001b[0m\u001b[0;34m\u001b[0m\u001b[0m\n\u001b[1;32m     39\u001b[0m \u001b[0;32mfrom\u001b[0m \u001b[0mvaex\u001b[0m\u001b[0;34m.\u001b[0m\u001b[0mfunctions\u001b[0m \u001b[0;32mimport\u001b[0m \u001b[0mregister_function\u001b[0m\u001b[0;34m\u001b[0m\u001b[0;34m\u001b[0m\u001b[0m\n",
      "\u001b[0;32m~/benchmark/env/lib/python3.7/site-packages/vaex/dataframe.py\u001b[0m in \u001b[0;36m<module>\u001b[0;34m\u001b[0m\n\u001b[1;32m     31\u001b[0m \u001b[0;32mimport\u001b[0m \u001b[0mlogging\u001b[0m\u001b[0;34m\u001b[0m\u001b[0;34m\u001b[0m\u001b[0m\n\u001b[1;32m     32\u001b[0m \u001b[0;32mimport\u001b[0m \u001b[0mvaex\u001b[0m\u001b[0;34m.\u001b[0m\u001b[0mkld\u001b[0m\u001b[0;34m\u001b[0m\u001b[0;34m\u001b[0m\u001b[0m\n\u001b[0;32m---> 33\u001b[0;31m \u001b[0;32mfrom\u001b[0m \u001b[0;34m.\u001b[0m \u001b[0;32mimport\u001b[0m \u001b[0mselections\u001b[0m\u001b[0;34m,\u001b[0m \u001b[0mtasks\u001b[0m\u001b[0;34m,\u001b[0m \u001b[0mscopes\u001b[0m\u001b[0;34m\u001b[0m\u001b[0;34m\u001b[0m\u001b[0m\n\u001b[0m\u001b[1;32m     34\u001b[0m \u001b[0;32mfrom\u001b[0m \u001b[0;34m.\u001b[0m\u001b[0mexpression\u001b[0m \u001b[0;32mimport\u001b[0m \u001b[0mexpression_namespace\u001b[0m\u001b[0;34m\u001b[0m\u001b[0;34m\u001b[0m\u001b[0m\n\u001b[1;32m     35\u001b[0m \u001b[0;32mfrom\u001b[0m \u001b[0;34m.\u001b[0m\u001b[0mdelayed\u001b[0m \u001b[0;32mimport\u001b[0m \u001b[0mdelayed\u001b[0m\u001b[0;34m,\u001b[0m \u001b[0mdelayed_args\u001b[0m\u001b[0;34m,\u001b[0m \u001b[0mdelayed_list\u001b[0m\u001b[0;34m\u001b[0m\u001b[0;34m\u001b[0m\u001b[0m\n",
      "\u001b[0;32m~/benchmark/env/lib/python3.7/site-packages/vaex/selections.py\u001b[0m in \u001b[0;36m<module>\u001b[0;34m\u001b[0m\n\u001b[1;32m      2\u001b[0m \u001b[0;32mimport\u001b[0m \u001b[0mnumpy\u001b[0m \u001b[0;32mas\u001b[0m \u001b[0mnp\u001b[0m\u001b[0;34m\u001b[0m\u001b[0;34m\u001b[0m\u001b[0m\n\u001b[1;32m      3\u001b[0m \u001b[0;34m\u001b[0m\u001b[0m\n\u001b[0;32m----> 4\u001b[0;31m \u001b[0;32mimport\u001b[0m \u001b[0mvaex\u001b[0m\u001b[0;34m.\u001b[0m\u001b[0mexpression\u001b[0m\u001b[0;34m\u001b[0m\u001b[0;34m\u001b[0m\u001b[0m\n\u001b[0m\u001b[1;32m      5\u001b[0m \u001b[0;32mfrom\u001b[0m \u001b[0;34m.\u001b[0m\u001b[0mutils\u001b[0m \u001b[0;32mimport\u001b[0m \u001b[0m_split_and_combine_mask\u001b[0m\u001b[0;34m,\u001b[0m \u001b[0mas_flat_float\u001b[0m\u001b[0;34m\u001b[0m\u001b[0;34m\u001b[0m\u001b[0m\n\u001b[1;32m      6\u001b[0m \u001b[0;34m\u001b[0m\u001b[0m\n",
      "\u001b[0;32m~/benchmark/env/lib/python3.7/site-packages/vaex/expression.py\u001b[0m in \u001b[0;36m<module>\u001b[0;34m\u001b[0m\n\u001b[1;32m     10\u001b[0m \u001b[0;34m\u001b[0m\u001b[0m\n\u001b[1;32m     11\u001b[0m \u001b[0;32mfrom\u001b[0m \u001b[0mvaex\u001b[0m\u001b[0;34m.\u001b[0m\u001b[0mutils\u001b[0m \u001b[0;32mimport\u001b[0m \u001b[0m_ensure_strings_from_expressions\u001b[0m\u001b[0;34m,\u001b[0m \u001b[0m_ensure_string_from_expression\u001b[0m\u001b[0;34m\u001b[0m\u001b[0;34m\u001b[0m\u001b[0m\n\u001b[0;32m---> 12\u001b[0;31m \u001b[0;32mfrom\u001b[0m \u001b[0mvaex\u001b[0m\u001b[0;34m.\u001b[0m\u001b[0mcolumn\u001b[0m \u001b[0;32mimport\u001b[0m \u001b[0mColumnString\u001b[0m\u001b[0;34m\u001b[0m\u001b[0;34m\u001b[0m\u001b[0m\n\u001b[0m\u001b[1;32m     13\u001b[0m \u001b[0;32mimport\u001b[0m \u001b[0mvaex\u001b[0m\u001b[0;34m.\u001b[0m\u001b[0mserialize\u001b[0m\u001b[0;34m\u001b[0m\u001b[0;34m\u001b[0m\u001b[0m\n\u001b[1;32m     14\u001b[0m \u001b[0;32mfrom\u001b[0m \u001b[0;34m.\u001b[0m \u001b[0;32mimport\u001b[0m \u001b[0mexpresso\u001b[0m\u001b[0;34m\u001b[0m\u001b[0;34m\u001b[0m\u001b[0m\n",
      "\u001b[0;32m~/benchmark/env/lib/python3.7/site-packages/vaex/column.py\u001b[0m in \u001b[0;36m<module>\u001b[0;34m\u001b[0m\n\u001b[1;32m      4\u001b[0m \u001b[0;32mimport\u001b[0m \u001b[0mnumpy\u001b[0m \u001b[0;32mas\u001b[0m \u001b[0mnp\u001b[0m\u001b[0;34m\u001b[0m\u001b[0;34m\u001b[0m\u001b[0m\n\u001b[1;32m      5\u001b[0m \u001b[0;34m\u001b[0m\u001b[0m\n\u001b[0;32m----> 6\u001b[0;31m \u001b[0;32mimport\u001b[0m \u001b[0mvaex\u001b[0m\u001b[0;34m.\u001b[0m\u001b[0mstrings\u001b[0m\u001b[0;34m\u001b[0m\u001b[0;34m\u001b[0m\u001b[0m\n\u001b[0m\u001b[1;32m      7\u001b[0m \u001b[0;34m\u001b[0m\u001b[0m\n\u001b[1;32m      8\u001b[0m \u001b[0;34m\u001b[0m\u001b[0m\n",
      "\u001b[0;31mImportError\u001b[0m: /home/ssmith/benchmark/env/lib/python3.7/site-packages/vaex/strings.cpython-37m-x86_64-linux-gnu.so: undefined symbol: _ZNSt14regex_iteratorIN9__gnu_cxx17__normal_iteratorIPKcSsEEcSt12regex_traitsIcEEC1Ev"
     ]
    }
   ],
   "source": [
    "reprocessed.qplot(\"PTPRC\", vaex=True, pointsize=1, scale=1.5)"
   ]
  },
  {
   "cell_type": "code",
   "execution_count": null,
   "metadata": {
    "execution": {
     "iopub.execute_input": "2020-03-04T22:09:50.261305Z",
     "iopub.status.busy": "2020-03-04T22:09:50.260954Z",
     "iopub.status.idle": "2020-03-04T22:09:51.743134Z",
     "shell.execute_reply": "2020-03-04T22:09:51.742308Z",
     "shell.execute_reply.started": "2020-03-04T22:09:50.261257Z"
    }
   },
   "outputs": [],
   "source": [
    "_, ax = plt.subplots(figsize=(8,8))\n",
    "reprocessed.catplot(\"clusters\", vaex=True, ax=ax, facet=False)"
   ]
  },
  {
   "cell_type": "code",
   "execution_count": null,
   "metadata": {},
   "outputs": [],
   "source": []
  },
  {
   "cell_type": "markdown",
   "metadata": {},
   "source": [
    "One thing we do frequently is zoom in on a subset of cells by retraining our dimensionality reduction functions on only that subset of cells (eg T cells or endothelial cells). Then, we'd like to carry annotations made in those subviews back to the main dataset."
   ]
  },
  {
   "cell_type": "code",
   "execution_count": null,
   "metadata": {
    "execution": {
     "iopub.execute_input": "2020-03-04T22:12:34.912951Z",
     "iopub.status.busy": "2020-03-04T22:12:34.912609Z",
     "iopub.status.idle": "2020-03-04T22:14:29.372523Z",
     "shell.execute_reply": "2020-03-04T22:14:29.371749Z",
     "shell.execute_reply.started": "2020-03-04T22:12:34.912905Z"
    }
   },
   "outputs": [],
   "source": [
    "cluster2_adata = reprocessed[reprocessed.obs.query(\"clusters=='12'\").index].reprocess()"
   ]
  },
  {
   "cell_type": "code",
   "execution_count": null,
   "metadata": {
    "execution": {
     "iopub.execute_input": "2020-03-04T22:15:18.687595Z",
     "iopub.status.busy": "2020-03-04T22:15:18.687256Z",
     "iopub.status.idle": "2020-03-04T22:15:21.635991Z",
     "shell.execute_reply": "2020-03-04T22:15:21.635358Z",
     "shell.execute_reply.started": "2020-03-04T22:15:18.687550Z"
    }
   },
   "outputs": [],
   "source": [
    "cluster2_adata.catplot(\"clusters\")"
   ]
  },
  {
   "cell_type": "code",
   "execution_count": null,
   "metadata": {
    "execution": {
     "iopub.execute_input": "2020-03-04T22:15:32.530253Z",
     "iopub.status.busy": "2020-03-04T22:15:32.529916Z",
     "iopub.status.idle": "2020-03-04T22:15:34.462177Z",
     "shell.execute_reply": "2020-03-04T22:15:34.461389Z",
     "shell.execute_reply.started": "2020-03-04T22:15:32.530207Z"
    }
   },
   "outputs": [],
   "source": [
    "cluster2_adata.diff_exp().head(10)"
   ]
  },
  {
   "cell_type": "code",
   "execution_count": null,
   "metadata": {
    "execution": {
     "iopub.execute_input": "2020-03-04T22:17:24.380068Z",
     "iopub.status.busy": "2020-03-04T22:17:24.379719Z",
     "iopub.status.idle": "2020-03-04T22:17:24.388011Z",
     "shell.execute_reply": "2020-03-04T22:17:24.387373Z",
     "shell.execute_reply.started": "2020-03-04T22:17:24.380019Z"
    }
   },
   "outputs": [],
   "source": [
    "cluster2_adata.assign_labels(\"clusters\", \"cell_type\", {\n",
    "    (\"0\",\"1\",\"2\"):\"Cell Type X\",\n",
    "    (\"3\",\"4\",\"5\"):\"Cell Type Y\",\n",
    "    (\"6\",\"7\"):\"Cell Type Z\",\n",
    "    \"8\":\"W Cells\"\n",
    "})"
   ]
  },
  {
   "cell_type": "code",
   "execution_count": null,
   "metadata": {
    "execution": {
     "iopub.execute_input": "2020-03-04T22:17:33.131163Z",
     "iopub.status.busy": "2020-03-04T22:17:33.130810Z",
     "iopub.status.idle": "2020-03-04T22:17:34.356454Z",
     "shell.execute_reply": "2020-03-04T22:17:34.355730Z",
     "shell.execute_reply.started": "2020-03-04T22:17:33.131115Z"
    }
   },
   "outputs": [],
   "source": [
    "cluster2_adata.catplot(\"cell_type\")"
   ]
  },
  {
   "cell_type": "code",
   "execution_count": null,
   "metadata": {
    "execution": {
     "iopub.execute_input": "2020-03-04T22:18:24.522413Z",
     "iopub.status.busy": "2020-03-04T22:18:24.522083Z",
     "iopub.status.idle": "2020-03-04T22:18:24.536430Z",
     "shell.execute_reply": "2020-03-04T22:18:24.535823Z",
     "shell.execute_reply.started": "2020-03-04T22:18:24.522368Z"
    }
   },
   "outputs": [],
   "source": [
    "reprocessed.obs[\"cell_type\"] = \"Unknown\"\n",
    "reprocessed.obs.loc[cluster2_adata.obs_names, \"cell_type\"] = cluster2_adata.obs[\"cell_type\"]"
   ]
  },
  {
   "cell_type": "code",
   "execution_count": null,
   "metadata": {
    "execution": {
     "iopub.execute_input": "2020-03-04T22:18:42.477872Z",
     "iopub.status.busy": "2020-03-04T22:18:42.477502Z",
     "iopub.status.idle": "2020-03-04T22:18:46.883387Z",
     "shell.execute_reply": "2020-03-04T22:18:46.882748Z",
     "shell.execute_reply.started": "2020-03-04T22:18:42.477823Z"
    }
   },
   "outputs": [],
   "source": [
    "reprocessed.catplot(\"cell_type\", vaex=True)"
   ]
  },
  {
   "cell_type": "code",
   "execution_count": null,
   "metadata": {},
   "outputs": [],
   "source": []
  }
 ],
 "metadata": {
  "kernelspec": {
   "display_name": "Python 3",
   "language": "python",
   "name": "python3"
  },
  "language_info": {
   "codemirror_mode": {
    "name": "ipython",
    "version": 3
   },
   "file_extension": ".py",
   "mimetype": "text/x-python",
   "name": "python",
   "nbconvert_exporter": "python",
   "pygments_lexer": "ipython3",
   "version": "3.7.4"
  },
  "record_timing": true
 },
 "nbformat": 4,
 "nbformat_minor": 4
}
